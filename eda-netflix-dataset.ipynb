{
 "cells": [
  {
   "cell_type": "markdown",
   "id": "e438ba58",
   "metadata": {
    "_cell_guid": "b1076dfc-b9ad-4769-8c92-a6c4dae69d19",
    "_uuid": "8f2839f25d086af736a60e9eeb907d3b93b6e0e5",
    "papermill": {
     "duration": 0.020904,
     "end_time": "2023-08-27T18:51:33.959165",
     "exception": false,
     "start_time": "2023-08-27T18:51:33.938261",
     "status": "completed"
    },
    "tags": []
   },
   "source": [
    "# Table of Content\n",
    "* [Reading and Inspecting Data](#reading)\n",
    "* [Data Cleaning](#data_cleaning)\n",
    "    * [Handling Missing values](#handling_missing_values)\n",
    "    * [Standadization](#standardization)\n",
    "* [Unvariate Analysis](#univariate_analysis)\n",
    "* [Bivariate Analysis](#bivariate_analysis)\n",
    "* [Summary](#summary)"
   ]
  },
  {
   "cell_type": "markdown",
   "id": "3f64d3a0",
   "metadata": {
    "execution": {
     "iopub.execute_input": "2023-08-27T18:37:45.505324Z",
     "iopub.status.busy": "2023-08-27T18:37:45.504878Z",
     "iopub.status.idle": "2023-08-27T18:37:45.510742Z",
     "shell.execute_reply": "2023-08-27T18:37:45.509324Z",
     "shell.execute_reply.started": "2023-08-27T18:37:45.505287Z"
    },
    "papermill": {
     "duration": 0.020383,
     "end_time": "2023-08-27T18:51:34.001045",
     "exception": false,
     "start_time": "2023-08-27T18:51:33.980662",
     "status": "completed"
    },
    "tags": []
   },
   "source": [
    "# Reading and Inspecting Data"
   ]
  },
  {
   "cell_type": "code",
   "execution_count": 76,
   "id": "a0c62d64",
   "metadata": {
    "execution": {
     "iopub.execute_input": "2023-08-27T18:51:34.044719Z",
     "iopub.status.busy": "2023-08-27T18:51:34.043854Z",
     "iopub.status.idle": "2023-08-27T18:51:35.380099Z",
     "shell.execute_reply": "2023-08-27T18:51:35.379274Z"
    },
    "papermill": {
     "duration": 1.360813,
     "end_time": "2023-08-27T18:51:35.382523",
     "exception": false,
     "start_time": "2023-08-27T18:51:34.021710",
     "status": "completed"
    },
    "tags": []
   },
   "outputs": [],
   "source": [
    "import pandas as pd\n",
    "import numpy as np\n",
    "import matplotlib.pyplot as plt\n",
    "import seaborn as sns\n",
    "import warnings\n",
    "warnings.filterwarnings('ignore')\n",
    "sns.set()"
   ]
  },
  {
   "cell_type": "code",
   "execution_count": 77,
   "id": "68899975",
   "metadata": {
    "execution": {
     "iopub.execute_input": "2023-08-27T18:51:35.426438Z",
     "iopub.status.busy": "2023-08-27T18:51:35.425763Z",
     "iopub.status.idle": "2023-08-27T18:51:35.605914Z",
     "shell.execute_reply": "2023-08-27T18:51:35.604889Z"
    },
    "papermill": {
     "duration": 0.205239,
     "end_time": "2023-08-27T18:51:35.608445",
     "exception": false,
     "start_time": "2023-08-27T18:51:35.403206",
     "status": "completed"
    },
    "tags": []
   },
   "outputs": [
    {
     "data": {
      "text/html": [
       "<div>\n",
       "<style scoped>\n",
       "    .dataframe tbody tr th:only-of-type {\n",
       "        vertical-align: middle;\n",
       "    }\n",
       "\n",
       "    .dataframe tbody tr th {\n",
       "        vertical-align: top;\n",
       "    }\n",
       "\n",
       "    .dataframe thead th {\n",
       "        text-align: right;\n",
       "    }\n",
       "</style>\n",
       "<table border=\"1\" class=\"dataframe\">\n",
       "  <thead>\n",
       "    <tr style=\"text-align: right;\">\n",
       "      <th></th>\n",
       "      <th>show_id</th>\n",
       "      <th>type</th>\n",
       "      <th>title</th>\n",
       "      <th>director</th>\n",
       "      <th>cast</th>\n",
       "      <th>country</th>\n",
       "      <th>date_added</th>\n",
       "      <th>release_year</th>\n",
       "      <th>rating</th>\n",
       "      <th>duration</th>\n",
       "      <th>listed_in</th>\n",
       "      <th>description</th>\n",
       "    </tr>\n",
       "  </thead>\n",
       "  <tbody>\n",
       "    <tr>\n",
       "      <th>0</th>\n",
       "      <td>s1</td>\n",
       "      <td>Movie</td>\n",
       "      <td>Dick Johnson Is Dead</td>\n",
       "      <td>Kirsten Johnson</td>\n",
       "      <td>NaN</td>\n",
       "      <td>United States</td>\n",
       "      <td>September 25, 2021</td>\n",
       "      <td>2020</td>\n",
       "      <td>PG-13</td>\n",
       "      <td>90 min</td>\n",
       "      <td>Documentaries</td>\n",
       "      <td>As her father nears the end of his life, filmm...</td>\n",
       "    </tr>\n",
       "    <tr>\n",
       "      <th>1</th>\n",
       "      <td>s2</td>\n",
       "      <td>TV Show</td>\n",
       "      <td>Blood &amp; Water</td>\n",
       "      <td>NaN</td>\n",
       "      <td>Ama Qamata, Khosi Ngema, Gail Mabalane, Thaban...</td>\n",
       "      <td>South Africa</td>\n",
       "      <td>September 24, 2021</td>\n",
       "      <td>2021</td>\n",
       "      <td>TV-MA</td>\n",
       "      <td>2 Seasons</td>\n",
       "      <td>International TV Shows, TV Dramas, TV Mysteries</td>\n",
       "      <td>After crossing paths at a party, a Cape Town t...</td>\n",
       "    </tr>\n",
       "    <tr>\n",
       "      <th>2</th>\n",
       "      <td>s3</td>\n",
       "      <td>TV Show</td>\n",
       "      <td>Ganglands</td>\n",
       "      <td>Julien Leclercq</td>\n",
       "      <td>Sami Bouajila, Tracy Gotoas, Samuel Jouy, Nabi...</td>\n",
       "      <td>NaN</td>\n",
       "      <td>September 24, 2021</td>\n",
       "      <td>2021</td>\n",
       "      <td>TV-MA</td>\n",
       "      <td>1 Season</td>\n",
       "      <td>Crime TV Shows, International TV Shows, TV Act...</td>\n",
       "      <td>To protect his family from a powerful drug lor...</td>\n",
       "    </tr>\n",
       "    <tr>\n",
       "      <th>3</th>\n",
       "      <td>s4</td>\n",
       "      <td>TV Show</td>\n",
       "      <td>Jailbirds New Orleans</td>\n",
       "      <td>NaN</td>\n",
       "      <td>NaN</td>\n",
       "      <td>NaN</td>\n",
       "      <td>September 24, 2021</td>\n",
       "      <td>2021</td>\n",
       "      <td>TV-MA</td>\n",
       "      <td>1 Season</td>\n",
       "      <td>Docuseries, Reality TV</td>\n",
       "      <td>Feuds, flirtations and toilet talk go down amo...</td>\n",
       "    </tr>\n",
       "    <tr>\n",
       "      <th>4</th>\n",
       "      <td>s5</td>\n",
       "      <td>TV Show</td>\n",
       "      <td>Kota Factory</td>\n",
       "      <td>NaN</td>\n",
       "      <td>Mayur More, Jitendra Kumar, Ranjan Raj, Alam K...</td>\n",
       "      <td>India</td>\n",
       "      <td>September 24, 2021</td>\n",
       "      <td>2021</td>\n",
       "      <td>TV-MA</td>\n",
       "      <td>2 Seasons</td>\n",
       "      <td>International TV Shows, Romantic TV Shows, TV ...</td>\n",
       "      <td>In a city of coaching centers known to train I...</td>\n",
       "    </tr>\n",
       "  </tbody>\n",
       "</table>\n",
       "</div>"
      ],
      "text/plain": [
       "  show_id     type                  title         director  \\\n",
       "0      s1    Movie   Dick Johnson Is Dead  Kirsten Johnson   \n",
       "1      s2  TV Show          Blood & Water              NaN   \n",
       "2      s3  TV Show              Ganglands  Julien Leclercq   \n",
       "3      s4  TV Show  Jailbirds New Orleans              NaN   \n",
       "4      s5  TV Show           Kota Factory              NaN   \n",
       "\n",
       "                                                cast        country  \\\n",
       "0                                                NaN  United States   \n",
       "1  Ama Qamata, Khosi Ngema, Gail Mabalane, Thaban...   South Africa   \n",
       "2  Sami Bouajila, Tracy Gotoas, Samuel Jouy, Nabi...            NaN   \n",
       "3                                                NaN            NaN   \n",
       "4  Mayur More, Jitendra Kumar, Ranjan Raj, Alam K...          India   \n",
       "\n",
       "           date_added  release_year rating   duration  \\\n",
       "0  September 25, 2021          2020  PG-13     90 min   \n",
       "1  September 24, 2021          2021  TV-MA  2 Seasons   \n",
       "2  September 24, 2021          2021  TV-MA   1 Season   \n",
       "3  September 24, 2021          2021  TV-MA   1 Season   \n",
       "4  September 24, 2021          2021  TV-MA  2 Seasons   \n",
       "\n",
       "                                           listed_in  \\\n",
       "0                                      Documentaries   \n",
       "1    International TV Shows, TV Dramas, TV Mysteries   \n",
       "2  Crime TV Shows, International TV Shows, TV Act...   \n",
       "3                             Docuseries, Reality TV   \n",
       "4  International TV Shows, Romantic TV Shows, TV ...   \n",
       "\n",
       "                                         description  \n",
       "0  As her father nears the end of his life, filmm...  \n",
       "1  After crossing paths at a party, a Cape Town t...  \n",
       "2  To protect his family from a powerful drug lor...  \n",
       "3  Feuds, flirtations and toilet talk go down amo...  \n",
       "4  In a city of coaching centers known to train I...  "
      ]
     },
     "execution_count": 77,
     "metadata": {},
     "output_type": "execute_result"
    }
   ],
   "source": [
    "df = pd.read_csv('C://Users/VAK/Desktop/projects/netflix dataset/netflix.csv')\n",
    "df.head()"
   ]
  },
  {
   "cell_type": "markdown",
   "id": "28a5e86e",
   "metadata": {
    "papermill": {
     "duration": 0.020771,
     "end_time": "2023-08-27T18:51:35.650410",
     "exception": false,
     "start_time": "2023-08-27T18:51:35.629639",
     "status": "completed"
    },
    "tags": []
   },
   "source": [
    "The dataset consist of following columns\n",
    "* **show_id:** Gives the information about show id.\n",
    "* **type:** Gives information about 2 different unique values one is TV Show and another is Movie.\n",
    "* **title:** Gives information about the title of Movie or TV Show.\n",
    "* **director:** Gives information about the director who directed the Movie or TV Show.\n",
    "* **cast:** Gives information about the cast who plays role in Movie or TV Show.\n",
    "* **country:** Gives information about the Name of country.\n",
    "* **date_added:** Gives information about the tv shows or movie released.\n",
    "* **release_year:** Gives information about the year when Movie or TV Show was released.\n",
    "* **rating:** Gives information about the Movie or TV Show are in which category (eg like the movies are only for students, or adults, etc).\n",
    "* **duration:** Gives information about the duration of Movie or TV Show.\n",
    "* **listed_in:** Gives information about the genre of Movie or TV Show.\n",
    "* **description:** Gives information about the description of Movie or TV Show."
   ]
  },
  {
   "cell_type": "code",
   "execution_count": 78,
   "id": "ef3d3957",
   "metadata": {
    "execution": {
     "iopub.execute_input": "2023-08-27T18:51:35.694811Z",
     "iopub.status.busy": "2023-08-27T18:51:35.694135Z",
     "iopub.status.idle": "2023-08-27T18:51:35.698907Z",
     "shell.execute_reply": "2023-08-27T18:51:35.698203Z"
    },
    "papermill": {
     "duration": 0.029694,
     "end_time": "2023-08-27T18:51:35.701273",
     "exception": false,
     "start_time": "2023-08-27T18:51:35.671579",
     "status": "completed"
    },
    "tags": []
   },
   "outputs": [
    {
     "name": "stdout",
     "output_type": "stream",
     "text": [
      "Dataset has 8807 rows and 12 columns\n"
     ]
    }
   ],
   "source": [
    "print(f'Dataset has {df.shape[0]} rows and {df.shape[1]} columns')"
   ]
  },
  {
   "cell_type": "code",
   "execution_count": 79,
   "id": "058b3c68",
   "metadata": {
    "execution": {
     "iopub.execute_input": "2023-08-27T18:51:35.746265Z",
     "iopub.status.busy": "2023-08-27T18:51:35.745447Z",
     "iopub.status.idle": "2023-08-27T18:51:35.801336Z",
     "shell.execute_reply": "2023-08-27T18:51:35.799831Z"
    },
    "papermill": {
     "duration": 0.080996,
     "end_time": "2023-08-27T18:51:35.803724",
     "exception": false,
     "start_time": "2023-08-27T18:51:35.722728",
     "status": "completed"
    },
    "scrolled": true,
    "tags": []
   },
   "outputs": [
    {
     "name": "stdout",
     "output_type": "stream",
     "text": [
      "<class 'pandas.core.frame.DataFrame'>\n",
      "RangeIndex: 8807 entries, 0 to 8806\n",
      "Data columns (total 12 columns):\n",
      " #   Column        Non-Null Count  Dtype \n",
      "---  ------        --------------  ----- \n",
      " 0   show_id       8807 non-null   object\n",
      " 1   type          8807 non-null   object\n",
      " 2   title         8807 non-null   object\n",
      " 3   director      6173 non-null   object\n",
      " 4   cast          7982 non-null   object\n",
      " 5   country       7976 non-null   object\n",
      " 6   date_added    8797 non-null   object\n",
      " 7   release_year  8807 non-null   int64 \n",
      " 8   rating        8803 non-null   object\n",
      " 9   duration      8804 non-null   object\n",
      " 10  listed_in     8807 non-null   object\n",
      " 11  description   8807 non-null   object\n",
      "dtypes: int64(1), object(11)\n",
      "memory usage: 825.8+ KB\n"
     ]
    }
   ],
   "source": [
    "df.info()"
   ]
  },
  {
   "cell_type": "code",
   "execution_count": 80,
   "id": "36482c54",
   "metadata": {
    "execution": {
     "iopub.execute_input": "2023-08-27T18:51:35.849350Z",
     "iopub.status.busy": "2023-08-27T18:51:35.847635Z",
     "iopub.status.idle": "2023-08-27T18:51:35.857117Z",
     "shell.execute_reply": "2023-08-27T18:51:35.856057Z"
    },
    "papermill": {
     "duration": 0.035397,
     "end_time": "2023-08-27T18:51:35.859624",
     "exception": false,
     "start_time": "2023-08-27T18:51:35.824227",
     "status": "completed"
    },
    "scrolled": true,
    "tags": []
   },
   "outputs": [
    {
     "data": {
      "text/plain": [
       "0    September 25, 2021\n",
       "1    September 24, 2021\n",
       "2    September 24, 2021\n",
       "3    September 24, 2021\n",
       "4    September 24, 2021\n",
       "5    September 24, 2021\n",
       "6    September 24, 2021\n",
       "7    September 24, 2021\n",
       "8    September 24, 2021\n",
       "9    September 24, 2021\n",
       "Name: date_added, dtype: object"
      ]
     },
     "execution_count": 80,
     "metadata": {},
     "output_type": "execute_result"
    }
   ],
   "source": [
    "df['date_added'].head(10)"
   ]
  },
  {
   "cell_type": "code",
   "execution_count": 81,
   "id": "1df7604a",
   "metadata": {
    "execution": {
     "iopub.execute_input": "2023-08-27T18:51:35.903290Z",
     "iopub.status.busy": "2023-08-27T18:51:35.902894Z",
     "iopub.status.idle": "2023-08-27T18:51:35.910443Z",
     "shell.execute_reply": "2023-08-27T18:51:35.909545Z"
    },
    "papermill": {
     "duration": 0.031732,
     "end_time": "2023-08-27T18:51:35.912511",
     "exception": false,
     "start_time": "2023-08-27T18:51:35.880779",
     "status": "completed"
    },
    "tags": []
   },
   "outputs": [
    {
     "data": {
      "text/plain": [
       "0          90 min\n",
       "1       2 Seasons\n",
       "2        1 Season\n",
       "3        1 Season\n",
       "4       2 Seasons\n",
       "          ...    \n",
       "8802      158 min\n",
       "8803    2 Seasons\n",
       "8804       88 min\n",
       "8805       88 min\n",
       "8806      111 min\n",
       "Name: duration, Length: 8807, dtype: object"
      ]
     },
     "execution_count": 81,
     "metadata": {},
     "output_type": "execute_result"
    }
   ],
   "source": [
    "df['duration']"
   ]
  },
  {
   "cell_type": "code",
   "execution_count": 82,
   "id": "459a7915",
   "metadata": {
    "execution": {
     "iopub.execute_input": "2023-08-27T18:51:35.958802Z",
     "iopub.status.busy": "2023-08-27T18:51:35.957787Z",
     "iopub.status.idle": "2023-08-27T18:51:35.964940Z",
     "shell.execute_reply": "2023-08-27T18:51:35.964127Z"
    },
    "papermill": {
     "duration": 0.031293,
     "end_time": "2023-08-27T18:51:35.967032",
     "exception": false,
     "start_time": "2023-08-27T18:51:35.935739",
     "status": "completed"
    },
    "tags": []
   },
   "outputs": [
    {
     "data": {
      "text/plain": [
       "0       PG-13\n",
       "1       TV-MA\n",
       "2       TV-MA\n",
       "3       TV-MA\n",
       "4       TV-MA\n",
       "        ...  \n",
       "8802        R\n",
       "8803    TV-Y7\n",
       "8804        R\n",
       "8805       PG\n",
       "8806    TV-14\n",
       "Name: rating, Length: 8807, dtype: object"
      ]
     },
     "execution_count": 82,
     "metadata": {},
     "output_type": "execute_result"
    }
   ],
   "source": [
    "df['rating']"
   ]
  },
  {
   "cell_type": "markdown",
   "id": "c530a0a6",
   "metadata": {
    "execution": {
     "iopub.execute_input": "2023-08-27T16:17:29.307794Z",
     "iopub.status.busy": "2023-08-27T16:17:29.307319Z",
     "iopub.status.idle": "2023-08-27T16:17:29.314943Z",
     "shell.execute_reply": "2023-08-27T16:17:29.313624Z",
     "shell.execute_reply.started": "2023-08-27T16:17:29.307755Z"
    },
    "papermill": {
     "duration": 0.021551,
     "end_time": "2023-08-27T18:51:36.009666",
     "exception": false,
     "start_time": "2023-08-27T18:51:35.988115",
     "status": "completed"
    },
    "tags": []
   },
   "source": [
    "<a id = 'data_cleaning'></a>\n",
    "# Data Cleaning"
   ]
  },
  {
   "cell_type": "markdown",
   "id": "af1064bf",
   "metadata": {
    "papermill": {
     "duration": 0.021103,
     "end_time": "2023-08-27T18:51:36.052126",
     "exception": false,
     "start_time": "2023-08-27T18:51:36.031023",
     "status": "completed"
    },
    "tags": []
   },
   "source": [
    "<a id = 'handling_missing_values'></a>\n",
    "# Handling Missing Values"
   ]
  },
  {
   "cell_type": "code",
   "execution_count": 83,
   "id": "bbd6e4f4",
   "metadata": {
    "execution": {
     "iopub.execute_input": "2023-08-27T18:51:36.096697Z",
     "iopub.status.busy": "2023-08-27T18:51:36.096333Z",
     "iopub.status.idle": "2023-08-27T18:51:36.135646Z",
     "shell.execute_reply": "2023-08-27T18:51:36.134881Z"
    },
    "papermill": {
     "duration": 0.064304,
     "end_time": "2023-08-27T18:51:36.137615",
     "exception": false,
     "start_time": "2023-08-27T18:51:36.073311",
     "status": "completed"
    },
    "tags": []
   },
   "outputs": [
    {
     "data": {
      "text/plain": [
       "show_id          0.000000\n",
       "type             0.000000\n",
       "title            0.000000\n",
       "director        29.908028\n",
       "cast             9.367549\n",
       "country          9.435676\n",
       "date_added       0.113546\n",
       "release_year     0.000000\n",
       "rating           0.045418\n",
       "duration         0.034064\n",
       "listed_in        0.000000\n",
       "description      0.000000\n",
       "dtype: float64"
      ]
     },
     "execution_count": 83,
     "metadata": {},
     "output_type": "execute_result"
    }
   ],
   "source": [
    "# check % of missing values\n",
    "df.isnull().mean()*100\n"
   ]
  },
  {
   "cell_type": "markdown",
   "id": "ddd2f193",
   "metadata": {
    "papermill": {
     "duration": 0.02132,
     "end_time": "2023-08-27T18:51:36.180753",
     "exception": false,
     "start_time": "2023-08-27T18:51:36.159433",
     "status": "completed"
    },
    "tags": []
   },
   "source": [
    "### Handling Missing values in 'director' feature"
   ]
  },
  {
   "cell_type": "code",
   "execution_count": 84,
   "id": "fa077048",
   "metadata": {
    "execution": {
     "iopub.execute_input": "2023-08-27T18:51:36.226285Z",
     "iopub.status.busy": "2023-08-27T18:51:36.225580Z",
     "iopub.status.idle": "2023-08-27T18:51:36.249726Z",
     "shell.execute_reply": "2023-08-27T18:51:36.248722Z"
    },
    "papermill": {
     "duration": 0.049668,
     "end_time": "2023-08-27T18:51:36.252233",
     "exception": false,
     "start_time": "2023-08-27T18:51:36.202565",
     "status": "completed"
    },
    "tags": []
   },
   "outputs": [
    {
     "data": {
      "text/html": [
       "<div>\n",
       "<style scoped>\n",
       "    .dataframe tbody tr th:only-of-type {\n",
       "        vertical-align: middle;\n",
       "    }\n",
       "\n",
       "    .dataframe tbody tr th {\n",
       "        vertical-align: top;\n",
       "    }\n",
       "\n",
       "    .dataframe thead th {\n",
       "        text-align: right;\n",
       "    }\n",
       "</style>\n",
       "<table border=\"1\" class=\"dataframe\">\n",
       "  <thead>\n",
       "    <tr style=\"text-align: right;\">\n",
       "      <th></th>\n",
       "      <th>show_id</th>\n",
       "      <th>type</th>\n",
       "      <th>title</th>\n",
       "      <th>director</th>\n",
       "      <th>cast</th>\n",
       "      <th>country</th>\n",
       "      <th>date_added</th>\n",
       "      <th>release_year</th>\n",
       "      <th>rating</th>\n",
       "      <th>duration</th>\n",
       "      <th>listed_in</th>\n",
       "      <th>description</th>\n",
       "    </tr>\n",
       "  </thead>\n",
       "  <tbody>\n",
       "    <tr>\n",
       "      <th>1</th>\n",
       "      <td>s2</td>\n",
       "      <td>TV Show</td>\n",
       "      <td>Blood &amp; Water</td>\n",
       "      <td>NaN</td>\n",
       "      <td>Ama Qamata, Khosi Ngema, Gail Mabalane, Thaban...</td>\n",
       "      <td>South Africa</td>\n",
       "      <td>September 24, 2021</td>\n",
       "      <td>2021</td>\n",
       "      <td>TV-MA</td>\n",
       "      <td>2 Seasons</td>\n",
       "      <td>International TV Shows, TV Dramas, TV Mysteries</td>\n",
       "      <td>After crossing paths at a party, a Cape Town t...</td>\n",
       "    </tr>\n",
       "    <tr>\n",
       "      <th>3</th>\n",
       "      <td>s4</td>\n",
       "      <td>TV Show</td>\n",
       "      <td>Jailbirds New Orleans</td>\n",
       "      <td>NaN</td>\n",
       "      <td>NaN</td>\n",
       "      <td>NaN</td>\n",
       "      <td>September 24, 2021</td>\n",
       "      <td>2021</td>\n",
       "      <td>TV-MA</td>\n",
       "      <td>1 Season</td>\n",
       "      <td>Docuseries, Reality TV</td>\n",
       "      <td>Feuds, flirtations and toilet talk go down amo...</td>\n",
       "    </tr>\n",
       "    <tr>\n",
       "      <th>4</th>\n",
       "      <td>s5</td>\n",
       "      <td>TV Show</td>\n",
       "      <td>Kota Factory</td>\n",
       "      <td>NaN</td>\n",
       "      <td>Mayur More, Jitendra Kumar, Ranjan Raj, Alam K...</td>\n",
       "      <td>India</td>\n",
       "      <td>September 24, 2021</td>\n",
       "      <td>2021</td>\n",
       "      <td>TV-MA</td>\n",
       "      <td>2 Seasons</td>\n",
       "      <td>International TV Shows, Romantic TV Shows, TV ...</td>\n",
       "      <td>In a city of coaching centers known to train I...</td>\n",
       "    </tr>\n",
       "    <tr>\n",
       "      <th>10</th>\n",
       "      <td>s11</td>\n",
       "      <td>TV Show</td>\n",
       "      <td>Vendetta: Truth, Lies and The Mafia</td>\n",
       "      <td>NaN</td>\n",
       "      <td>NaN</td>\n",
       "      <td>NaN</td>\n",
       "      <td>September 24, 2021</td>\n",
       "      <td>2021</td>\n",
       "      <td>TV-MA</td>\n",
       "      <td>1 Season</td>\n",
       "      <td>Crime TV Shows, Docuseries, International TV S...</td>\n",
       "      <td>Sicily boasts a bold \"Anti-Mafia\" coalition. B...</td>\n",
       "    </tr>\n",
       "    <tr>\n",
       "      <th>14</th>\n",
       "      <td>s15</td>\n",
       "      <td>TV Show</td>\n",
       "      <td>Crime Stories: India Detectives</td>\n",
       "      <td>NaN</td>\n",
       "      <td>NaN</td>\n",
       "      <td>NaN</td>\n",
       "      <td>September 22, 2021</td>\n",
       "      <td>2021</td>\n",
       "      <td>TV-MA</td>\n",
       "      <td>1 Season</td>\n",
       "      <td>British TV Shows, Crime TV Shows, Docuseries</td>\n",
       "      <td>Cameras following Bengaluru police on the job ...</td>\n",
       "    </tr>\n",
       "    <tr>\n",
       "      <th>...</th>\n",
       "      <td>...</td>\n",
       "      <td>...</td>\n",
       "      <td>...</td>\n",
       "      <td>...</td>\n",
       "      <td>...</td>\n",
       "      <td>...</td>\n",
       "      <td>...</td>\n",
       "      <td>...</td>\n",
       "      <td>...</td>\n",
       "      <td>...</td>\n",
       "      <td>...</td>\n",
       "      <td>...</td>\n",
       "    </tr>\n",
       "    <tr>\n",
       "      <th>8795</th>\n",
       "      <td>s8796</td>\n",
       "      <td>TV Show</td>\n",
       "      <td>Yu-Gi-Oh! Arc-V</td>\n",
       "      <td>NaN</td>\n",
       "      <td>Mike Liscio, Emily Bauer, Billy Bob Thompson, ...</td>\n",
       "      <td>Japan, Canada</td>\n",
       "      <td>May 1, 2018</td>\n",
       "      <td>2015</td>\n",
       "      <td>TV-Y7</td>\n",
       "      <td>2 Seasons</td>\n",
       "      <td>Anime Series, Kids' TV</td>\n",
       "      <td>Now that he's discovered the Pendulum Summonin...</td>\n",
       "    </tr>\n",
       "    <tr>\n",
       "      <th>8796</th>\n",
       "      <td>s8797</td>\n",
       "      <td>TV Show</td>\n",
       "      <td>Yunus Emre</td>\n",
       "      <td>NaN</td>\n",
       "      <td>Gökhan Atalay, Payidar Tüfekçioglu, Baran Akbu...</td>\n",
       "      <td>Turkey</td>\n",
       "      <td>January 17, 2017</td>\n",
       "      <td>2016</td>\n",
       "      <td>TV-PG</td>\n",
       "      <td>2 Seasons</td>\n",
       "      <td>International TV Shows, TV Dramas</td>\n",
       "      <td>During the Mongol invasions, Yunus Emre leaves...</td>\n",
       "    </tr>\n",
       "    <tr>\n",
       "      <th>8797</th>\n",
       "      <td>s8798</td>\n",
       "      <td>TV Show</td>\n",
       "      <td>Zak Storm</td>\n",
       "      <td>NaN</td>\n",
       "      <td>Michael Johnston, Jessica Gee-George, Christin...</td>\n",
       "      <td>United States, France, South Korea, Indonesia</td>\n",
       "      <td>September 13, 2018</td>\n",
       "      <td>2016</td>\n",
       "      <td>TV-Y7</td>\n",
       "      <td>3 Seasons</td>\n",
       "      <td>Kids' TV</td>\n",
       "      <td>Teen surfer Zak Storm is mysteriously transpor...</td>\n",
       "    </tr>\n",
       "    <tr>\n",
       "      <th>8800</th>\n",
       "      <td>s8801</td>\n",
       "      <td>TV Show</td>\n",
       "      <td>Zindagi Gulzar Hai</td>\n",
       "      <td>NaN</td>\n",
       "      <td>Sanam Saeed, Fawad Khan, Ayesha Omer, Mehreen ...</td>\n",
       "      <td>Pakistan</td>\n",
       "      <td>December 15, 2016</td>\n",
       "      <td>2012</td>\n",
       "      <td>TV-PG</td>\n",
       "      <td>1 Season</td>\n",
       "      <td>International TV Shows, Romantic TV Shows, TV ...</td>\n",
       "      <td>Strong-willed, middle-class Kashaf and carefre...</td>\n",
       "    </tr>\n",
       "    <tr>\n",
       "      <th>8803</th>\n",
       "      <td>s8804</td>\n",
       "      <td>TV Show</td>\n",
       "      <td>Zombie Dumb</td>\n",
       "      <td>NaN</td>\n",
       "      <td>NaN</td>\n",
       "      <td>NaN</td>\n",
       "      <td>July 1, 2019</td>\n",
       "      <td>2018</td>\n",
       "      <td>TV-Y7</td>\n",
       "      <td>2 Seasons</td>\n",
       "      <td>Kids' TV, Korean TV Shows, TV Comedies</td>\n",
       "      <td>While living alone in a spooky town, a young g...</td>\n",
       "    </tr>\n",
       "  </tbody>\n",
       "</table>\n",
       "<p>2634 rows × 12 columns</p>\n",
       "</div>"
      ],
      "text/plain": [
       "     show_id     type                                title director  \\\n",
       "1         s2  TV Show                        Blood & Water      NaN   \n",
       "3         s4  TV Show                Jailbirds New Orleans      NaN   \n",
       "4         s5  TV Show                         Kota Factory      NaN   \n",
       "10       s11  TV Show  Vendetta: Truth, Lies and The Mafia      NaN   \n",
       "14       s15  TV Show      Crime Stories: India Detectives      NaN   \n",
       "...      ...      ...                                  ...      ...   \n",
       "8795   s8796  TV Show                      Yu-Gi-Oh! Arc-V      NaN   \n",
       "8796   s8797  TV Show                           Yunus Emre      NaN   \n",
       "8797   s8798  TV Show                            Zak Storm      NaN   \n",
       "8800   s8801  TV Show                   Zindagi Gulzar Hai      NaN   \n",
       "8803   s8804  TV Show                          Zombie Dumb      NaN   \n",
       "\n",
       "                                                   cast  \\\n",
       "1     Ama Qamata, Khosi Ngema, Gail Mabalane, Thaban...   \n",
       "3                                                   NaN   \n",
       "4     Mayur More, Jitendra Kumar, Ranjan Raj, Alam K...   \n",
       "10                                                  NaN   \n",
       "14                                                  NaN   \n",
       "...                                                 ...   \n",
       "8795  Mike Liscio, Emily Bauer, Billy Bob Thompson, ...   \n",
       "8796  Gökhan Atalay, Payidar Tüfekçioglu, Baran Akbu...   \n",
       "8797  Michael Johnston, Jessica Gee-George, Christin...   \n",
       "8800  Sanam Saeed, Fawad Khan, Ayesha Omer, Mehreen ...   \n",
       "8803                                                NaN   \n",
       "\n",
       "                                            country          date_added  \\\n",
       "1                                      South Africa  September 24, 2021   \n",
       "3                                               NaN  September 24, 2021   \n",
       "4                                             India  September 24, 2021   \n",
       "10                                              NaN  September 24, 2021   \n",
       "14                                              NaN  September 22, 2021   \n",
       "...                                             ...                 ...   \n",
       "8795                                  Japan, Canada         May 1, 2018   \n",
       "8796                                         Turkey    January 17, 2017   \n",
       "8797  United States, France, South Korea, Indonesia  September 13, 2018   \n",
       "8800                                       Pakistan   December 15, 2016   \n",
       "8803                                            NaN        July 1, 2019   \n",
       "\n",
       "      release_year rating   duration  \\\n",
       "1             2021  TV-MA  2 Seasons   \n",
       "3             2021  TV-MA   1 Season   \n",
       "4             2021  TV-MA  2 Seasons   \n",
       "10            2021  TV-MA   1 Season   \n",
       "14            2021  TV-MA   1 Season   \n",
       "...            ...    ...        ...   \n",
       "8795          2015  TV-Y7  2 Seasons   \n",
       "8796          2016  TV-PG  2 Seasons   \n",
       "8797          2016  TV-Y7  3 Seasons   \n",
       "8800          2012  TV-PG   1 Season   \n",
       "8803          2018  TV-Y7  2 Seasons   \n",
       "\n",
       "                                              listed_in  \\\n",
       "1       International TV Shows, TV Dramas, TV Mysteries   \n",
       "3                                Docuseries, Reality TV   \n",
       "4     International TV Shows, Romantic TV Shows, TV ...   \n",
       "10    Crime TV Shows, Docuseries, International TV S...   \n",
       "14         British TV Shows, Crime TV Shows, Docuseries   \n",
       "...                                                 ...   \n",
       "8795                             Anime Series, Kids' TV   \n",
       "8796                  International TV Shows, TV Dramas   \n",
       "8797                                           Kids' TV   \n",
       "8800  International TV Shows, Romantic TV Shows, TV ...   \n",
       "8803             Kids' TV, Korean TV Shows, TV Comedies   \n",
       "\n",
       "                                            description  \n",
       "1     After crossing paths at a party, a Cape Town t...  \n",
       "3     Feuds, flirtations and toilet talk go down amo...  \n",
       "4     In a city of coaching centers known to train I...  \n",
       "10    Sicily boasts a bold \"Anti-Mafia\" coalition. B...  \n",
       "14    Cameras following Bengaluru police on the job ...  \n",
       "...                                                 ...  \n",
       "8795  Now that he's discovered the Pendulum Summonin...  \n",
       "8796  During the Mongol invasions, Yunus Emre leaves...  \n",
       "8797  Teen surfer Zak Storm is mysteriously transpor...  \n",
       "8800  Strong-willed, middle-class Kashaf and carefre...  \n",
       "8803  While living alone in a spooky town, a young g...  \n",
       "\n",
       "[2634 rows x 12 columns]"
      ]
     },
     "execution_count": 84,
     "metadata": {},
     "output_type": "execute_result"
    }
   ],
   "source": [
    "df[df['director'].isnull()]"
   ]
  },
  {
   "cell_type": "code",
   "execution_count": 85,
   "id": "16769bef",
   "metadata": {
    "execution": {
     "iopub.execute_input": "2023-08-27T18:51:36.300876Z",
     "iopub.status.busy": "2023-08-27T18:51:36.300512Z",
     "iopub.status.idle": "2023-08-27T18:51:36.312889Z",
     "shell.execute_reply": "2023-08-27T18:51:36.311848Z"
    },
    "papermill": {
     "duration": 0.038506,
     "end_time": "2023-08-27T18:51:36.314968",
     "exception": false,
     "start_time": "2023-08-27T18:51:36.276462",
     "status": "completed"
    },
    "tags": []
   },
   "outputs": [
    {
     "data": {
      "text/plain": [
       "0"
      ]
     },
     "execution_count": 85,
     "metadata": {},
     "output_type": "execute_result"
    }
   ],
   "source": [
    "# replacing NaN with 'unknown' in director columns\n",
    "df['director'] = df['director'].fillna('unknown')\n",
    "df['director'].isnull().sum()"
   ]
  },
  {
   "cell_type": "markdown",
   "id": "232e83b7",
   "metadata": {
    "papermill": {
     "duration": 0.022331,
     "end_time": "2023-08-27T18:51:36.359872",
     "exception": false,
     "start_time": "2023-08-27T18:51:36.337541",
     "status": "completed"
    },
    "tags": []
   },
   "source": [
    "### Handling Missing Values in 'cast' feature"
   ]
  },
  {
   "cell_type": "code",
   "execution_count": 86,
   "id": "8bb5c003",
   "metadata": {
    "execution": {
     "iopub.execute_input": "2023-08-27T18:51:36.406327Z",
     "iopub.status.busy": "2023-08-27T18:51:36.405874Z",
     "iopub.status.idle": "2023-08-27T18:51:36.433089Z",
     "shell.execute_reply": "2023-08-27T18:51:36.432022Z"
    },
    "papermill": {
     "duration": 0.052867,
     "end_time": "2023-08-27T18:51:36.435296",
     "exception": false,
     "start_time": "2023-08-27T18:51:36.382429",
     "status": "completed"
    },
    "tags": []
   },
   "outputs": [
    {
     "data": {
      "text/html": [
       "<div>\n",
       "<style scoped>\n",
       "    .dataframe tbody tr th:only-of-type {\n",
       "        vertical-align: middle;\n",
       "    }\n",
       "\n",
       "    .dataframe tbody tr th {\n",
       "        vertical-align: top;\n",
       "    }\n",
       "\n",
       "    .dataframe thead th {\n",
       "        text-align: right;\n",
       "    }\n",
       "</style>\n",
       "<table border=\"1\" class=\"dataframe\">\n",
       "  <thead>\n",
       "    <tr style=\"text-align: right;\">\n",
       "      <th></th>\n",
       "      <th>show_id</th>\n",
       "      <th>type</th>\n",
       "      <th>title</th>\n",
       "      <th>director</th>\n",
       "      <th>cast</th>\n",
       "      <th>country</th>\n",
       "      <th>date_added</th>\n",
       "      <th>release_year</th>\n",
       "      <th>rating</th>\n",
       "      <th>duration</th>\n",
       "      <th>listed_in</th>\n",
       "      <th>description</th>\n",
       "    </tr>\n",
       "  </thead>\n",
       "  <tbody>\n",
       "    <tr>\n",
       "      <th>0</th>\n",
       "      <td>s1</td>\n",
       "      <td>Movie</td>\n",
       "      <td>Dick Johnson Is Dead</td>\n",
       "      <td>Kirsten Johnson</td>\n",
       "      <td>NaN</td>\n",
       "      <td>United States</td>\n",
       "      <td>September 25, 2021</td>\n",
       "      <td>2020</td>\n",
       "      <td>PG-13</td>\n",
       "      <td>90 min</td>\n",
       "      <td>Documentaries</td>\n",
       "      <td>As her father nears the end of his life, filmm...</td>\n",
       "    </tr>\n",
       "    <tr>\n",
       "      <th>3</th>\n",
       "      <td>s4</td>\n",
       "      <td>TV Show</td>\n",
       "      <td>Jailbirds New Orleans</td>\n",
       "      <td>unknown</td>\n",
       "      <td>NaN</td>\n",
       "      <td>NaN</td>\n",
       "      <td>September 24, 2021</td>\n",
       "      <td>2021</td>\n",
       "      <td>TV-MA</td>\n",
       "      <td>1 Season</td>\n",
       "      <td>Docuseries, Reality TV</td>\n",
       "      <td>Feuds, flirtations and toilet talk go down amo...</td>\n",
       "    </tr>\n",
       "    <tr>\n",
       "      <th>10</th>\n",
       "      <td>s11</td>\n",
       "      <td>TV Show</td>\n",
       "      <td>Vendetta: Truth, Lies and The Mafia</td>\n",
       "      <td>unknown</td>\n",
       "      <td>NaN</td>\n",
       "      <td>NaN</td>\n",
       "      <td>September 24, 2021</td>\n",
       "      <td>2021</td>\n",
       "      <td>TV-MA</td>\n",
       "      <td>1 Season</td>\n",
       "      <td>Crime TV Shows, Docuseries, International TV S...</td>\n",
       "      <td>Sicily boasts a bold \"Anti-Mafia\" coalition. B...</td>\n",
       "    </tr>\n",
       "    <tr>\n",
       "      <th>14</th>\n",
       "      <td>s15</td>\n",
       "      <td>TV Show</td>\n",
       "      <td>Crime Stories: India Detectives</td>\n",
       "      <td>unknown</td>\n",
       "      <td>NaN</td>\n",
       "      <td>NaN</td>\n",
       "      <td>September 22, 2021</td>\n",
       "      <td>2021</td>\n",
       "      <td>TV-MA</td>\n",
       "      <td>1 Season</td>\n",
       "      <td>British TV Shows, Crime TV Shows, Docuseries</td>\n",
       "      <td>Cameras following Bengaluru police on the job ...</td>\n",
       "    </tr>\n",
       "    <tr>\n",
       "      <th>16</th>\n",
       "      <td>s17</td>\n",
       "      <td>Movie</td>\n",
       "      <td>Europe's Most Dangerous Man: Otto Skorzeny in ...</td>\n",
       "      <td>Pedro de Echave García, Pablo Azorín Williams</td>\n",
       "      <td>NaN</td>\n",
       "      <td>NaN</td>\n",
       "      <td>September 22, 2021</td>\n",
       "      <td>2020</td>\n",
       "      <td>TV-MA</td>\n",
       "      <td>67 min</td>\n",
       "      <td>Documentaries, International Movies</td>\n",
       "      <td>Declassified documents reveal the post-WWII li...</td>\n",
       "    </tr>\n",
       "    <tr>\n",
       "      <th>...</th>\n",
       "      <td>...</td>\n",
       "      <td>...</td>\n",
       "      <td>...</td>\n",
       "      <td>...</td>\n",
       "      <td>...</td>\n",
       "      <td>...</td>\n",
       "      <td>...</td>\n",
       "      <td>...</td>\n",
       "      <td>...</td>\n",
       "      <td>...</td>\n",
       "      <td>...</td>\n",
       "      <td>...</td>\n",
       "    </tr>\n",
       "    <tr>\n",
       "      <th>8746</th>\n",
       "      <td>s8747</td>\n",
       "      <td>Movie</td>\n",
       "      <td>Winnie</td>\n",
       "      <td>Pascale Lamche</td>\n",
       "      <td>NaN</td>\n",
       "      <td>France, Netherlands, South Africa, Finland</td>\n",
       "      <td>February 26, 2018</td>\n",
       "      <td>2017</td>\n",
       "      <td>TV-14</td>\n",
       "      <td>85 min</td>\n",
       "      <td>Documentaries, International Movies</td>\n",
       "      <td>Winnie Mandela speaks about her extraordinary ...</td>\n",
       "    </tr>\n",
       "    <tr>\n",
       "      <th>8755</th>\n",
       "      <td>s8756</td>\n",
       "      <td>TV Show</td>\n",
       "      <td>Women Behind Bars</td>\n",
       "      <td>unknown</td>\n",
       "      <td>NaN</td>\n",
       "      <td>United States</td>\n",
       "      <td>November 1, 2016</td>\n",
       "      <td>2010</td>\n",
       "      <td>TV-14</td>\n",
       "      <td>3 Seasons</td>\n",
       "      <td>Crime TV Shows, Docuseries</td>\n",
       "      <td>This reality series recounts true stories of w...</td>\n",
       "    </tr>\n",
       "    <tr>\n",
       "      <th>8756</th>\n",
       "      <td>s8757</td>\n",
       "      <td>Movie</td>\n",
       "      <td>Woodstock</td>\n",
       "      <td>Barak Goodman</td>\n",
       "      <td>NaN</td>\n",
       "      <td>United States</td>\n",
       "      <td>August 13, 2019</td>\n",
       "      <td>2019</td>\n",
       "      <td>TV-MA</td>\n",
       "      <td>97 min</td>\n",
       "      <td>Documentaries, Music &amp; Musicals</td>\n",
       "      <td>For the 50th anniversary of the legendary Wood...</td>\n",
       "    </tr>\n",
       "    <tr>\n",
       "      <th>8763</th>\n",
       "      <td>s8764</td>\n",
       "      <td>Movie</td>\n",
       "      <td>WWII: Report from the Aleutians</td>\n",
       "      <td>John Huston</td>\n",
       "      <td>NaN</td>\n",
       "      <td>United States</td>\n",
       "      <td>March 31, 2017</td>\n",
       "      <td>1943</td>\n",
       "      <td>TV-PG</td>\n",
       "      <td>45 min</td>\n",
       "      <td>Documentaries</td>\n",
       "      <td>Filmmaker John Huston narrates this Oscar-nomi...</td>\n",
       "    </tr>\n",
       "    <tr>\n",
       "      <th>8803</th>\n",
       "      <td>s8804</td>\n",
       "      <td>TV Show</td>\n",
       "      <td>Zombie Dumb</td>\n",
       "      <td>unknown</td>\n",
       "      <td>NaN</td>\n",
       "      <td>NaN</td>\n",
       "      <td>July 1, 2019</td>\n",
       "      <td>2018</td>\n",
       "      <td>TV-Y7</td>\n",
       "      <td>2 Seasons</td>\n",
       "      <td>Kids' TV, Korean TV Shows, TV Comedies</td>\n",
       "      <td>While living alone in a spooky town, a young g...</td>\n",
       "    </tr>\n",
       "  </tbody>\n",
       "</table>\n",
       "<p>825 rows × 12 columns</p>\n",
       "</div>"
      ],
      "text/plain": [
       "     show_id     type                                              title  \\\n",
       "0         s1    Movie                               Dick Johnson Is Dead   \n",
       "3         s4  TV Show                              Jailbirds New Orleans   \n",
       "10       s11  TV Show                Vendetta: Truth, Lies and The Mafia   \n",
       "14       s15  TV Show                    Crime Stories: India Detectives   \n",
       "16       s17    Movie  Europe's Most Dangerous Man: Otto Skorzeny in ...   \n",
       "...      ...      ...                                                ...   \n",
       "8746   s8747    Movie                                             Winnie   \n",
       "8755   s8756  TV Show                                  Women Behind Bars   \n",
       "8756   s8757    Movie                                          Woodstock   \n",
       "8763   s8764    Movie                    WWII: Report from the Aleutians   \n",
       "8803   s8804  TV Show                                        Zombie Dumb   \n",
       "\n",
       "                                           director cast  \\\n",
       "0                                   Kirsten Johnson  NaN   \n",
       "3                                           unknown  NaN   \n",
       "10                                          unknown  NaN   \n",
       "14                                          unknown  NaN   \n",
       "16    Pedro de Echave García, Pablo Azorín Williams  NaN   \n",
       "...                                             ...  ...   \n",
       "8746                                 Pascale Lamche  NaN   \n",
       "8755                                        unknown  NaN   \n",
       "8756                                  Barak Goodman  NaN   \n",
       "8763                                    John Huston  NaN   \n",
       "8803                                        unknown  NaN   \n",
       "\n",
       "                                         country          date_added  \\\n",
       "0                                  United States  September 25, 2021   \n",
       "3                                            NaN  September 24, 2021   \n",
       "10                                           NaN  September 24, 2021   \n",
       "14                                           NaN  September 22, 2021   \n",
       "16                                           NaN  September 22, 2021   \n",
       "...                                          ...                 ...   \n",
       "8746  France, Netherlands, South Africa, Finland   February 26, 2018   \n",
       "8755                               United States    November 1, 2016   \n",
       "8756                               United States     August 13, 2019   \n",
       "8763                               United States      March 31, 2017   \n",
       "8803                                         NaN        July 1, 2019   \n",
       "\n",
       "      release_year rating   duration  \\\n",
       "0             2020  PG-13     90 min   \n",
       "3             2021  TV-MA   1 Season   \n",
       "10            2021  TV-MA   1 Season   \n",
       "14            2021  TV-MA   1 Season   \n",
       "16            2020  TV-MA     67 min   \n",
       "...            ...    ...        ...   \n",
       "8746          2017  TV-14     85 min   \n",
       "8755          2010  TV-14  3 Seasons   \n",
       "8756          2019  TV-MA     97 min   \n",
       "8763          1943  TV-PG     45 min   \n",
       "8803          2018  TV-Y7  2 Seasons   \n",
       "\n",
       "                                              listed_in  \\\n",
       "0                                         Documentaries   \n",
       "3                                Docuseries, Reality TV   \n",
       "10    Crime TV Shows, Docuseries, International TV S...   \n",
       "14         British TV Shows, Crime TV Shows, Docuseries   \n",
       "16                  Documentaries, International Movies   \n",
       "...                                                 ...   \n",
       "8746                Documentaries, International Movies   \n",
       "8755                         Crime TV Shows, Docuseries   \n",
       "8756                    Documentaries, Music & Musicals   \n",
       "8763                                      Documentaries   \n",
       "8803             Kids' TV, Korean TV Shows, TV Comedies   \n",
       "\n",
       "                                            description  \n",
       "0     As her father nears the end of his life, filmm...  \n",
       "3     Feuds, flirtations and toilet talk go down amo...  \n",
       "10    Sicily boasts a bold \"Anti-Mafia\" coalition. B...  \n",
       "14    Cameras following Bengaluru police on the job ...  \n",
       "16    Declassified documents reveal the post-WWII li...  \n",
       "...                                                 ...  \n",
       "8746  Winnie Mandela speaks about her extraordinary ...  \n",
       "8755  This reality series recounts true stories of w...  \n",
       "8756  For the 50th anniversary of the legendary Wood...  \n",
       "8763  Filmmaker John Huston narrates this Oscar-nomi...  \n",
       "8803  While living alone in a spooky town, a young g...  \n",
       "\n",
       "[825 rows x 12 columns]"
      ]
     },
     "execution_count": 86,
     "metadata": {},
     "output_type": "execute_result"
    }
   ],
   "source": [
    "df[df['cast'].isnull()]"
   ]
  },
  {
   "cell_type": "markdown",
   "id": "6d35a0be",
   "metadata": {
    "papermill": {
     "duration": 0.022315,
     "end_time": "2023-08-27T18:51:36.480467",
     "exception": false,
     "start_time": "2023-08-27T18:51:36.458152",
     "status": "completed"
    },
    "tags": []
   },
   "source": []
  },
  {
   "cell_type": "code",
   "execution_count": 87,
   "id": "9014643f",
   "metadata": {
    "execution": {
     "iopub.execute_input": "2023-08-27T18:51:36.527514Z",
     "iopub.status.busy": "2023-08-27T18:51:36.527121Z",
     "iopub.status.idle": "2023-08-27T18:51:36.539421Z",
     "shell.execute_reply": "2023-08-27T18:51:36.538412Z"
    },
    "papermill": {
     "duration": 0.038427,
     "end_time": "2023-08-27T18:51:36.541673",
     "exception": false,
     "start_time": "2023-08-27T18:51:36.503246",
     "status": "completed"
    },
    "tags": []
   },
   "outputs": [
    {
     "data": {
      "text/plain": [
       "0"
      ]
     },
     "execution_count": 87,
     "metadata": {},
     "output_type": "execute_result"
    }
   ],
   "source": [
    "# replacing NaN with 'unknown' in cast columns\n",
    "df['cast'] = df['cast'].fillna('unknown')\n",
    "df['cast'].isnull().sum()"
   ]
  },
  {
   "cell_type": "code",
   "execution_count": null,
   "id": "31a3631d",
   "metadata": {
    "papermill": {
     "duration": 0.022429,
     "end_time": "2023-08-27T18:51:36.586193",
     "exception": false,
     "start_time": "2023-08-27T18:51:36.563764",
     "status": "completed"
    },
    "tags": []
   },
   "outputs": [],
   "source": []
  },
  {
   "cell_type": "markdown",
   "id": "2eff8493",
   "metadata": {
    "papermill": {
     "duration": 0.022133,
     "end_time": "2023-08-27T18:51:36.631266",
     "exception": false,
     "start_time": "2023-08-27T18:51:36.609133",
     "status": "completed"
    },
    "tags": []
   },
   "source": [
    "### Handling Missing values in 'Country' columns"
   ]
  },
  {
   "cell_type": "code",
   "execution_count": 88,
   "id": "6e9f43a6",
   "metadata": {
    "execution": {
     "iopub.execute_input": "2023-08-27T18:51:36.678532Z",
     "iopub.status.busy": "2023-08-27T18:51:36.678151Z",
     "iopub.status.idle": "2023-08-27T18:51:36.703975Z",
     "shell.execute_reply": "2023-08-27T18:51:36.702909Z"
    },
    "papermill": {
     "duration": 0.052357,
     "end_time": "2023-08-27T18:51:36.706263",
     "exception": false,
     "start_time": "2023-08-27T18:51:36.653906",
     "status": "completed"
    },
    "tags": []
   },
   "outputs": [
    {
     "data": {
      "text/html": [
       "<div>\n",
       "<style scoped>\n",
       "    .dataframe tbody tr th:only-of-type {\n",
       "        vertical-align: middle;\n",
       "    }\n",
       "\n",
       "    .dataframe tbody tr th {\n",
       "        vertical-align: top;\n",
       "    }\n",
       "\n",
       "    .dataframe thead th {\n",
       "        text-align: right;\n",
       "    }\n",
       "</style>\n",
       "<table border=\"1\" class=\"dataframe\">\n",
       "  <thead>\n",
       "    <tr style=\"text-align: right;\">\n",
       "      <th></th>\n",
       "      <th>show_id</th>\n",
       "      <th>type</th>\n",
       "      <th>title</th>\n",
       "      <th>director</th>\n",
       "      <th>cast</th>\n",
       "      <th>country</th>\n",
       "      <th>date_added</th>\n",
       "      <th>release_year</th>\n",
       "      <th>rating</th>\n",
       "      <th>duration</th>\n",
       "      <th>listed_in</th>\n",
       "      <th>description</th>\n",
       "    </tr>\n",
       "  </thead>\n",
       "  <tbody>\n",
       "    <tr>\n",
       "      <th>2</th>\n",
       "      <td>s3</td>\n",
       "      <td>TV Show</td>\n",
       "      <td>Ganglands</td>\n",
       "      <td>Julien Leclercq</td>\n",
       "      <td>Sami Bouajila, Tracy Gotoas, Samuel Jouy, Nabi...</td>\n",
       "      <td>NaN</td>\n",
       "      <td>September 24, 2021</td>\n",
       "      <td>2021</td>\n",
       "      <td>TV-MA</td>\n",
       "      <td>1 Season</td>\n",
       "      <td>Crime TV Shows, International TV Shows, TV Act...</td>\n",
       "      <td>To protect his family from a powerful drug lor...</td>\n",
       "    </tr>\n",
       "    <tr>\n",
       "      <th>3</th>\n",
       "      <td>s4</td>\n",
       "      <td>TV Show</td>\n",
       "      <td>Jailbirds New Orleans</td>\n",
       "      <td>unknown</td>\n",
       "      <td>unknown</td>\n",
       "      <td>NaN</td>\n",
       "      <td>September 24, 2021</td>\n",
       "      <td>2021</td>\n",
       "      <td>TV-MA</td>\n",
       "      <td>1 Season</td>\n",
       "      <td>Docuseries, Reality TV</td>\n",
       "      <td>Feuds, flirtations and toilet talk go down amo...</td>\n",
       "    </tr>\n",
       "    <tr>\n",
       "      <th>5</th>\n",
       "      <td>s6</td>\n",
       "      <td>TV Show</td>\n",
       "      <td>Midnight Mass</td>\n",
       "      <td>Mike Flanagan</td>\n",
       "      <td>Kate Siegel, Zach Gilford, Hamish Linklater, H...</td>\n",
       "      <td>NaN</td>\n",
       "      <td>September 24, 2021</td>\n",
       "      <td>2021</td>\n",
       "      <td>TV-MA</td>\n",
       "      <td>1 Season</td>\n",
       "      <td>TV Dramas, TV Horror, TV Mysteries</td>\n",
       "      <td>The arrival of a charismatic young priest brin...</td>\n",
       "    </tr>\n",
       "    <tr>\n",
       "      <th>6</th>\n",
       "      <td>s7</td>\n",
       "      <td>Movie</td>\n",
       "      <td>My Little Pony: A New Generation</td>\n",
       "      <td>Robert Cullen, José Luis Ucha</td>\n",
       "      <td>Vanessa Hudgens, Kimiko Glenn, James Marsden, ...</td>\n",
       "      <td>NaN</td>\n",
       "      <td>September 24, 2021</td>\n",
       "      <td>2021</td>\n",
       "      <td>PG</td>\n",
       "      <td>91 min</td>\n",
       "      <td>Children &amp; Family Movies</td>\n",
       "      <td>Equestria's divided. But a bright-eyed hero be...</td>\n",
       "    </tr>\n",
       "    <tr>\n",
       "      <th>10</th>\n",
       "      <td>s11</td>\n",
       "      <td>TV Show</td>\n",
       "      <td>Vendetta: Truth, Lies and The Mafia</td>\n",
       "      <td>unknown</td>\n",
       "      <td>unknown</td>\n",
       "      <td>NaN</td>\n",
       "      <td>September 24, 2021</td>\n",
       "      <td>2021</td>\n",
       "      <td>TV-MA</td>\n",
       "      <td>1 Season</td>\n",
       "      <td>Crime TV Shows, Docuseries, International TV S...</td>\n",
       "      <td>Sicily boasts a bold \"Anti-Mafia\" coalition. B...</td>\n",
       "    </tr>\n",
       "    <tr>\n",
       "      <th>...</th>\n",
       "      <td>...</td>\n",
       "      <td>...</td>\n",
       "      <td>...</td>\n",
       "      <td>...</td>\n",
       "      <td>...</td>\n",
       "      <td>...</td>\n",
       "      <td>...</td>\n",
       "      <td>...</td>\n",
       "      <td>...</td>\n",
       "      <td>...</td>\n",
       "      <td>...</td>\n",
       "      <td>...</td>\n",
       "    </tr>\n",
       "    <tr>\n",
       "      <th>8718</th>\n",
       "      <td>s8719</td>\n",
       "      <td>Movie</td>\n",
       "      <td>Westside vs. the World</td>\n",
       "      <td>Michael Fahey</td>\n",
       "      <td>Ron Perlman, Louie Simmons</td>\n",
       "      <td>NaN</td>\n",
       "      <td>August 9, 2019</td>\n",
       "      <td>2019</td>\n",
       "      <td>TV-MA</td>\n",
       "      <td>96 min</td>\n",
       "      <td>Documentaries, Sports Movies</td>\n",
       "      <td>A look into the journey of influential strengt...</td>\n",
       "    </tr>\n",
       "    <tr>\n",
       "      <th>8759</th>\n",
       "      <td>s8760</td>\n",
       "      <td>Movie</td>\n",
       "      <td>World's Weirdest Homes</td>\n",
       "      <td>Storm Theunissen</td>\n",
       "      <td>Charlie Luxton</td>\n",
       "      <td>NaN</td>\n",
       "      <td>February 1, 2019</td>\n",
       "      <td>2015</td>\n",
       "      <td>TV-PG</td>\n",
       "      <td>49 min</td>\n",
       "      <td>Movies</td>\n",
       "      <td>From a bubble-shaped palace to an island built...</td>\n",
       "    </tr>\n",
       "    <tr>\n",
       "      <th>8783</th>\n",
       "      <td>s8784</td>\n",
       "      <td>TV Show</td>\n",
       "      <td>Yoko</td>\n",
       "      <td>unknown</td>\n",
       "      <td>Eileen Stevens, Alyson Leigh Rosenfeld, Sarah ...</td>\n",
       "      <td>NaN</td>\n",
       "      <td>June 23, 2018</td>\n",
       "      <td>2016</td>\n",
       "      <td>TV-Y</td>\n",
       "      <td>1 Season</td>\n",
       "      <td>Kids' TV</td>\n",
       "      <td>Friends Mai, Oto and Vik's games at the park b...</td>\n",
       "    </tr>\n",
       "    <tr>\n",
       "      <th>8785</th>\n",
       "      <td>s8786</td>\n",
       "      <td>TV Show</td>\n",
       "      <td>YOM</td>\n",
       "      <td>unknown</td>\n",
       "      <td>Sairaj, Devyani Dagaonkar, Ketan Singh, Mayur ...</td>\n",
       "      <td>NaN</td>\n",
       "      <td>June 7, 2018</td>\n",
       "      <td>2016</td>\n",
       "      <td>TV-Y7</td>\n",
       "      <td>1 Season</td>\n",
       "      <td>Kids' TV</td>\n",
       "      <td>With the mind of a human being, and the body o...</td>\n",
       "    </tr>\n",
       "    <tr>\n",
       "      <th>8803</th>\n",
       "      <td>s8804</td>\n",
       "      <td>TV Show</td>\n",
       "      <td>Zombie Dumb</td>\n",
       "      <td>unknown</td>\n",
       "      <td>unknown</td>\n",
       "      <td>NaN</td>\n",
       "      <td>July 1, 2019</td>\n",
       "      <td>2018</td>\n",
       "      <td>TV-Y7</td>\n",
       "      <td>2 Seasons</td>\n",
       "      <td>Kids' TV, Korean TV Shows, TV Comedies</td>\n",
       "      <td>While living alone in a spooky town, a young g...</td>\n",
       "    </tr>\n",
       "  </tbody>\n",
       "</table>\n",
       "<p>831 rows × 12 columns</p>\n",
       "</div>"
      ],
      "text/plain": [
       "     show_id     type                                title  \\\n",
       "2         s3  TV Show                            Ganglands   \n",
       "3         s4  TV Show                Jailbirds New Orleans   \n",
       "5         s6  TV Show                        Midnight Mass   \n",
       "6         s7    Movie     My Little Pony: A New Generation   \n",
       "10       s11  TV Show  Vendetta: Truth, Lies and The Mafia   \n",
       "...      ...      ...                                  ...   \n",
       "8718   s8719    Movie               Westside vs. the World   \n",
       "8759   s8760    Movie               World's Weirdest Homes   \n",
       "8783   s8784  TV Show                                 Yoko   \n",
       "8785   s8786  TV Show                                  YOM   \n",
       "8803   s8804  TV Show                          Zombie Dumb   \n",
       "\n",
       "                           director  \\\n",
       "2                   Julien Leclercq   \n",
       "3                           unknown   \n",
       "5                     Mike Flanagan   \n",
       "6     Robert Cullen, José Luis Ucha   \n",
       "10                          unknown   \n",
       "...                             ...   \n",
       "8718                  Michael Fahey   \n",
       "8759               Storm Theunissen   \n",
       "8783                        unknown   \n",
       "8785                        unknown   \n",
       "8803                        unknown   \n",
       "\n",
       "                                                   cast country  \\\n",
       "2     Sami Bouajila, Tracy Gotoas, Samuel Jouy, Nabi...     NaN   \n",
       "3                                               unknown     NaN   \n",
       "5     Kate Siegel, Zach Gilford, Hamish Linklater, H...     NaN   \n",
       "6     Vanessa Hudgens, Kimiko Glenn, James Marsden, ...     NaN   \n",
       "10                                              unknown     NaN   \n",
       "...                                                 ...     ...   \n",
       "8718                         Ron Perlman, Louie Simmons     NaN   \n",
       "8759                                     Charlie Luxton     NaN   \n",
       "8783  Eileen Stevens, Alyson Leigh Rosenfeld, Sarah ...     NaN   \n",
       "8785  Sairaj, Devyani Dagaonkar, Ketan Singh, Mayur ...     NaN   \n",
       "8803                                            unknown     NaN   \n",
       "\n",
       "              date_added  release_year rating   duration  \\\n",
       "2     September 24, 2021          2021  TV-MA   1 Season   \n",
       "3     September 24, 2021          2021  TV-MA   1 Season   \n",
       "5     September 24, 2021          2021  TV-MA   1 Season   \n",
       "6     September 24, 2021          2021     PG     91 min   \n",
       "10    September 24, 2021          2021  TV-MA   1 Season   \n",
       "...                  ...           ...    ...        ...   \n",
       "8718      August 9, 2019          2019  TV-MA     96 min   \n",
       "8759    February 1, 2019          2015  TV-PG     49 min   \n",
       "8783       June 23, 2018          2016   TV-Y   1 Season   \n",
       "8785        June 7, 2018          2016  TV-Y7   1 Season   \n",
       "8803        July 1, 2019          2018  TV-Y7  2 Seasons   \n",
       "\n",
       "                                              listed_in  \\\n",
       "2     Crime TV Shows, International TV Shows, TV Act...   \n",
       "3                                Docuseries, Reality TV   \n",
       "5                    TV Dramas, TV Horror, TV Mysteries   \n",
       "6                              Children & Family Movies   \n",
       "10    Crime TV Shows, Docuseries, International TV S...   \n",
       "...                                                 ...   \n",
       "8718                       Documentaries, Sports Movies   \n",
       "8759                                             Movies   \n",
       "8783                                           Kids' TV   \n",
       "8785                                           Kids' TV   \n",
       "8803             Kids' TV, Korean TV Shows, TV Comedies   \n",
       "\n",
       "                                            description  \n",
       "2     To protect his family from a powerful drug lor...  \n",
       "3     Feuds, flirtations and toilet talk go down amo...  \n",
       "5     The arrival of a charismatic young priest brin...  \n",
       "6     Equestria's divided. But a bright-eyed hero be...  \n",
       "10    Sicily boasts a bold \"Anti-Mafia\" coalition. B...  \n",
       "...                                                 ...  \n",
       "8718  A look into the journey of influential strengt...  \n",
       "8759  From a bubble-shaped palace to an island built...  \n",
       "8783  Friends Mai, Oto and Vik's games at the park b...  \n",
       "8785  With the mind of a human being, and the body o...  \n",
       "8803  While living alone in a spooky town, a young g...  \n",
       "\n",
       "[831 rows x 12 columns]"
      ]
     },
     "execution_count": 88,
     "metadata": {},
     "output_type": "execute_result"
    }
   ],
   "source": [
    "df[df['country'].isnull()]"
   ]
  },
  {
   "cell_type": "code",
   "execution_count": 89,
   "id": "3de26139",
   "metadata": {
    "execution": {
     "iopub.execute_input": "2023-08-27T18:51:36.754981Z",
     "iopub.status.busy": "2023-08-27T18:51:36.754627Z",
     "iopub.status.idle": "2023-08-27T18:51:36.766154Z",
     "shell.execute_reply": "2023-08-27T18:51:36.765131Z"
    },
    "papermill": {
     "duration": 0.039145,
     "end_time": "2023-08-27T18:51:36.768823",
     "exception": false,
     "start_time": "2023-08-27T18:51:36.729678",
     "status": "completed"
    },
    "tags": []
   },
   "outputs": [
    {
     "data": {
      "text/plain": [
       "0"
      ]
     },
     "execution_count": 89,
     "metadata": {},
     "output_type": "execute_result"
    }
   ],
   "source": [
    "df['country'] = df['country'].fillna('unknown')\n",
    "df['country'].isnull().sum()"
   ]
  },
  {
   "cell_type": "markdown",
   "id": "83f02138",
   "metadata": {
    "papermill": {
     "duration": 0.029111,
     "end_time": "2023-08-27T18:51:36.825758",
     "exception": false,
     "start_time": "2023-08-27T18:51:36.796647",
     "status": "completed"
    },
    "tags": []
   },
   "source": [
    "* **\"data_added, rating, duration\" feature have less amount of NaN values,we can directly drop that.**"
   ]
  },
  {
   "cell_type": "code",
   "execution_count": 75,
   "id": "6a5c572c",
   "metadata": {
    "execution": {
     "iopub.execute_input": "2023-08-27T18:51:36.879431Z",
     "iopub.status.busy": "2023-08-27T18:51:36.878893Z",
     "iopub.status.idle": "2023-08-27T18:51:36.963153Z",
     "shell.execute_reply": "2023-08-27T18:51:36.962022Z"
    },
    "papermill": {
     "duration": 0.116082,
     "end_time": "2023-08-27T18:51:36.965845",
     "exception": false,
     "start_time": "2023-08-27T18:51:36.849763",
     "status": "completed"
    },
    "tags": []
   },
   "outputs": [
    {
     "data": {
      "text/plain": [
       "show_id         0.0\n",
       "type            0.0\n",
       "title           0.0\n",
       "director        0.0\n",
       "cast            0.0\n",
       "country         0.0\n",
       "release_year    0.0\n",
       "rating          0.0\n",
       "duration        0.0\n",
       "description     0.0\n",
       "added_month     0.0\n",
       "added_year      0.0\n",
       "genre_1         0.0\n",
       "genre_2         0.0\n",
       "genre_3         0.0\n",
       "dtype: float64"
      ]
     },
     "execution_count": 75,
     "metadata": {},
     "output_type": "execute_result"
    }
   ],
   "source": [
    "\n",
    "df.isnull().mean()*100"
   ]
  },
  {
   "cell_type": "markdown",
   "id": "bfec5bb1",
   "metadata": {
    "execution": {
     "iopub.execute_input": "2023-08-27T16:15:24.708654Z",
     "iopub.status.busy": "2023-08-27T16:15:24.708149Z",
     "iopub.status.idle": "2023-08-27T16:15:24.716356Z",
     "shell.execute_reply": "2023-08-27T16:15:24.715026Z",
     "shell.execute_reply.started": "2023-08-27T16:15:24.708616Z"
    },
    "papermill": {
     "duration": 0.028533,
     "end_time": "2023-08-27T18:51:37.023782",
     "exception": false,
     "start_time": "2023-08-27T18:51:36.995249",
     "status": "completed"
    },
    "tags": []
   },
   "source": [
    "<a id ='standardization'></a>\n",
    "# Standarization"
   ]
  },
  {
   "cell_type": "code",
   "execution_count": 90,
   "id": "343d964f",
   "metadata": {
    "execution": {
     "iopub.execute_input": "2023-08-27T18:51:37.078342Z",
     "iopub.status.busy": "2023-08-27T18:51:37.077477Z",
     "iopub.status.idle": "2023-08-27T18:51:37.096467Z",
     "shell.execute_reply": "2023-08-27T18:51:37.094345Z"
    },
    "papermill": {
     "duration": 0.051499,
     "end_time": "2023-08-27T18:51:37.100528",
     "exception": false,
     "start_time": "2023-08-27T18:51:37.049029",
     "status": "completed"
    },
    "tags": []
   },
   "outputs": [
    {
     "data": {
      "text/plain": [
       "0    United states\n",
       "1     South africa\n",
       "2          Unknown\n",
       "3          Unknown\n",
       "4            India\n",
       "Name: country, dtype: object"
      ]
     },
     "execution_count": 90,
     "metadata": {},
     "output_type": "execute_result"
    }
   ],
   "source": [
    "# Capitalizing 'Country' Featur\n",
    "df['country'] = df['country'].apply(lambda x: x.capitalize())\n",
    "df.country.head()"
   ]
  },
  {
   "cell_type": "code",
   "execution_count": 72,
   "id": "30f910c2",
   "metadata": {
    "execution": {
     "iopub.execute_input": "2023-08-27T18:51:37.154271Z",
     "iopub.status.busy": "2023-08-27T18:51:37.152698Z",
     "iopub.status.idle": "2023-08-27T18:51:37.173352Z",
     "shell.execute_reply": "2023-08-27T18:51:37.172236Z"
    },
    "papermill": {
     "duration": 0.050108,
     "end_time": "2023-08-27T18:51:37.175916",
     "exception": false,
     "start_time": "2023-08-27T18:51:37.125808",
     "status": "completed"
    },
    "tags": []
   },
   "outputs": [
    {
     "ename": "KeyError",
     "evalue": "\"['date_added'] not in index\"",
     "output_type": "error",
     "traceback": [
      "\u001b[1;31m---------------------------------------------------------------------------\u001b[0m",
      "\u001b[1;31mKeyError\u001b[0m                                  Traceback (most recent call last)",
      "Cell \u001b[1;32mIn[72], line 1\u001b[0m\n\u001b[1;32m----> 1\u001b[0m df[[\u001b[38;5;124m'\u001b[39m\u001b[38;5;124mdate_added\u001b[39m\u001b[38;5;124m'\u001b[39m,\u001b[38;5;124m'\u001b[39m\u001b[38;5;124mrelease_year\u001b[39m\u001b[38;5;124m'\u001b[39m]]\n",
      "File \u001b[1;32m~\\anaconda3\\Lib\\site-packages\\pandas\\core\\frame.py:3767\u001b[0m, in \u001b[0;36mDataFrame.__getitem__\u001b[1;34m(self, key)\u001b[0m\n\u001b[0;32m   3765\u001b[0m     \u001b[38;5;28;01mif\u001b[39;00m is_iterator(key):\n\u001b[0;32m   3766\u001b[0m         key \u001b[38;5;241m=\u001b[39m \u001b[38;5;28mlist\u001b[39m(key)\n\u001b[1;32m-> 3767\u001b[0m     indexer \u001b[38;5;241m=\u001b[39m \u001b[38;5;28mself\u001b[39m\u001b[38;5;241m.\u001b[39mcolumns\u001b[38;5;241m.\u001b[39m_get_indexer_strict(key, \u001b[38;5;124m\"\u001b[39m\u001b[38;5;124mcolumns\u001b[39m\u001b[38;5;124m\"\u001b[39m)[\u001b[38;5;241m1\u001b[39m]\n\u001b[0;32m   3769\u001b[0m \u001b[38;5;66;03m# take() does not accept boolean indexers\u001b[39;00m\n\u001b[0;32m   3770\u001b[0m \u001b[38;5;28;01mif\u001b[39;00m \u001b[38;5;28mgetattr\u001b[39m(indexer, \u001b[38;5;124m\"\u001b[39m\u001b[38;5;124mdtype\u001b[39m\u001b[38;5;124m\"\u001b[39m, \u001b[38;5;28;01mNone\u001b[39;00m) \u001b[38;5;241m==\u001b[39m \u001b[38;5;28mbool\u001b[39m:\n",
      "File \u001b[1;32m~\\anaconda3\\Lib\\site-packages\\pandas\\core\\indexes\\base.py:5877\u001b[0m, in \u001b[0;36mIndex._get_indexer_strict\u001b[1;34m(self, key, axis_name)\u001b[0m\n\u001b[0;32m   5874\u001b[0m \u001b[38;5;28;01melse\u001b[39;00m:\n\u001b[0;32m   5875\u001b[0m     keyarr, indexer, new_indexer \u001b[38;5;241m=\u001b[39m \u001b[38;5;28mself\u001b[39m\u001b[38;5;241m.\u001b[39m_reindex_non_unique(keyarr)\n\u001b[1;32m-> 5877\u001b[0m \u001b[38;5;28mself\u001b[39m\u001b[38;5;241m.\u001b[39m_raise_if_missing(keyarr, indexer, axis_name)\n\u001b[0;32m   5879\u001b[0m keyarr \u001b[38;5;241m=\u001b[39m \u001b[38;5;28mself\u001b[39m\u001b[38;5;241m.\u001b[39mtake(indexer)\n\u001b[0;32m   5880\u001b[0m \u001b[38;5;28;01mif\u001b[39;00m \u001b[38;5;28misinstance\u001b[39m(key, Index):\n\u001b[0;32m   5881\u001b[0m     \u001b[38;5;66;03m# GH 42790 - Preserve name from an Index\u001b[39;00m\n",
      "File \u001b[1;32m~\\anaconda3\\Lib\\site-packages\\pandas\\core\\indexes\\base.py:5941\u001b[0m, in \u001b[0;36mIndex._raise_if_missing\u001b[1;34m(self, key, indexer, axis_name)\u001b[0m\n\u001b[0;32m   5938\u001b[0m     \u001b[38;5;28;01mraise\u001b[39;00m \u001b[38;5;167;01mKeyError\u001b[39;00m(\u001b[38;5;124mf\u001b[39m\u001b[38;5;124m\"\u001b[39m\u001b[38;5;124mNone of [\u001b[39m\u001b[38;5;132;01m{\u001b[39;00mkey\u001b[38;5;132;01m}\u001b[39;00m\u001b[38;5;124m] are in the [\u001b[39m\u001b[38;5;132;01m{\u001b[39;00maxis_name\u001b[38;5;132;01m}\u001b[39;00m\u001b[38;5;124m]\u001b[39m\u001b[38;5;124m\"\u001b[39m)\n\u001b[0;32m   5940\u001b[0m not_found \u001b[38;5;241m=\u001b[39m \u001b[38;5;28mlist\u001b[39m(ensure_index(key)[missing_mask\u001b[38;5;241m.\u001b[39mnonzero()[\u001b[38;5;241m0\u001b[39m]]\u001b[38;5;241m.\u001b[39munique())\n\u001b[1;32m-> 5941\u001b[0m \u001b[38;5;28;01mraise\u001b[39;00m \u001b[38;5;167;01mKeyError\u001b[39;00m(\u001b[38;5;124mf\u001b[39m\u001b[38;5;124m\"\u001b[39m\u001b[38;5;132;01m{\u001b[39;00mnot_found\u001b[38;5;132;01m}\u001b[39;00m\u001b[38;5;124m not in index\u001b[39m\u001b[38;5;124m\"\u001b[39m)\n",
      "\u001b[1;31mKeyError\u001b[0m: \"['date_added'] not in index\""
     ]
    }
   ],
   "source": [
    "df[['date_added','release_year']]"
   ]
  },
  {
   "cell_type": "code",
   "execution_count": 31,
   "id": "aba75d29",
   "metadata": {
    "execution": {
     "iopub.execute_input": "2023-08-27T18:51:37.236941Z",
     "iopub.status.busy": "2023-08-27T18:51:37.235839Z",
     "iopub.status.idle": "2023-08-27T18:51:37.272688Z",
     "shell.execute_reply": "2023-08-27T18:51:37.271793Z"
    },
    "papermill": {
     "duration": 0.067076,
     "end_time": "2023-08-27T18:51:37.275043",
     "exception": false,
     "start_time": "2023-08-27T18:51:37.207967",
     "status": "completed"
    },
    "tags": []
   },
   "outputs": [
    {
     "data": {
      "text/html": [
       "<div>\n",
       "<style scoped>\n",
       "    .dataframe tbody tr th:only-of-type {\n",
       "        vertical-align: middle;\n",
       "    }\n",
       "\n",
       "    .dataframe tbody tr th {\n",
       "        vertical-align: top;\n",
       "    }\n",
       "\n",
       "    .dataframe thead th {\n",
       "        text-align: right;\n",
       "    }\n",
       "</style>\n",
       "<table border=\"1\" class=\"dataframe\">\n",
       "  <thead>\n",
       "    <tr style=\"text-align: right;\">\n",
       "      <th></th>\n",
       "      <th>added_month</th>\n",
       "      <th>added_year</th>\n",
       "    </tr>\n",
       "  </thead>\n",
       "  <tbody>\n",
       "    <tr>\n",
       "      <th>0</th>\n",
       "      <td>September</td>\n",
       "      <td>2021</td>\n",
       "    </tr>\n",
       "    <tr>\n",
       "      <th>1</th>\n",
       "      <td>September</td>\n",
       "      <td>2021</td>\n",
       "    </tr>\n",
       "    <tr>\n",
       "      <th>2</th>\n",
       "      <td>September</td>\n",
       "      <td>2021</td>\n",
       "    </tr>\n",
       "    <tr>\n",
       "      <th>3</th>\n",
       "      <td>September</td>\n",
       "      <td>2021</td>\n",
       "    </tr>\n",
       "    <tr>\n",
       "      <th>4</th>\n",
       "      <td>September</td>\n",
       "      <td>2021</td>\n",
       "    </tr>\n",
       "    <tr>\n",
       "      <th>...</th>\n",
       "      <td>...</td>\n",
       "      <td>...</td>\n",
       "    </tr>\n",
       "    <tr>\n",
       "      <th>8802</th>\n",
       "      <td>November</td>\n",
       "      <td>2019</td>\n",
       "    </tr>\n",
       "    <tr>\n",
       "      <th>8803</th>\n",
       "      <td>July</td>\n",
       "      <td>2019</td>\n",
       "    </tr>\n",
       "    <tr>\n",
       "      <th>8804</th>\n",
       "      <td>November</td>\n",
       "      <td>2019</td>\n",
       "    </tr>\n",
       "    <tr>\n",
       "      <th>8805</th>\n",
       "      <td>January</td>\n",
       "      <td>2020</td>\n",
       "    </tr>\n",
       "    <tr>\n",
       "      <th>8806</th>\n",
       "      <td>March</td>\n",
       "      <td>2019</td>\n",
       "    </tr>\n",
       "  </tbody>\n",
       "</table>\n",
       "<p>8790 rows × 2 columns</p>\n",
       "</div>"
      ],
      "text/plain": [
       "     added_month added_year\n",
       "0      September       2021\n",
       "1      September       2021\n",
       "2      September       2021\n",
       "3      September       2021\n",
       "4      September       2021\n",
       "...          ...        ...\n",
       "8802    November       2019\n",
       "8803        July       2019\n",
       "8804    November       2019\n",
       "8805     January       2020\n",
       "8806       March       2019\n",
       "\n",
       "[8790 rows x 2 columns]"
      ]
     },
     "execution_count": 31,
     "metadata": {},
     "output_type": "execute_result"
    }
   ],
   "source": [
    "# converting date_added to month and year\n",
    "df['added_month'] = df['date_added'].apply(lambda x:x.split(',')[0].split()[0])\n",
    "df['added_year'] = df['date_added'].apply(lambda x:x.split(',')[1])\n",
    "df[['added_month','added_year']]"
   ]
  },
  {
   "cell_type": "code",
   "execution_count": 32,
   "id": "d5c42968",
   "metadata": {
    "execution": {
     "iopub.execute_input": "2023-08-27T18:51:37.329011Z",
     "iopub.status.busy": "2023-08-27T18:51:37.328259Z",
     "iopub.status.idle": "2023-08-27T18:51:37.336271Z",
     "shell.execute_reply": "2023-08-27T18:51:37.335301Z"
    },
    "papermill": {
     "duration": 0.037807,
     "end_time": "2023-08-27T18:51:37.338627",
     "exception": false,
     "start_time": "2023-08-27T18:51:37.300820",
     "status": "completed"
    },
    "tags": []
   },
   "outputs": [],
   "source": [
    "# droping column 'date_added'\n",
    "df.drop('date_added',axis=1,inplace= True)"
   ]
  },
  {
   "cell_type": "code",
   "execution_count": 33,
   "id": "c45f541e",
   "metadata": {
    "execution": {
     "iopub.execute_input": "2023-08-27T18:51:37.392882Z",
     "iopub.status.busy": "2023-08-27T18:51:37.392058Z",
     "iopub.status.idle": "2023-08-27T18:51:37.400694Z",
     "shell.execute_reply": "2023-08-27T18:51:37.399893Z"
    },
    "papermill": {
     "duration": 0.038181,
     "end_time": "2023-08-27T18:51:37.402902",
     "exception": false,
     "start_time": "2023-08-27T18:51:37.364721",
     "status": "completed"
    },
    "tags": []
   },
   "outputs": [],
   "source": [
    "df['added_year'] = df['added_year'].astype(int)"
   ]
  },
  {
   "cell_type": "markdown",
   "id": "40fb24c1",
   "metadata": {
    "papermill": {
     "duration": 0.024866,
     "end_time": "2023-08-27T18:51:37.452852",
     "exception": false,
     "start_time": "2023-08-27T18:51:37.427986",
     "status": "completed"
    },
    "tags": []
   },
   "source": []
  },
  {
   "cell_type": "code",
   "execution_count": 34,
   "id": "3762df27",
   "metadata": {
    "execution": {
     "iopub.execute_input": "2023-08-27T18:51:37.505301Z",
     "iopub.status.busy": "2023-08-27T18:51:37.504550Z",
     "iopub.status.idle": "2023-08-27T18:51:37.526748Z",
     "shell.execute_reply": "2023-08-27T18:51:37.525661Z"
    },
    "papermill": {
     "duration": 0.05096,
     "end_time": "2023-08-27T18:51:37.529148",
     "exception": false,
     "start_time": "2023-08-27T18:51:37.478188",
     "status": "completed"
    },
    "tags": []
   },
   "outputs": [
    {
     "data": {
      "text/html": [
       "<div>\n",
       "<style scoped>\n",
       "    .dataframe tbody tr th:only-of-type {\n",
       "        vertical-align: middle;\n",
       "    }\n",
       "\n",
       "    .dataframe tbody tr th {\n",
       "        vertical-align: top;\n",
       "    }\n",
       "\n",
       "    .dataframe thead th {\n",
       "        text-align: right;\n",
       "    }\n",
       "</style>\n",
       "<table border=\"1\" class=\"dataframe\">\n",
       "  <thead>\n",
       "    <tr style=\"text-align: right;\">\n",
       "      <th></th>\n",
       "      <th>show_id</th>\n",
       "      <th>type</th>\n",
       "      <th>title</th>\n",
       "      <th>director</th>\n",
       "      <th>cast</th>\n",
       "      <th>country</th>\n",
       "      <th>release_year</th>\n",
       "      <th>rating</th>\n",
       "      <th>duration</th>\n",
       "      <th>listed_in</th>\n",
       "      <th>description</th>\n",
       "      <th>added_month</th>\n",
       "      <th>added_year</th>\n",
       "    </tr>\n",
       "  </thead>\n",
       "  <tbody>\n",
       "    <tr>\n",
       "      <th>1551</th>\n",
       "      <td>s1552</td>\n",
       "      <td>TV Show</td>\n",
       "      <td>Hilda</td>\n",
       "      <td>unknown</td>\n",
       "      <td>Bella Ramsey, Ameerah Falzon-Ojo, Oliver Nelso...</td>\n",
       "      <td>United kingdom, canada, united states</td>\n",
       "      <td>2021</td>\n",
       "      <td>TV-Y7</td>\n",
       "      <td>2 Seasons</td>\n",
       "      <td>Kids' TV</td>\n",
       "      <td>Fearless, free-spirited Hilda finds new friend...</td>\n",
       "      <td>December</td>\n",
       "      <td>2020</td>\n",
       "    </tr>\n",
       "    <tr>\n",
       "      <th>1696</th>\n",
       "      <td>s1697</td>\n",
       "      <td>TV Show</td>\n",
       "      <td>Polly Pocket</td>\n",
       "      <td>unknown</td>\n",
       "      <td>Emily Tennant, Shannon Chan-Kent, Kazumi Evans...</td>\n",
       "      <td>Canada, united states, ireland</td>\n",
       "      <td>2021</td>\n",
       "      <td>TV-Y</td>\n",
       "      <td>2 Seasons</td>\n",
       "      <td>Kids' TV</td>\n",
       "      <td>After uncovering a magical locket that allows ...</td>\n",
       "      <td>November</td>\n",
       "      <td>2020</td>\n",
       "    </tr>\n",
       "    <tr>\n",
       "      <th>2920</th>\n",
       "      <td>s2921</td>\n",
       "      <td>TV Show</td>\n",
       "      <td>Love Is Blind</td>\n",
       "      <td>unknown</td>\n",
       "      <td>Nick Lachey, Vanessa Lachey</td>\n",
       "      <td>United states</td>\n",
       "      <td>2021</td>\n",
       "      <td>TV-MA</td>\n",
       "      <td>1 Season</td>\n",
       "      <td>Reality TV, Romantic TV Shows</td>\n",
       "      <td>Nick and Vanessa Lachey host this social exper...</td>\n",
       "      <td>February</td>\n",
       "      <td>2020</td>\n",
       "    </tr>\n",
       "    <tr>\n",
       "      <th>3168</th>\n",
       "      <td>s3169</td>\n",
       "      <td>TV Show</td>\n",
       "      <td>Fuller House</td>\n",
       "      <td>unknown</td>\n",
       "      <td>Candace Cameron Bure, Jodie Sweetin, Andrea Ba...</td>\n",
       "      <td>United states</td>\n",
       "      <td>2020</td>\n",
       "      <td>TV-PG</td>\n",
       "      <td>5 Seasons</td>\n",
       "      <td>TV Comedies</td>\n",
       "      <td>The Tanner family’s adventures continue as DJ ...</td>\n",
       "      <td>December</td>\n",
       "      <td>2019</td>\n",
       "    </tr>\n",
       "    <tr>\n",
       "      <th>3287</th>\n",
       "      <td>s3288</td>\n",
       "      <td>TV Show</td>\n",
       "      <td>Maradona in Mexico</td>\n",
       "      <td>unknown</td>\n",
       "      <td>Diego Armando Maradona</td>\n",
       "      <td>Argentina, united states, mexico</td>\n",
       "      <td>2020</td>\n",
       "      <td>TV-MA</td>\n",
       "      <td>1 Season</td>\n",
       "      <td>Docuseries, Spanish-Language TV Shows</td>\n",
       "      <td>In this docuseries, soccer great Diego Maradon...</td>\n",
       "      <td>November</td>\n",
       "      <td>2019</td>\n",
       "    </tr>\n",
       "    <tr>\n",
       "      <th>3369</th>\n",
       "      <td>s3370</td>\n",
       "      <td>TV Show</td>\n",
       "      <td>BoJack Horseman</td>\n",
       "      <td>unknown</td>\n",
       "      <td>Will Arnett, Aaron Paul, Amy Sedaris, Alison B...</td>\n",
       "      <td>United states</td>\n",
       "      <td>2020</td>\n",
       "      <td>TV-MA</td>\n",
       "      <td>6 Seasons</td>\n",
       "      <td>TV Comedies</td>\n",
       "      <td>Meet the most beloved sitcom horse of the '90s...</td>\n",
       "      <td>October</td>\n",
       "      <td>2019</td>\n",
       "    </tr>\n",
       "    <tr>\n",
       "      <th>3433</th>\n",
       "      <td>s3434</td>\n",
       "      <td>TV Show</td>\n",
       "      <td>The Hook Up Plan</td>\n",
       "      <td>unknown</td>\n",
       "      <td>Marc Ruchmann, Zita Hanrot, Sabrina Ouazani, J...</td>\n",
       "      <td>France</td>\n",
       "      <td>2020</td>\n",
       "      <td>TV-MA</td>\n",
       "      <td>2 Seasons</td>\n",
       "      <td>International TV Shows, Romantic TV Shows, TV ...</td>\n",
       "      <td>When Parisian Elsa gets hung up on her ex, her...</td>\n",
       "      <td>October</td>\n",
       "      <td>2019</td>\n",
       "    </tr>\n",
       "    <tr>\n",
       "      <th>4844</th>\n",
       "      <td>s4845</td>\n",
       "      <td>TV Show</td>\n",
       "      <td>Unbreakable Kimmy Schmidt</td>\n",
       "      <td>unknown</td>\n",
       "      <td>Ellie Kemper, Jane Krakowski, Tituss Burgess, ...</td>\n",
       "      <td>United states</td>\n",
       "      <td>2019</td>\n",
       "      <td>TV-14</td>\n",
       "      <td>4 Seasons</td>\n",
       "      <td>TV Comedies</td>\n",
       "      <td>When a woman is rescued from a doomsday cult a...</td>\n",
       "      <td>May</td>\n",
       "      <td>2018</td>\n",
       "    </tr>\n",
       "    <tr>\n",
       "      <th>4845</th>\n",
       "      <td>s4846</td>\n",
       "      <td>TV Show</td>\n",
       "      <td>Arrested Development</td>\n",
       "      <td>unknown</td>\n",
       "      <td>Jason Bateman, Portia de Rossi, Will Arnett, M...</td>\n",
       "      <td>United states</td>\n",
       "      <td>2019</td>\n",
       "      <td>TV-MA</td>\n",
       "      <td>5 Seasons</td>\n",
       "      <td>TV Comedies</td>\n",
       "      <td>It's the Emmy-winning story of a wealthy famil...</td>\n",
       "      <td>May</td>\n",
       "      <td>2018</td>\n",
       "    </tr>\n",
       "    <tr>\n",
       "      <th>5394</th>\n",
       "      <td>s5395</td>\n",
       "      <td>Movie</td>\n",
       "      <td>Hans Teeuwen: Real Rancour</td>\n",
       "      <td>Doesjka van Hoogdalem</td>\n",
       "      <td>Hans Teeuwen</td>\n",
       "      <td>Netherlands</td>\n",
       "      <td>2018</td>\n",
       "      <td>TV-MA</td>\n",
       "      <td>86 min</td>\n",
       "      <td>Stand-Up Comedy</td>\n",
       "      <td>Comedian Hans Teeuwen rebels against political...</td>\n",
       "      <td>July</td>\n",
       "      <td>2017</td>\n",
       "    </tr>\n",
       "    <tr>\n",
       "      <th>5658</th>\n",
       "      <td>s5659</td>\n",
       "      <td>TV Show</td>\n",
       "      <td>Sense8</td>\n",
       "      <td>unknown</td>\n",
       "      <td>Tuppence Middleton, Brian J. Smith, Doona Bae,...</td>\n",
       "      <td>United states</td>\n",
       "      <td>2018</td>\n",
       "      <td>TV-MA</td>\n",
       "      <td>2 Seasons</td>\n",
       "      <td>Crime TV Shows, TV Dramas, TV Mysteries</td>\n",
       "      <td>From the creators of \"The Matrix\" and \"Babylon...</td>\n",
       "      <td>December</td>\n",
       "      <td>2016</td>\n",
       "    </tr>\n",
       "    <tr>\n",
       "      <th>5677</th>\n",
       "      <td>s5678</td>\n",
       "      <td>TV Show</td>\n",
       "      <td>Tokyo Trial</td>\n",
       "      <td>unknown</td>\n",
       "      <td>Marcel Hensema, Paul Freeman, Irrfan Khan, Sta...</td>\n",
       "      <td>Canada, japan, netherlands</td>\n",
       "      <td>2017</td>\n",
       "      <td>TV-MA</td>\n",
       "      <td>1 Season</td>\n",
       "      <td>International TV Shows, TV Dramas</td>\n",
       "      <td>In the wake of World War II, 11 Allied judges ...</td>\n",
       "      <td>December</td>\n",
       "      <td>2016</td>\n",
       "    </tr>\n",
       "    <tr>\n",
       "      <th>7063</th>\n",
       "      <td>s7064</td>\n",
       "      <td>Movie</td>\n",
       "      <td>Incoming</td>\n",
       "      <td>Eric Zaragosa</td>\n",
       "      <td>Scott Adkins, Aaron McCusker, Vahldin Prelic, ...</td>\n",
       "      <td>Serbia, united states</td>\n",
       "      <td>2019</td>\n",
       "      <td>TV-MA</td>\n",
       "      <td>89 min</td>\n",
       "      <td>Action &amp; Adventure, Sci-Fi &amp; Fantasy</td>\n",
       "      <td>When an imprisoned terrorist cell hijacks a hi...</td>\n",
       "      <td>October</td>\n",
       "      <td>2018</td>\n",
       "    </tr>\n",
       "    <tr>\n",
       "      <th>7112</th>\n",
       "      <td>s7113</td>\n",
       "      <td>TV Show</td>\n",
       "      <td>Jack Taylor</td>\n",
       "      <td>Stuart Orme</td>\n",
       "      <td>Iain Glen, Killian Scott, Nora-Jane Noone, Tar...</td>\n",
       "      <td>United states, ireland</td>\n",
       "      <td>2016</td>\n",
       "      <td>TV-MA</td>\n",
       "      <td>1 Season</td>\n",
       "      <td>Crime TV Shows, International TV Shows, TV Dramas</td>\n",
       "      <td>Ken Bruen's bestselling crime novels leap to l...</td>\n",
       "      <td>March</td>\n",
       "      <td>2013</td>\n",
       "    </tr>\n",
       "  </tbody>\n",
       "</table>\n",
       "</div>"
      ],
      "text/plain": [
       "     show_id     type                       title               director  \\\n",
       "1551   s1552  TV Show                       Hilda                unknown   \n",
       "1696   s1697  TV Show                Polly Pocket                unknown   \n",
       "2920   s2921  TV Show               Love Is Blind                unknown   \n",
       "3168   s3169  TV Show                Fuller House                unknown   \n",
       "3287   s3288  TV Show          Maradona in Mexico                unknown   \n",
       "3369   s3370  TV Show             BoJack Horseman                unknown   \n",
       "3433   s3434  TV Show            The Hook Up Plan                unknown   \n",
       "4844   s4845  TV Show   Unbreakable Kimmy Schmidt                unknown   \n",
       "4845   s4846  TV Show        Arrested Development                unknown   \n",
       "5394   s5395    Movie  Hans Teeuwen: Real Rancour  Doesjka van Hoogdalem   \n",
       "5658   s5659  TV Show                      Sense8                unknown   \n",
       "5677   s5678  TV Show                 Tokyo Trial                unknown   \n",
       "7063   s7064    Movie                    Incoming          Eric Zaragosa   \n",
       "7112   s7113  TV Show                 Jack Taylor            Stuart Orme   \n",
       "\n",
       "                                                   cast  \\\n",
       "1551  Bella Ramsey, Ameerah Falzon-Ojo, Oliver Nelso...   \n",
       "1696  Emily Tennant, Shannon Chan-Kent, Kazumi Evans...   \n",
       "2920                        Nick Lachey, Vanessa Lachey   \n",
       "3168  Candace Cameron Bure, Jodie Sweetin, Andrea Ba...   \n",
       "3287                             Diego Armando Maradona   \n",
       "3369  Will Arnett, Aaron Paul, Amy Sedaris, Alison B...   \n",
       "3433  Marc Ruchmann, Zita Hanrot, Sabrina Ouazani, J...   \n",
       "4844  Ellie Kemper, Jane Krakowski, Tituss Burgess, ...   \n",
       "4845  Jason Bateman, Portia de Rossi, Will Arnett, M...   \n",
       "5394                                       Hans Teeuwen   \n",
       "5658  Tuppence Middleton, Brian J. Smith, Doona Bae,...   \n",
       "5677  Marcel Hensema, Paul Freeman, Irrfan Khan, Sta...   \n",
       "7063  Scott Adkins, Aaron McCusker, Vahldin Prelic, ...   \n",
       "7112  Iain Glen, Killian Scott, Nora-Jane Noone, Tar...   \n",
       "\n",
       "                                    country  release_year rating   duration  \\\n",
       "1551  United kingdom, canada, united states          2021  TV-Y7  2 Seasons   \n",
       "1696         Canada, united states, ireland          2021   TV-Y  2 Seasons   \n",
       "2920                          United states          2021  TV-MA   1 Season   \n",
       "3168                          United states          2020  TV-PG  5 Seasons   \n",
       "3287       Argentina, united states, mexico          2020  TV-MA   1 Season   \n",
       "3369                          United states          2020  TV-MA  6 Seasons   \n",
       "3433                                 France          2020  TV-MA  2 Seasons   \n",
       "4844                          United states          2019  TV-14  4 Seasons   \n",
       "4845                          United states          2019  TV-MA  5 Seasons   \n",
       "5394                            Netherlands          2018  TV-MA     86 min   \n",
       "5658                          United states          2018  TV-MA  2 Seasons   \n",
       "5677             Canada, japan, netherlands          2017  TV-MA   1 Season   \n",
       "7063                  Serbia, united states          2019  TV-MA     89 min   \n",
       "7112                 United states, ireland          2016  TV-MA   1 Season   \n",
       "\n",
       "                                              listed_in  \\\n",
       "1551                                           Kids' TV   \n",
       "1696                                           Kids' TV   \n",
       "2920                      Reality TV, Romantic TV Shows   \n",
       "3168                                        TV Comedies   \n",
       "3287              Docuseries, Spanish-Language TV Shows   \n",
       "3369                                        TV Comedies   \n",
       "3433  International TV Shows, Romantic TV Shows, TV ...   \n",
       "4844                                        TV Comedies   \n",
       "4845                                        TV Comedies   \n",
       "5394                                    Stand-Up Comedy   \n",
       "5658            Crime TV Shows, TV Dramas, TV Mysteries   \n",
       "5677                  International TV Shows, TV Dramas   \n",
       "7063               Action & Adventure, Sci-Fi & Fantasy   \n",
       "7112  Crime TV Shows, International TV Shows, TV Dramas   \n",
       "\n",
       "                                            description added_month  \\\n",
       "1551  Fearless, free-spirited Hilda finds new friend...    December   \n",
       "1696  After uncovering a magical locket that allows ...    November   \n",
       "2920  Nick and Vanessa Lachey host this social exper...    February   \n",
       "3168  The Tanner family’s adventures continue as DJ ...    December   \n",
       "3287  In this docuseries, soccer great Diego Maradon...    November   \n",
       "3369  Meet the most beloved sitcom horse of the '90s...     October   \n",
       "3433  When Parisian Elsa gets hung up on her ex, her...     October   \n",
       "4844  When a woman is rescued from a doomsday cult a...         May   \n",
       "4845  It's the Emmy-winning story of a wealthy famil...         May   \n",
       "5394  Comedian Hans Teeuwen rebels against political...        July   \n",
       "5658  From the creators of \"The Matrix\" and \"Babylon...    December   \n",
       "5677  In the wake of World War II, 11 Allied judges ...    December   \n",
       "7063  When an imprisoned terrorist cell hijacks a hi...     October   \n",
       "7112  Ken Bruen's bestselling crime novels leap to l...       March   \n",
       "\n",
       "      added_year  \n",
       "1551        2020  \n",
       "1696        2020  \n",
       "2920        2020  \n",
       "3168        2019  \n",
       "3287        2019  \n",
       "3369        2019  \n",
       "3433        2019  \n",
       "4844        2018  \n",
       "4845        2018  \n",
       "5394        2017  \n",
       "5658        2016  \n",
       "5677        2016  \n",
       "7063        2018  \n",
       "7112        2013  "
      ]
     },
     "execution_count": 34,
     "metadata": {},
     "output_type": "execute_result"
    }
   ],
   "source": [
    "df[df['added_year']<df['release_year']]"
   ]
  },
  {
   "cell_type": "code",
   "execution_count": 35,
   "id": "87ee4218",
   "metadata": {
    "execution": {
     "iopub.execute_input": "2023-08-27T18:51:37.582366Z",
     "iopub.status.busy": "2023-08-27T18:51:37.581642Z",
     "iopub.status.idle": "2023-08-27T18:51:37.590309Z",
     "shell.execute_reply": "2023-08-27T18:51:37.589483Z"
    },
    "papermill": {
     "duration": 0.038183,
     "end_time": "2023-08-27T18:51:37.592576",
     "exception": false,
     "start_time": "2023-08-27T18:51:37.554393",
     "status": "completed"
    },
    "tags": []
   },
   "outputs": [],
   "source": [
    "# date_added_year can't we less than release year,so droping those rows.\n",
    "df.drop(df[df['added_year']<df['release_year']].index,inplace = True)"
   ]
  },
  {
   "cell_type": "code",
   "execution_count": 36,
   "id": "9cf607c8",
   "metadata": {
    "execution": {
     "iopub.execute_input": "2023-08-27T18:51:37.647191Z",
     "iopub.status.busy": "2023-08-27T18:51:37.646419Z",
     "iopub.status.idle": "2023-08-27T18:51:37.663723Z",
     "shell.execute_reply": "2023-08-27T18:51:37.662571Z"
    },
    "papermill": {
     "duration": 0.04728,
     "end_time": "2023-08-27T18:51:37.666012",
     "exception": false,
     "start_time": "2023-08-27T18:51:37.618732",
     "status": "completed"
    },
    "tags": []
   },
   "outputs": [
    {
     "data": {
      "text/html": [
       "<div>\n",
       "<style scoped>\n",
       "    .dataframe tbody tr th:only-of-type {\n",
       "        vertical-align: middle;\n",
       "    }\n",
       "\n",
       "    .dataframe tbody tr th {\n",
       "        vertical-align: top;\n",
       "    }\n",
       "\n",
       "    .dataframe thead th {\n",
       "        text-align: right;\n",
       "    }\n",
       "</style>\n",
       "<table border=\"1\" class=\"dataframe\">\n",
       "  <thead>\n",
       "    <tr style=\"text-align: right;\">\n",
       "      <th></th>\n",
       "      <th>show_id</th>\n",
       "      <th>type</th>\n",
       "      <th>title</th>\n",
       "      <th>director</th>\n",
       "      <th>cast</th>\n",
       "      <th>country</th>\n",
       "      <th>release_year</th>\n",
       "      <th>rating</th>\n",
       "      <th>duration</th>\n",
       "      <th>listed_in</th>\n",
       "      <th>description</th>\n",
       "      <th>added_month</th>\n",
       "      <th>added_year</th>\n",
       "    </tr>\n",
       "  </thead>\n",
       "  <tbody>\n",
       "    <tr>\n",
       "      <th>0</th>\n",
       "      <td>s1</td>\n",
       "      <td>Movie</td>\n",
       "      <td>Dick Johnson Is Dead</td>\n",
       "      <td>Kirsten Johnson</td>\n",
       "      <td>unknown</td>\n",
       "      <td>United states</td>\n",
       "      <td>2020</td>\n",
       "      <td>PG-13</td>\n",
       "      <td>90 min</td>\n",
       "      <td>Documentaries</td>\n",
       "      <td>As her father nears the end of his life, filmm...</td>\n",
       "      <td>September</td>\n",
       "      <td>2021</td>\n",
       "    </tr>\n",
       "    <tr>\n",
       "      <th>1</th>\n",
       "      <td>s2</td>\n",
       "      <td>TV Show</td>\n",
       "      <td>Blood &amp; Water</td>\n",
       "      <td>unknown</td>\n",
       "      <td>Ama Qamata, Khosi Ngema, Gail Mabalane, Thaban...</td>\n",
       "      <td>South africa</td>\n",
       "      <td>2021</td>\n",
       "      <td>TV-MA</td>\n",
       "      <td>2 Seasons</td>\n",
       "      <td>International TV Shows, TV Dramas, TV Mysteries</td>\n",
       "      <td>After crossing paths at a party, a Cape Town t...</td>\n",
       "      <td>September</td>\n",
       "      <td>2021</td>\n",
       "    </tr>\n",
       "    <tr>\n",
       "      <th>2</th>\n",
       "      <td>s3</td>\n",
       "      <td>TV Show</td>\n",
       "      <td>Ganglands</td>\n",
       "      <td>Julien Leclercq</td>\n",
       "      <td>Sami Bouajila, Tracy Gotoas, Samuel Jouy, Nabi...</td>\n",
       "      <td>Unknown</td>\n",
       "      <td>2021</td>\n",
       "      <td>TV-MA</td>\n",
       "      <td>1 Season</td>\n",
       "      <td>Crime TV Shows, International TV Shows, TV Act...</td>\n",
       "      <td>To protect his family from a powerful drug lor...</td>\n",
       "      <td>September</td>\n",
       "      <td>2021</td>\n",
       "    </tr>\n",
       "    <tr>\n",
       "      <th>3</th>\n",
       "      <td>s4</td>\n",
       "      <td>TV Show</td>\n",
       "      <td>Jailbirds New Orleans</td>\n",
       "      <td>unknown</td>\n",
       "      <td>unknown</td>\n",
       "      <td>Unknown</td>\n",
       "      <td>2021</td>\n",
       "      <td>TV-MA</td>\n",
       "      <td>1 Season</td>\n",
       "      <td>Docuseries, Reality TV</td>\n",
       "      <td>Feuds, flirtations and toilet talk go down amo...</td>\n",
       "      <td>September</td>\n",
       "      <td>2021</td>\n",
       "    </tr>\n",
       "    <tr>\n",
       "      <th>4</th>\n",
       "      <td>s5</td>\n",
       "      <td>TV Show</td>\n",
       "      <td>Kota Factory</td>\n",
       "      <td>unknown</td>\n",
       "      <td>Mayur More, Jitendra Kumar, Ranjan Raj, Alam K...</td>\n",
       "      <td>India</td>\n",
       "      <td>2021</td>\n",
       "      <td>TV-MA</td>\n",
       "      <td>2 Seasons</td>\n",
       "      <td>International TV Shows, Romantic TV Shows, TV ...</td>\n",
       "      <td>In a city of coaching centers known to train I...</td>\n",
       "      <td>September</td>\n",
       "      <td>2021</td>\n",
       "    </tr>\n",
       "  </tbody>\n",
       "</table>\n",
       "</div>"
      ],
      "text/plain": [
       "  show_id     type                  title         director  \\\n",
       "0      s1    Movie   Dick Johnson Is Dead  Kirsten Johnson   \n",
       "1      s2  TV Show          Blood & Water          unknown   \n",
       "2      s3  TV Show              Ganglands  Julien Leclercq   \n",
       "3      s4  TV Show  Jailbirds New Orleans          unknown   \n",
       "4      s5  TV Show           Kota Factory          unknown   \n",
       "\n",
       "                                                cast        country  \\\n",
       "0                                            unknown  United states   \n",
       "1  Ama Qamata, Khosi Ngema, Gail Mabalane, Thaban...   South africa   \n",
       "2  Sami Bouajila, Tracy Gotoas, Samuel Jouy, Nabi...        Unknown   \n",
       "3                                            unknown        Unknown   \n",
       "4  Mayur More, Jitendra Kumar, Ranjan Raj, Alam K...          India   \n",
       "\n",
       "   release_year rating   duration  \\\n",
       "0          2020  PG-13     90 min   \n",
       "1          2021  TV-MA  2 Seasons   \n",
       "2          2021  TV-MA   1 Season   \n",
       "3          2021  TV-MA   1 Season   \n",
       "4          2021  TV-MA  2 Seasons   \n",
       "\n",
       "                                           listed_in  \\\n",
       "0                                      Documentaries   \n",
       "1    International TV Shows, TV Dramas, TV Mysteries   \n",
       "2  Crime TV Shows, International TV Shows, TV Act...   \n",
       "3                             Docuseries, Reality TV   \n",
       "4  International TV Shows, Romantic TV Shows, TV ...   \n",
       "\n",
       "                                         description added_month  added_year  \n",
       "0  As her father nears the end of his life, filmm...   September        2021  \n",
       "1  After crossing paths at a party, a Cape Town t...   September        2021  \n",
       "2  To protect his family from a powerful drug lor...   September        2021  \n",
       "3  Feuds, flirtations and toilet talk go down amo...   September        2021  \n",
       "4  In a city of coaching centers known to train I...   September        2021  "
      ]
     },
     "execution_count": 36,
     "metadata": {},
     "output_type": "execute_result"
    }
   ],
   "source": [
    "df.head()"
   ]
  },
  {
   "cell_type": "markdown",
   "id": "f06e43b4",
   "metadata": {
    "execution": {
     "iopub.execute_input": "2023-08-27T17:11:36.446984Z",
     "iopub.status.busy": "2023-08-27T17:11:36.446503Z",
     "iopub.status.idle": "2023-08-27T17:11:36.455546Z",
     "shell.execute_reply": "2023-08-27T17:11:36.453679Z",
     "shell.execute_reply.started": "2023-08-27T17:11:36.446944Z"
    },
    "papermill": {
     "duration": 0.026257,
     "end_time": "2023-08-27T18:51:37.718899",
     "exception": false,
     "start_time": "2023-08-27T18:51:37.692642",
     "status": "completed"
    },
    "tags": []
   },
   "source": [
    "<a id ='univariate_analysis'></a>\n",
    "# Univariate Analysis"
   ]
  },
  {
   "cell_type": "markdown",
   "id": "e8bbf637",
   "metadata": {
    "papermill": {
     "duration": 0.025943,
     "end_time": "2023-08-27T18:51:37.771539",
     "exception": false,
     "start_time": "2023-08-27T18:51:37.745596",
     "status": "completed"
    },
    "tags": []
   },
   "source": [
    "## Analysing 'Type' feature"
   ]
  },
  {
   "cell_type": "code",
   "execution_count": 91,
   "id": "58b061c8",
   "metadata": {
    "execution": {
     "iopub.execute_input": "2023-08-27T18:51:37.826879Z",
     "iopub.status.busy": "2023-08-27T18:51:37.826071Z",
     "iopub.status.idle": "2023-08-27T18:51:37.834403Z",
     "shell.execute_reply": "2023-08-27T18:51:37.833223Z"
    },
    "papermill": {
     "duration": 0.038746,
     "end_time": "2023-08-27T18:51:37.836952",
     "exception": false,
     "start_time": "2023-08-27T18:51:37.798206",
     "status": "completed"
    },
    "tags": []
   },
   "outputs": [
    {
     "data": {
      "text/plain": [
       "2"
      ]
     },
     "execution_count": 91,
     "metadata": {},
     "output_type": "execute_result"
    }
   ],
   "source": [
    "df['type'].nunique()  #counts the number of unique values"
   ]
  },
  {
   "cell_type": "code",
   "execution_count": 38,
   "id": "668a3118",
   "metadata": {
    "execution": {
     "iopub.execute_input": "2023-08-27T18:51:37.893249Z",
     "iopub.status.busy": "2023-08-27T18:51:37.892872Z",
     "iopub.status.idle": "2023-08-27T18:51:37.901540Z",
     "shell.execute_reply": "2023-08-27T18:51:37.900827Z"
    },
    "papermill": {
     "duration": 0.038817,
     "end_time": "2023-08-27T18:51:37.903657",
     "exception": false,
     "start_time": "2023-08-27T18:51:37.864840",
     "status": "completed"
    },
    "tags": []
   },
   "outputs": [
    {
     "data": {
      "text/plain": [
       "type\n",
       "Movie      0.697812\n",
       "TV Show    0.302188\n",
       "Name: proportion, dtype: float64"
      ]
     },
     "execution_count": 38,
     "metadata": {},
     "output_type": "execute_result"
    }
   ],
   "source": [
    "df['type'].value_counts(normalize=True)"
   ]
  },
  {
   "cell_type": "code",
   "execution_count": 39,
   "id": "7194859c",
   "metadata": {
    "execution": {
     "iopub.execute_input": "2023-08-27T18:51:37.960708Z",
     "iopub.status.busy": "2023-08-27T18:51:37.959817Z",
     "iopub.status.idle": "2023-08-27T18:51:38.294332Z",
     "shell.execute_reply": "2023-08-27T18:51:38.293224Z"
    },
    "papermill": {
     "duration": 0.365188,
     "end_time": "2023-08-27T18:51:38.296787",
     "exception": false,
     "start_time": "2023-08-27T18:51:37.931599",
     "status": "completed"
    },
    "tags": []
   },
   "outputs": [
    {
     "data": {
      "text/plain": [
       "<Axes: xlabel='type'>"
      ]
     },
     "execution_count": 39,
     "metadata": {},
     "output_type": "execute_result"
    },
    {
     "data": {
      "image/png": "[encoded data removed]",
      "text/plain": [
       "<Figure size 640x480 with 1 Axes>"
      ]
     },
     "metadata": {},
     "output_type": "display_data"
    }
   ],
   "source": [
    "df['type'].value_counts(normalize=True).plot.bar()"
   ]
  },
  {
   "cell_type": "markdown",
   "id": "899f8143",
   "metadata": {
    "execution": {
     "iopub.execute_input": "2023-08-27T17:13:41.146747Z",
     "iopub.status.busy": "2023-08-27T17:13:41.146246Z",
     "iopub.status.idle": "2023-08-27T17:13:41.154607Z",
     "shell.execute_reply": "2023-08-27T17:13:41.153094Z",
     "shell.execute_reply.started": "2023-08-27T17:13:41.146708Z"
    },
    "papermill": {
     "duration": 0.027053,
     "end_time": "2023-08-27T18:51:38.351153",
     "exception": false,
     "start_time": "2023-08-27T18:51:38.324100",
     "status": "completed"
    },
    "tags": []
   },
   "source": [
    "* **Inference:**\n",
    "* On Netflix  69% are Movie and 31% are TV Show"
   ]
  },
  {
   "cell_type": "markdown",
   "id": "1805114f",
   "metadata": {
    "papermill": {
     "duration": 0.026322,
     "end_time": "2023-08-27T18:51:38.404575",
     "exception": false,
     "start_time": "2023-08-27T18:51:38.378253",
     "status": "completed"
    },
    "tags": []
   },
   "source": [
    "## Analysing 'director' feature"
   ]
  },
  {
   "cell_type": "code",
   "execution_count": 40,
   "id": "9a80940a",
   "metadata": {
    "execution": {
     "iopub.execute_input": "2023-08-27T18:51:38.460907Z",
     "iopub.status.busy": "2023-08-27T18:51:38.460486Z",
     "iopub.status.idle": "2023-08-27T18:51:38.469307Z",
     "shell.execute_reply": "2023-08-27T18:51:38.468434Z"
    },
    "papermill": {
     "duration": 0.039336,
     "end_time": "2023-08-27T18:51:38.471306",
     "exception": false,
     "start_time": "2023-08-27T18:51:38.431970",
     "status": "completed"
    },
    "tags": []
   },
   "outputs": [
    {
     "data": {
      "text/plain": [
       "4524"
      ]
     },
     "execution_count": 40,
     "metadata": {},
     "output_type": "execute_result"
    }
   ],
   "source": [
    "df['director'].nunique()"
   ]
  },
  {
   "cell_type": "code",
   "execution_count": 41,
   "id": "ab344066",
   "metadata": {
    "execution": {
     "iopub.execute_input": "2023-08-27T18:51:38.528105Z",
     "iopub.status.busy": "2023-08-27T18:51:38.527120Z",
     "iopub.status.idle": "2023-08-27T18:51:38.540046Z",
     "shell.execute_reply": "2023-08-27T18:51:38.539035Z"
    },
    "papermill": {
     "duration": 0.043808,
     "end_time": "2023-08-27T18:51:38.542208",
     "exception": false,
     "start_time": "2023-08-27T18:51:38.498400",
     "status": "completed"
    },
    "tags": []
   },
   "outputs": [
    {
     "data": {
      "text/plain": [
       "director\n",
       "unknown                           2610\n",
       "Rajiv Chilaka                       19\n",
       "Raúl Campos, Jan Suter              18\n",
       "Marcus Raboy                        16\n",
       "Suhas Kadav                         16\n",
       "                                  ... \n",
       "Raymie Muzquiz, Stu Livingston       1\n",
       "Joe Menendez                         1\n",
       "Eric Bross                           1\n",
       "Will Eisenberg                       1\n",
       "Mozez Singh                          1\n",
       "Name: count, Length: 4524, dtype: int64"
      ]
     },
     "execution_count": 41,
     "metadata": {},
     "output_type": "execute_result"
    }
   ],
   "source": [
    "df['director'].value_counts()"
   ]
  },
  {
   "cell_type": "markdown",
   "id": "b8033c59",
   "metadata": {
    "papermill": {
     "duration": 0.026925,
     "end_time": "2023-08-27T18:51:38.596702",
     "exception": false,
     "start_time": "2023-08-27T18:51:38.569777",
     "status": "completed"
    },
    "tags": []
   },
   "source": [
    "**inference**\n",
    "* Director \"Rajiv Chilaka\" has released highest number of shows."
   ]
  },
  {
   "cell_type": "markdown",
   "id": "f7ebfa50",
   "metadata": {
    "papermill": {
     "duration": 0.027022,
     "end_time": "2023-08-27T18:51:38.651341",
     "exception": false,
     "start_time": "2023-08-27T18:51:38.624319",
     "status": "completed"
    },
    "tags": []
   },
   "source": [
    "## Analysing 'country' Feature"
   ]
  },
  {
   "cell_type": "code",
   "execution_count": 42,
   "id": "326058d3",
   "metadata": {
    "execution": {
     "iopub.execute_input": "2023-08-27T18:51:38.708320Z",
     "iopub.status.busy": "2023-08-27T18:51:38.707879Z",
     "iopub.status.idle": "2023-08-27T18:51:38.716282Z",
     "shell.execute_reply": "2023-08-27T18:51:38.715165Z"
    },
    "papermill": {
     "duration": 0.039749,
     "end_time": "2023-08-27T18:51:38.718636",
     "exception": false,
     "start_time": "2023-08-27T18:51:38.678887",
     "status": "completed"
    },
    "tags": []
   },
   "outputs": [
    {
     "data": {
      "text/plain": [
       "746"
      ]
     },
     "execution_count": 42,
     "metadata": {},
     "output_type": "execute_result"
    }
   ],
   "source": [
    "df['country'].nunique()"
   ]
  },
  {
   "cell_type": "code",
   "execution_count": 43,
   "id": "bba04b4a",
   "metadata": {
    "execution": {
     "iopub.execute_input": "2023-08-27T18:51:38.776102Z",
     "iopub.status.busy": "2023-08-27T18:51:38.775675Z",
     "iopub.status.idle": "2023-08-27T18:51:38.787025Z",
     "shell.execute_reply": "2023-08-27T18:51:38.786241Z"
    },
    "papermill": {
     "duration": 0.042599,
     "end_time": "2023-08-27T18:51:38.789130",
     "exception": false,
     "start_time": "2023-08-27T18:51:38.746531",
     "status": "completed"
    },
    "tags": []
   },
   "outputs": [
    {
     "data": {
      "text/plain": [
       "country\n",
       "United states    0.319394\n",
       "India            0.110757\n",
       "Unknown          0.094462\n",
       "Name: proportion, dtype: float64"
      ]
     },
     "execution_count": 43,
     "metadata": {},
     "output_type": "execute_result"
    }
   ],
   "source": [
    "# Top 3 countries based on count on shows\n",
    "df['country'].value_counts(normalize=True)[:3]"
   ]
  },
  {
   "cell_type": "code",
   "execution_count": 44,
   "id": "0eadc99e",
   "metadata": {
    "execution": {
     "iopub.execute_input": "2023-08-27T18:51:38.847005Z",
     "iopub.status.busy": "2023-08-27T18:51:38.845782Z",
     "iopub.status.idle": "2023-08-27T18:51:39.142602Z",
     "shell.execute_reply": "2023-08-27T18:51:39.141426Z"
    },
    "papermill": {
     "duration": 0.32779,
     "end_time": "2023-08-27T18:51:39.144848",
     "exception": false,
     "start_time": "2023-08-27T18:51:38.817058",
     "status": "completed"
    },
    "tags": []
   },
   "outputs": [
    {
     "data": {
      "text/plain": [
       "<Axes: xlabel='country'>"
      ]
     },
     "execution_count": 44,
     "metadata": {},
     "output_type": "execute_result"
    },
    {
     "data": {
      "image/png": "[encoded data removed]",
      "text/plain": [
       "<Figure size 640x480 with 1 Axes>"
      ]
     },
     "metadata": {},
     "output_type": "display_data"
    }
   ],
   "source": [
    "df['country'].value_counts(normalize=True)[:3].plot.bar()"
   ]
  },
  {
   "cell_type": "markdown",
   "id": "17fb312a",
   "metadata": {
    "papermill": {
     "duration": 0.03124,
     "end_time": "2023-08-27T18:51:39.205186",
     "exception": false,
     "start_time": "2023-08-27T18:51:39.173946",
     "status": "completed"
    },
    "tags": []
   },
   "source": [
    "**Inference**\n",
    "* On Netflix most of the shows are from USA(31%) and India(11%)"
   ]
  },
  {
   "cell_type": "markdown",
   "id": "823a2ead",
   "metadata": {
    "papermill": {
     "duration": 0.027597,
     "end_time": "2023-08-27T18:51:39.261017",
     "exception": false,
     "start_time": "2023-08-27T18:51:39.233420",
     "status": "completed"
    },
    "tags": []
   },
   "source": [
    "## Analysing 'date_added_year' feature\n"
   ]
  },
  {
   "cell_type": "code",
   "execution_count": 45,
   "id": "722187c7",
   "metadata": {
    "execution": {
     "iopub.execute_input": "2023-08-27T18:51:39.319378Z",
     "iopub.status.busy": "2023-08-27T18:51:39.318935Z",
     "iopub.status.idle": "2023-08-27T18:51:39.895964Z",
     "shell.execute_reply": "2023-08-27T18:51:39.894981Z"
    },
    "papermill": {
     "duration": 0.609376,
     "end_time": "2023-08-27T18:51:39.898505",
     "exception": false,
     "start_time": "2023-08-27T18:51:39.289129",
     "status": "completed"
    },
    "tags": []
   },
   "outputs": [
    {
     "data": {
      "text/plain": [
       "<Axes: xlabel='added_year', ylabel='Density'>"
      ]
     },
     "execution_count": 45,
     "metadata": {},
     "output_type": "execute_result"
    },
    {
     "data": {
      "image/png": "[encoded data removed]",
      "text/plain": [
       "<Figure size 640x480 with 1 Axes>"
      ]
     },
     "metadata": {},
     "output_type": "display_data"
    }
   ],
   "source": [
    "sns.distplot(df['added_year'])"
   ]
  },
  {
   "cell_type": "code",
   "execution_count": 46,
   "id": "9f255455",
   "metadata": {
    "execution": {
     "iopub.execute_input": "2023-08-27T18:51:39.958819Z",
     "iopub.status.busy": "2023-08-27T18:51:39.958449Z",
     "iopub.status.idle": "2023-08-27T18:51:40.504622Z",
     "shell.execute_reply": "2023-08-27T18:51:40.503798Z"
    },
    "papermill": {
     "duration": 0.578702,
     "end_time": "2023-08-27T18:51:40.506843",
     "exception": false,
     "start_time": "2023-08-27T18:51:39.928141",
     "status": "completed"
    },
    "tags": []
   },
   "outputs": [
    {
     "data": {
      "text/plain": [
       "<Axes: xlabel='added_year', ylabel='count'>"
      ]
     },
     "execution_count": 46,
     "metadata": {},
     "output_type": "execute_result"
    },
    {
     "data": {
      "image/png": "[encoded data removed]",
      "text/plain": [
       "<Figure size 1200x800 with 1 Axes>"
      ]
     },
     "metadata": {},
     "output_type": "display_data"
    }
   ],
   "source": [
    "plt.figure(figsize=(12,8))\n",
    "sns.countplot(x = df['added_year'])"
   ]
  },
  {
   "cell_type": "markdown",
   "id": "5c552be2",
   "metadata": {
    "papermill": {
     "duration": 0.028776,
     "end_time": "2023-08-27T18:51:40.565379",
     "exception": false,
     "start_time": "2023-08-27T18:51:40.536603",
     "status": "completed"
    },
    "tags": []
   },
   "source": [
    "* **Inference**:\n",
    "* Highest number of shows added was in 2019."
   ]
  },
  {
   "cell_type": "code",
   "execution_count": 47,
   "id": "7afc4d70",
   "metadata": {
    "execution": {
     "iopub.execute_input": "2023-08-27T18:51:40.626124Z",
     "iopub.status.busy": "2023-08-27T18:51:40.625056Z",
     "iopub.status.idle": "2023-08-27T18:51:41.069189Z",
     "shell.execute_reply": "2023-08-27T18:51:41.068010Z"
    },
    "papermill": {
     "duration": 0.476559,
     "end_time": "2023-08-27T18:51:41.071585",
     "exception": false,
     "start_time": "2023-08-27T18:51:40.595026",
     "status": "completed"
    },
    "tags": []
   },
   "outputs": [
    {
     "data": {
      "text/plain": [
       "<Axes: xlabel='added_month'>"
      ]
     },
     "execution_count": 47,
     "metadata": {},
     "output_type": "execute_result"
    },
    {
     "data": {
      "image/png": "[encoded data removed]",
      "text/plain": [
       "<Figure size 640x480 with 1 Axes>"
      ]
     },
     "metadata": {},
     "output_type": "display_data"
    }
   ],
   "source": [
    "df['added_month'].value_counts(normalize=True).plot.bar()"
   ]
  },
  {
   "cell_type": "markdown",
   "id": "ba837f04",
   "metadata": {
    "papermill": {
     "duration": 0.029793,
     "end_time": "2023-08-27T18:51:41.132047",
     "exception": false,
     "start_time": "2023-08-27T18:51:41.102254",
     "status": "completed"
    },
    "tags": []
   },
   "source": [
    "** Inference**\n",
    "* 'July,December,September' are the months in which most of the shows are released."
   ]
  },
  {
   "cell_type": "markdown",
   "id": "2b3973b4",
   "metadata": {
    "papermill": {
     "duration": 0.02946,
     "end_time": "2023-08-27T18:51:41.191591",
     "exception": false,
     "start_time": "2023-08-27T18:51:41.162131",
     "status": "completed"
    },
    "tags": []
   },
   "source": [
    "## Analysing 'rating' feature"
   ]
  },
  {
   "cell_type": "code",
   "execution_count": 48,
   "id": "a8f1b136",
   "metadata": {
    "execution": {
     "iopub.execute_input": "2023-08-27T18:51:41.252682Z",
     "iopub.status.busy": "2023-08-27T18:51:41.252288Z",
     "iopub.status.idle": "2023-08-27T18:51:41.259970Z",
     "shell.execute_reply": "2023-08-27T18:51:41.259005Z"
    },
    "papermill": {
     "duration": 0.040464,
     "end_time": "2023-08-27T18:51:41.262041",
     "exception": false,
     "start_time": "2023-08-27T18:51:41.221577",
     "status": "completed"
    },
    "tags": []
   },
   "outputs": [
    {
     "data": {
      "text/plain": [
       "14"
      ]
     },
     "execution_count": 48,
     "metadata": {},
     "output_type": "execute_result"
    }
   ],
   "source": [
    "df.rating.nunique()"
   ]
  },
  {
   "cell_type": "code",
   "execution_count": 49,
   "id": "51ea7260",
   "metadata": {
    "execution": {
     "iopub.execute_input": "2023-08-27T18:51:41.325648Z",
     "iopub.status.busy": "2023-08-27T18:51:41.325018Z",
     "iopub.status.idle": "2023-08-27T18:51:41.646491Z",
     "shell.execute_reply": "2023-08-27T18:51:41.645366Z"
    },
    "papermill": {
     "duration": 0.355268,
     "end_time": "2023-08-27T18:51:41.648884",
     "exception": false,
     "start_time": "2023-08-27T18:51:41.293616",
     "status": "completed"
    },
    "tags": []
   },
   "outputs": [
    {
     "data": {
      "text/plain": [
       "<Axes: xlabel='rating'>"
      ]
     },
     "execution_count": 49,
     "metadata": {},
     "output_type": "execute_result"
    },
    {
     "data": {
      "image/png": "[encoded data removed]",
      "text/plain": [
       "<Figure size 640x480 with 1 Axes>"
      ]
     },
     "metadata": {},
     "output_type": "display_data"
    }
   ],
   "source": [
    "df.rating.value_counts(normalize=True)[:5].plot.bar()"
   ]
  },
  {
   "cell_type": "markdown",
   "id": "e8cb5e6e",
   "metadata": {
    "papermill": {
     "duration": 0.030699,
     "end_time": "2023-08-27T18:51:41.711524",
     "exception": false,
     "start_time": "2023-08-27T18:51:41.680825",
     "status": "completed"
    },
    "tags": []
   },
   "source": [
    "**Inference**\n",
    "* Most of the movies have got rating 'TV-MA,TV-14,TV-PG'."
   ]
  },
  {
   "cell_type": "code",
   "execution_count": 50,
   "id": "6a1e81ed",
   "metadata": {
    "execution": {
     "iopub.execute_input": "2023-08-27T18:51:41.774966Z",
     "iopub.status.busy": "2023-08-27T18:51:41.774571Z",
     "iopub.status.idle": "2023-08-27T18:51:41.791062Z",
     "shell.execute_reply": "2023-08-27T18:51:41.790244Z"
    },
    "papermill": {
     "duration": 0.05114,
     "end_time": "2023-08-27T18:51:41.793560",
     "exception": false,
     "start_time": "2023-08-27T18:51:41.742420",
     "status": "completed"
    },
    "tags": []
   },
   "outputs": [],
   "source": [
    "# Analysing 'listed_in' feature\n",
    "genre_list = df['listed_in'].str.split(',')"
   ]
  },
  {
   "cell_type": "code",
   "execution_count": 51,
   "id": "f2a5be2a",
   "metadata": {
    "execution": {
     "iopub.execute_input": "2023-08-27T18:51:41.857270Z",
     "iopub.status.busy": "2023-08-27T18:51:41.856501Z",
     "iopub.status.idle": "2023-08-27T18:51:41.887006Z",
     "shell.execute_reply": "2023-08-27T18:51:41.886144Z"
    },
    "papermill": {
     "duration": 0.065153,
     "end_time": "2023-08-27T18:51:41.889567",
     "exception": false,
     "start_time": "2023-08-27T18:51:41.824414",
     "status": "completed"
    },
    "tags": []
   },
   "outputs": [],
   "source": [
    "df['genre_1'] = genre_list.str.get(0)\n",
    "df['genre_2'] = genre_list.str.get(1)\n",
    "df['genre_3'] = genre_list.str.get(2)\n"
   ]
  },
  {
   "cell_type": "code",
   "execution_count": 52,
   "id": "60388aba",
   "metadata": {
    "execution": {
     "iopub.execute_input": "2023-08-27T18:51:41.953227Z",
     "iopub.status.busy": "2023-08-27T18:51:41.952840Z",
     "iopub.status.idle": "2023-08-27T18:51:41.960812Z",
     "shell.execute_reply": "2023-08-27T18:51:41.960125Z"
    },
    "papermill": {
     "duration": 0.042379,
     "end_time": "2023-08-27T18:51:41.962835",
     "exception": false,
     "start_time": "2023-08-27T18:51:41.920456",
     "status": "completed"
    },
    "tags": []
   },
   "outputs": [],
   "source": [
    "# droping column 'listed_in'\n",
    "df.drop('listed_in',axis =1,inplace =True)"
   ]
  },
  {
   "cell_type": "code",
   "execution_count": 40,
   "id": "c003f51b",
   "metadata": {
    "execution": {
     "iopub.execute_input": "2023-08-27T18:51:42.026027Z",
     "iopub.status.busy": "2023-08-27T18:51:42.025649Z",
     "iopub.status.idle": "2023-08-27T18:51:42.045226Z",
     "shell.execute_reply": "2023-08-27T18:51:42.044127Z"
    },
    "papermill": {
     "duration": 0.054212,
     "end_time": "2023-08-27T18:51:42.047540",
     "exception": false,
     "start_time": "2023-08-27T18:51:41.993328",
     "status": "completed"
    },
    "tags": []
   },
   "outputs": [
    {
     "data": {
      "text/html": [
       "<div>\n",
       "<style scoped>\n",
       "    .dataframe tbody tr th:only-of-type {\n",
       "        vertical-align: middle;\n",
       "    }\n",
       "\n",
       "    .dataframe tbody tr th {\n",
       "        vertical-align: top;\n",
       "    }\n",
       "\n",
       "    .dataframe thead th {\n",
       "        text-align: right;\n",
       "    }\n",
       "</style>\n",
       "<table border=\"1\" class=\"dataframe\">\n",
       "  <thead>\n",
       "    <tr style=\"text-align: right;\">\n",
       "      <th></th>\n",
       "      <th>show_id</th>\n",
       "      <th>type</th>\n",
       "      <th>title</th>\n",
       "      <th>director</th>\n",
       "      <th>cast</th>\n",
       "      <th>country</th>\n",
       "      <th>release_year</th>\n",
       "      <th>rating</th>\n",
       "      <th>duration</th>\n",
       "      <th>description</th>\n",
       "      <th>added_month</th>\n",
       "      <th>added_year</th>\n",
       "      <th>genre_1</th>\n",
       "      <th>genre_2</th>\n",
       "      <th>genre_3</th>\n",
       "    </tr>\n",
       "  </thead>\n",
       "  <tbody>\n",
       "    <tr>\n",
       "      <th>0</th>\n",
       "      <td>s1</td>\n",
       "      <td>Movie</td>\n",
       "      <td>Dick Johnson Is Dead</td>\n",
       "      <td>Kirsten Johnson</td>\n",
       "      <td>unknown</td>\n",
       "      <td>United states</td>\n",
       "      <td>2020</td>\n",
       "      <td>PG-13</td>\n",
       "      <td>90 min</td>\n",
       "      <td>As her father nears the end of his life, filmm...</td>\n",
       "      <td>September</td>\n",
       "      <td>2021</td>\n",
       "      <td>Documentaries</td>\n",
       "      <td>NaN</td>\n",
       "      <td>NaN</td>\n",
       "    </tr>\n",
       "    <tr>\n",
       "      <th>1</th>\n",
       "      <td>s2</td>\n",
       "      <td>TV Show</td>\n",
       "      <td>Blood &amp; Water</td>\n",
       "      <td>unknown</td>\n",
       "      <td>Ama Qamata, Khosi Ngema, Gail Mabalane, Thaban...</td>\n",
       "      <td>South africa</td>\n",
       "      <td>2021</td>\n",
       "      <td>TV-MA</td>\n",
       "      <td>2 Seasons</td>\n",
       "      <td>After crossing paths at a party, a Cape Town t...</td>\n",
       "      <td>September</td>\n",
       "      <td>2021</td>\n",
       "      <td>International TV Shows</td>\n",
       "      <td>TV Dramas</td>\n",
       "      <td>TV Mysteries</td>\n",
       "    </tr>\n",
       "    <tr>\n",
       "      <th>2</th>\n",
       "      <td>s3</td>\n",
       "      <td>TV Show</td>\n",
       "      <td>Ganglands</td>\n",
       "      <td>Julien Leclercq</td>\n",
       "      <td>Sami Bouajila, Tracy Gotoas, Samuel Jouy, Nabi...</td>\n",
       "      <td>Unknown</td>\n",
       "      <td>2021</td>\n",
       "      <td>TV-MA</td>\n",
       "      <td>1 Season</td>\n",
       "      <td>To protect his family from a powerful drug lor...</td>\n",
       "      <td>September</td>\n",
       "      <td>2021</td>\n",
       "      <td>Crime TV Shows</td>\n",
       "      <td>International TV Shows</td>\n",
       "      <td>TV Action &amp; Adventure</td>\n",
       "    </tr>\n",
       "    <tr>\n",
       "      <th>3</th>\n",
       "      <td>s4</td>\n",
       "      <td>TV Show</td>\n",
       "      <td>Jailbirds New Orleans</td>\n",
       "      <td>unknown</td>\n",
       "      <td>unknown</td>\n",
       "      <td>Unknown</td>\n",
       "      <td>2021</td>\n",
       "      <td>TV-MA</td>\n",
       "      <td>1 Season</td>\n",
       "      <td>Feuds, flirtations and toilet talk go down amo...</td>\n",
       "      <td>September</td>\n",
       "      <td>2021</td>\n",
       "      <td>Docuseries</td>\n",
       "      <td>Reality TV</td>\n",
       "      <td>NaN</td>\n",
       "    </tr>\n",
       "    <tr>\n",
       "      <th>4</th>\n",
       "      <td>s5</td>\n",
       "      <td>TV Show</td>\n",
       "      <td>Kota Factory</td>\n",
       "      <td>unknown</td>\n",
       "      <td>Mayur More, Jitendra Kumar, Ranjan Raj, Alam K...</td>\n",
       "      <td>India</td>\n",
       "      <td>2021</td>\n",
       "      <td>TV-MA</td>\n",
       "      <td>2 Seasons</td>\n",
       "      <td>In a city of coaching centers known to train I...</td>\n",
       "      <td>September</td>\n",
       "      <td>2021</td>\n",
       "      <td>International TV Shows</td>\n",
       "      <td>Romantic TV Shows</td>\n",
       "      <td>TV Comedies</td>\n",
       "    </tr>\n",
       "  </tbody>\n",
       "</table>\n",
       "</div>"
      ],
      "text/plain": [
       "  show_id     type                  title         director  \\\n",
       "0      s1    Movie   Dick Johnson Is Dead  Kirsten Johnson   \n",
       "1      s2  TV Show          Blood & Water          unknown   \n",
       "2      s3  TV Show              Ganglands  Julien Leclercq   \n",
       "3      s4  TV Show  Jailbirds New Orleans          unknown   \n",
       "4      s5  TV Show           Kota Factory          unknown   \n",
       "\n",
       "                                                cast        country  \\\n",
       "0                                            unknown  United states   \n",
       "1  Ama Qamata, Khosi Ngema, Gail Mabalane, Thaban...   South africa   \n",
       "2  Sami Bouajila, Tracy Gotoas, Samuel Jouy, Nabi...        Unknown   \n",
       "3                                            unknown        Unknown   \n",
       "4  Mayur More, Jitendra Kumar, Ranjan Raj, Alam K...          India   \n",
       "\n",
       "   release_year rating   duration  \\\n",
       "0          2020  PG-13     90 min   \n",
       "1          2021  TV-MA  2 Seasons   \n",
       "2          2021  TV-MA   1 Season   \n",
       "3          2021  TV-MA   1 Season   \n",
       "4          2021  TV-MA  2 Seasons   \n",
       "\n",
       "                                         description added_month  added_year  \\\n",
       "0  As her father nears the end of his life, filmm...   September        2021   \n",
       "1  After crossing paths at a party, a Cape Town t...   September        2021   \n",
       "2  To protect his family from a powerful drug lor...   September        2021   \n",
       "3  Feuds, flirtations and toilet talk go down amo...   September        2021   \n",
       "4  In a city of coaching centers known to train I...   September        2021   \n",
       "\n",
       "                  genre_1                  genre_2                 genre_3  \n",
       "0           Documentaries                      NaN                     NaN  \n",
       "1  International TV Shows                TV Dramas            TV Mysteries  \n",
       "2          Crime TV Shows   International TV Shows   TV Action & Adventure  \n",
       "3              Docuseries               Reality TV                     NaN  \n",
       "4  International TV Shows        Romantic TV Shows             TV Comedies  "
      ]
     },
     "execution_count": 40,
     "metadata": {},
     "output_type": "execute_result"
    }
   ],
   "source": [
    "df.head()"
   ]
  },
  {
   "cell_type": "code",
   "execution_count": 54,
   "id": "56b16c05",
   "metadata": {
    "execution": {
     "iopub.execute_input": "2023-08-27T18:51:42.112131Z",
     "iopub.status.busy": "2023-08-27T18:51:42.111147Z",
     "iopub.status.idle": "2023-08-27T18:51:42.493629Z",
     "shell.execute_reply": "2023-08-27T18:51:42.492514Z"
    },
    "papermill": {
     "duration": 0.417839,
     "end_time": "2023-08-27T18:51:42.496262",
     "exception": false,
     "start_time": "2023-08-27T18:51:42.078423",
     "status": "completed"
    },
    "tags": []
   },
   "outputs": [
    {
     "data": {
      "text/plain": [
       "<Axes: xlabel='genre_1'>"
      ]
     },
     "execution_count": 54,
     "metadata": {},
     "output_type": "execute_result"
    },
    {
     "data": {
      "image/png": "[encoded data removed]",
      "text/plain": [
       "<Figure size 640x480 with 1 Axes>"
      ]
     },
     "metadata": {},
     "output_type": "display_data"
    }
   ],
   "source": [
    "df['genre_1'].value_counts(normalize=True)[:5].plot.bar()"
   ]
  },
  {
   "cell_type": "markdown",
   "id": "3e2740a7",
   "metadata": {
    "papermill": {
     "duration": 0.031513,
     "end_time": "2023-08-27T18:51:42.559818",
     "exception": false,
     "start_time": "2023-08-27T18:51:42.528305",
     "status": "completed"
    },
    "tags": []
   },
   "source": [
    "**Inference**\n",
    "* Netflix has highest (i.e.17% ) shows of 'Drama' genre,followed by 'Comedies' genre."
   ]
  },
  {
   "cell_type": "code",
   "execution_count": 55,
   "id": "37d040fc",
   "metadata": {
    "execution": {
     "iopub.execute_input": "2023-08-27T18:51:42.625829Z",
     "iopub.status.busy": "2023-08-27T18:51:42.625008Z",
     "iopub.status.idle": "2023-08-27T18:51:42.649945Z",
     "shell.execute_reply": "2023-08-27T18:51:42.648882Z"
    },
    "papermill": {
     "duration": 0.06101,
     "end_time": "2023-08-27T18:51:42.652424",
     "exception": false,
     "start_time": "2023-08-27T18:51:42.591414",
     "status": "completed"
    },
    "tags": []
   },
   "outputs": [
    {
     "data": {
      "text/html": [
       "<div>\n",
       "<style scoped>\n",
       "    .dataframe tbody tr th:only-of-type {\n",
       "        vertical-align: middle;\n",
       "    }\n",
       "\n",
       "    .dataframe tbody tr th {\n",
       "        vertical-align: top;\n",
       "    }\n",
       "\n",
       "    .dataframe thead th {\n",
       "        text-align: right;\n",
       "    }\n",
       "</style>\n",
       "<table border=\"1\" class=\"dataframe\">\n",
       "  <thead>\n",
       "    <tr style=\"text-align: right;\">\n",
       "      <th></th>\n",
       "      <th>show_id</th>\n",
       "      <th>type</th>\n",
       "      <th>title</th>\n",
       "      <th>director</th>\n",
       "      <th>cast</th>\n",
       "      <th>country</th>\n",
       "      <th>release_year</th>\n",
       "      <th>rating</th>\n",
       "      <th>duration</th>\n",
       "      <th>description</th>\n",
       "      <th>added_month</th>\n",
       "      <th>added_year</th>\n",
       "      <th>genre_1</th>\n",
       "      <th>genre_2</th>\n",
       "      <th>genre_3</th>\n",
       "    </tr>\n",
       "  </thead>\n",
       "  <tbody>\n",
       "    <tr>\n",
       "      <th>0</th>\n",
       "      <td>s1</td>\n",
       "      <td>Movie</td>\n",
       "      <td>Dick Johnson Is Dead</td>\n",
       "      <td>Kirsten Johnson</td>\n",
       "      <td>unknown</td>\n",
       "      <td>United states</td>\n",
       "      <td>2020</td>\n",
       "      <td>PG-13</td>\n",
       "      <td>90 min</td>\n",
       "      <td>As her father nears the end of his life, filmm...</td>\n",
       "      <td>September</td>\n",
       "      <td>2021</td>\n",
       "      <td>Documentaries</td>\n",
       "      <td>NaN</td>\n",
       "      <td>NaN</td>\n",
       "    </tr>\n",
       "    <tr>\n",
       "      <th>1</th>\n",
       "      <td>s2</td>\n",
       "      <td>TV Show</td>\n",
       "      <td>Blood &amp; Water</td>\n",
       "      <td>unknown</td>\n",
       "      <td>Ama Qamata, Khosi Ngema, Gail Mabalane, Thaban...</td>\n",
       "      <td>South africa</td>\n",
       "      <td>2021</td>\n",
       "      <td>TV-MA</td>\n",
       "      <td>2 Seasons</td>\n",
       "      <td>After crossing paths at a party, a Cape Town t...</td>\n",
       "      <td>September</td>\n",
       "      <td>2021</td>\n",
       "      <td>International TV Shows</td>\n",
       "      <td>TV Dramas</td>\n",
       "      <td>TV Mysteries</td>\n",
       "    </tr>\n",
       "    <tr>\n",
       "      <th>2</th>\n",
       "      <td>s3</td>\n",
       "      <td>TV Show</td>\n",
       "      <td>Ganglands</td>\n",
       "      <td>Julien Leclercq</td>\n",
       "      <td>Sami Bouajila, Tracy Gotoas, Samuel Jouy, Nabi...</td>\n",
       "      <td>Unknown</td>\n",
       "      <td>2021</td>\n",
       "      <td>TV-MA</td>\n",
       "      <td>1 Season</td>\n",
       "      <td>To protect his family from a powerful drug lor...</td>\n",
       "      <td>September</td>\n",
       "      <td>2021</td>\n",
       "      <td>Crime TV Shows</td>\n",
       "      <td>International TV Shows</td>\n",
       "      <td>TV Action &amp; Adventure</td>\n",
       "    </tr>\n",
       "    <tr>\n",
       "      <th>3</th>\n",
       "      <td>s4</td>\n",
       "      <td>TV Show</td>\n",
       "      <td>Jailbirds New Orleans</td>\n",
       "      <td>unknown</td>\n",
       "      <td>unknown</td>\n",
       "      <td>Unknown</td>\n",
       "      <td>2021</td>\n",
       "      <td>TV-MA</td>\n",
       "      <td>1 Season</td>\n",
       "      <td>Feuds, flirtations and toilet talk go down amo...</td>\n",
       "      <td>September</td>\n",
       "      <td>2021</td>\n",
       "      <td>Docuseries</td>\n",
       "      <td>Reality TV</td>\n",
       "      <td>NaN</td>\n",
       "    </tr>\n",
       "    <tr>\n",
       "      <th>4</th>\n",
       "      <td>s5</td>\n",
       "      <td>TV Show</td>\n",
       "      <td>Kota Factory</td>\n",
       "      <td>unknown</td>\n",
       "      <td>Mayur More, Jitendra Kumar, Ranjan Raj, Alam K...</td>\n",
       "      <td>India</td>\n",
       "      <td>2021</td>\n",
       "      <td>TV-MA</td>\n",
       "      <td>2 Seasons</td>\n",
       "      <td>In a city of coaching centers known to train I...</td>\n",
       "      <td>September</td>\n",
       "      <td>2021</td>\n",
       "      <td>International TV Shows</td>\n",
       "      <td>Romantic TV Shows</td>\n",
       "      <td>TV Comedies</td>\n",
       "    </tr>\n",
       "    <tr>\n",
       "      <th>...</th>\n",
       "      <td>...</td>\n",
       "      <td>...</td>\n",
       "      <td>...</td>\n",
       "      <td>...</td>\n",
       "      <td>...</td>\n",
       "      <td>...</td>\n",
       "      <td>...</td>\n",
       "      <td>...</td>\n",
       "      <td>...</td>\n",
       "      <td>...</td>\n",
       "      <td>...</td>\n",
       "      <td>...</td>\n",
       "      <td>...</td>\n",
       "      <td>...</td>\n",
       "      <td>...</td>\n",
       "    </tr>\n",
       "    <tr>\n",
       "      <th>8802</th>\n",
       "      <td>s8803</td>\n",
       "      <td>Movie</td>\n",
       "      <td>Zodiac</td>\n",
       "      <td>David Fincher</td>\n",
       "      <td>Mark Ruffalo, Jake Gyllenhaal, Robert Downey J...</td>\n",
       "      <td>United states</td>\n",
       "      <td>2007</td>\n",
       "      <td>R</td>\n",
       "      <td>158 min</td>\n",
       "      <td>A political cartoonist, a crime reporter and a...</td>\n",
       "      <td>November</td>\n",
       "      <td>2019</td>\n",
       "      <td>Cult Movies</td>\n",
       "      <td>Dramas</td>\n",
       "      <td>Thrillers</td>\n",
       "    </tr>\n",
       "    <tr>\n",
       "      <th>8803</th>\n",
       "      <td>s8804</td>\n",
       "      <td>TV Show</td>\n",
       "      <td>Zombie Dumb</td>\n",
       "      <td>unknown</td>\n",
       "      <td>unknown</td>\n",
       "      <td>Unknown</td>\n",
       "      <td>2018</td>\n",
       "      <td>TV-Y7</td>\n",
       "      <td>2 Seasons</td>\n",
       "      <td>While living alone in a spooky town, a young g...</td>\n",
       "      <td>July</td>\n",
       "      <td>2019</td>\n",
       "      <td>Kids' TV</td>\n",
       "      <td>Korean TV Shows</td>\n",
       "      <td>TV Comedies</td>\n",
       "    </tr>\n",
       "    <tr>\n",
       "      <th>8804</th>\n",
       "      <td>s8805</td>\n",
       "      <td>Movie</td>\n",
       "      <td>Zombieland</td>\n",
       "      <td>Ruben Fleischer</td>\n",
       "      <td>Jesse Eisenberg, Woody Harrelson, Emma Stone, ...</td>\n",
       "      <td>United states</td>\n",
       "      <td>2009</td>\n",
       "      <td>R</td>\n",
       "      <td>88 min</td>\n",
       "      <td>Looking to survive in a world taken over by zo...</td>\n",
       "      <td>November</td>\n",
       "      <td>2019</td>\n",
       "      <td>Comedies</td>\n",
       "      <td>Horror Movies</td>\n",
       "      <td>NaN</td>\n",
       "    </tr>\n",
       "    <tr>\n",
       "      <th>8805</th>\n",
       "      <td>s8806</td>\n",
       "      <td>Movie</td>\n",
       "      <td>Zoom</td>\n",
       "      <td>Peter Hewitt</td>\n",
       "      <td>Tim Allen, Courteney Cox, Chevy Chase, Kate Ma...</td>\n",
       "      <td>United states</td>\n",
       "      <td>2006</td>\n",
       "      <td>PG</td>\n",
       "      <td>88 min</td>\n",
       "      <td>Dragged from civilian life, a former superhero...</td>\n",
       "      <td>January</td>\n",
       "      <td>2020</td>\n",
       "      <td>Children &amp; Family Movies</td>\n",
       "      <td>Comedies</td>\n",
       "      <td>NaN</td>\n",
       "    </tr>\n",
       "    <tr>\n",
       "      <th>8806</th>\n",
       "      <td>s8807</td>\n",
       "      <td>Movie</td>\n",
       "      <td>Zubaan</td>\n",
       "      <td>Mozez Singh</td>\n",
       "      <td>Vicky Kaushal, Sarah-Jane Dias, Raaghav Chanan...</td>\n",
       "      <td>India</td>\n",
       "      <td>2015</td>\n",
       "      <td>TV-14</td>\n",
       "      <td>111 min</td>\n",
       "      <td>A scrappy but poor boy worms his way into a ty...</td>\n",
       "      <td>March</td>\n",
       "      <td>2019</td>\n",
       "      <td>Dramas</td>\n",
       "      <td>International Movies</td>\n",
       "      <td>Music &amp; Musicals</td>\n",
       "    </tr>\n",
       "  </tbody>\n",
       "</table>\n",
       "<p>8776 rows × 15 columns</p>\n",
       "</div>"
      ],
      "text/plain": [
       "     show_id     type                  title         director  \\\n",
       "0         s1    Movie   Dick Johnson Is Dead  Kirsten Johnson   \n",
       "1         s2  TV Show          Blood & Water          unknown   \n",
       "2         s3  TV Show              Ganglands  Julien Leclercq   \n",
       "3         s4  TV Show  Jailbirds New Orleans          unknown   \n",
       "4         s5  TV Show           Kota Factory          unknown   \n",
       "...      ...      ...                    ...              ...   \n",
       "8802   s8803    Movie                 Zodiac    David Fincher   \n",
       "8803   s8804  TV Show            Zombie Dumb          unknown   \n",
       "8804   s8805    Movie             Zombieland  Ruben Fleischer   \n",
       "8805   s8806    Movie                   Zoom     Peter Hewitt   \n",
       "8806   s8807    Movie                 Zubaan      Mozez Singh   \n",
       "\n",
       "                                                   cast        country  \\\n",
       "0                                               unknown  United states   \n",
       "1     Ama Qamata, Khosi Ngema, Gail Mabalane, Thaban...   South africa   \n",
       "2     Sami Bouajila, Tracy Gotoas, Samuel Jouy, Nabi...        Unknown   \n",
       "3                                               unknown        Unknown   \n",
       "4     Mayur More, Jitendra Kumar, Ranjan Raj, Alam K...          India   \n",
       "...                                                 ...            ...   \n",
       "8802  Mark Ruffalo, Jake Gyllenhaal, Robert Downey J...  United states   \n",
       "8803                                            unknown        Unknown   \n",
       "8804  Jesse Eisenberg, Woody Harrelson, Emma Stone, ...  United states   \n",
       "8805  Tim Allen, Courteney Cox, Chevy Chase, Kate Ma...  United states   \n",
       "8806  Vicky Kaushal, Sarah-Jane Dias, Raaghav Chanan...          India   \n",
       "\n",
       "      release_year rating   duration  \\\n",
       "0             2020  PG-13     90 min   \n",
       "1             2021  TV-MA  2 Seasons   \n",
       "2             2021  TV-MA   1 Season   \n",
       "3             2021  TV-MA   1 Season   \n",
       "4             2021  TV-MA  2 Seasons   \n",
       "...            ...    ...        ...   \n",
       "8802          2007      R    158 min   \n",
       "8803          2018  TV-Y7  2 Seasons   \n",
       "8804          2009      R     88 min   \n",
       "8805          2006     PG     88 min   \n",
       "8806          2015  TV-14    111 min   \n",
       "\n",
       "                                            description added_month  \\\n",
       "0     As her father nears the end of his life, filmm...   September   \n",
       "1     After crossing paths at a party, a Cape Town t...   September   \n",
       "2     To protect his family from a powerful drug lor...   September   \n",
       "3     Feuds, flirtations and toilet talk go down amo...   September   \n",
       "4     In a city of coaching centers known to train I...   September   \n",
       "...                                                 ...         ...   \n",
       "8802  A political cartoonist, a crime reporter and a...    November   \n",
       "8803  While living alone in a spooky town, a young g...        July   \n",
       "8804  Looking to survive in a world taken over by zo...    November   \n",
       "8805  Dragged from civilian life, a former superhero...     January   \n",
       "8806  A scrappy but poor boy worms his way into a ty...       March   \n",
       "\n",
       "      added_year                   genre_1                  genre_2  \\\n",
       "0           2021             Documentaries                      NaN   \n",
       "1           2021    International TV Shows                TV Dramas   \n",
       "2           2021            Crime TV Shows   International TV Shows   \n",
       "3           2021                Docuseries               Reality TV   \n",
       "4           2021    International TV Shows        Romantic TV Shows   \n",
       "...          ...                       ...                      ...   \n",
       "8802        2019               Cult Movies                   Dramas   \n",
       "8803        2019                  Kids' TV          Korean TV Shows   \n",
       "8804        2019                  Comedies            Horror Movies   \n",
       "8805        2020  Children & Family Movies                 Comedies   \n",
       "8806        2019                    Dramas     International Movies   \n",
       "\n",
       "                     genre_3  \n",
       "0                        NaN  \n",
       "1               TV Mysteries  \n",
       "2      TV Action & Adventure  \n",
       "3                        NaN  \n",
       "4                TV Comedies  \n",
       "...                      ...  \n",
       "8802               Thrillers  \n",
       "8803             TV Comedies  \n",
       "8804                     NaN  \n",
       "8805                     NaN  \n",
       "8806        Music & Musicals  \n",
       "\n",
       "[8776 rows x 15 columns]"
      ]
     },
     "execution_count": 55,
     "metadata": {},
     "output_type": "execute_result"
    }
   ],
   "source": [
    "df"
   ]
  },
  {
   "cell_type": "markdown",
   "id": "1bb7aceb",
   "metadata": {
    "papermill": {
     "duration": 0.032325,
     "end_time": "2023-08-27T18:51:42.717348",
     "exception": false,
     "start_time": "2023-08-27T18:51:42.685023",
     "status": "completed"
    },
    "tags": []
   },
   "source": [
    "## Analysing dateMonth_added Colunm"
   ]
  },
  {
   "cell_type": "markdown",
   "id": "986879ac",
   "metadata": {
    "execution": {
     "iopub.execute_input": "2023-08-27T18:22:30.683224Z",
     "iopub.status.busy": "2023-08-27T18:22:30.682780Z",
     "iopub.status.idle": "2023-08-27T18:22:30.691335Z",
     "shell.execute_reply": "2023-08-27T18:22:30.689371Z",
     "shell.execute_reply.started": "2023-08-27T18:22:30.683193Z"
    },
    "papermill": {
     "duration": 0.032242,
     "end_time": "2023-08-27T18:51:42.782111",
     "exception": false,
     "start_time": "2023-08-27T18:51:42.749869",
     "status": "completed"
    },
    "tags": []
   },
   "source": [
    "<a id = 'bivariate Analysis'></a>\n",
    "# Bivariate Analysis"
   ]
  },
  {
   "cell_type": "code",
   "execution_count": 56,
   "id": "e5f81c41",
   "metadata": {
    "execution": {
     "iopub.execute_input": "2023-08-27T18:51:42.849753Z",
     "iopub.status.busy": "2023-08-27T18:51:42.848974Z",
     "iopub.status.idle": "2023-08-27T18:51:42.862131Z",
     "shell.execute_reply": "2023-08-27T18:51:42.861272Z"
    },
    "papermill": {
     "duration": 0.049695,
     "end_time": "2023-08-27T18:51:42.864515",
     "exception": false,
     "start_time": "2023-08-27T18:51:42.814820",
     "status": "completed"
    },
    "tags": []
   },
   "outputs": [],
   "source": [
    "temp_df = df[df['country'].isin(df['country'].value_counts()[:5].index)]"
   ]
  },
  {
   "cell_type": "code",
   "execution_count": 44,
   "id": "fb93eb38",
   "metadata": {
    "execution": {
     "iopub.execute_input": "2023-08-27T18:51:42.931266Z",
     "iopub.status.busy": "2023-08-27T18:51:42.930798Z",
     "iopub.status.idle": "2023-08-27T18:51:43.352530Z",
     "shell.execute_reply": "2023-08-27T18:51:43.351517Z"
    },
    "papermill": {
     "duration": 0.458974,
     "end_time": "2023-08-27T18:51:43.355491",
     "exception": false,
     "start_time": "2023-08-27T18:51:42.896517",
     "status": "completed"
    },
    "tags": []
   },
   "outputs": [
    {
     "data": {
      "text/plain": [
       "<Axes: xlabel='country', ylabel='count'>"
      ]
     },
     "execution_count": 44,
     "metadata": {},
     "output_type": "execute_result"
    },
    {
     "data": {
      "image/png": "[encoded data removed]",
      "text/plain": [
       "<Figure size 640x480 with 1 Axes>"
      ]
     },
     "metadata": {},
     "output_type": "display_data"
    }
   ],
   "source": [
    "sns.countplot(data=temp_df,x='country',hue='type')"
   ]
  },
  {
   "cell_type": "markdown",
   "id": "c58a609d",
   "metadata": {
    "papermill": {
     "duration": 0.033508,
     "end_time": "2023-08-27T18:51:43.423212",
     "exception": false,
     "start_time": "2023-08-27T18:51:43.389704",
     "status": "completed"
    },
    "tags": []
   },
   "source": [
    "**Inference:**\n",
    "* In USA and India 'Movie' show are more famous than 'TV Shows',and in United Kingdom both type are equily popular,and In Japan 'TV shows' are more popular than 'Movie' shows."
   ]
  },
  {
   "cell_type": "code",
   "execution_count": 57,
   "id": "fe053ef5",
   "metadata": {
    "execution": {
     "iopub.execute_input": "2023-08-27T18:51:43.491637Z",
     "iopub.status.busy": "2023-08-27T18:51:43.491227Z",
     "iopub.status.idle": "2023-08-27T18:51:43.501469Z",
     "shell.execute_reply": "2023-08-27T18:51:43.500384Z"
    },
    "papermill": {
     "duration": 0.04665,
     "end_time": "2023-08-27T18:51:43.503529",
     "exception": false,
     "start_time": "2023-08-27T18:51:43.456879",
     "status": "completed"
    },
    "tags": []
   },
   "outputs": [
    {
     "data": {
      "text/plain": [
       "['United states', 'India', 'Unknown', 'United kingdom', 'Japan']"
      ]
     },
     "execution_count": 57,
     "metadata": {},
     "output_type": "execute_result"
    }
   ],
   "source": [
    "list(df['country'].value_counts()[:5].index)"
   ]
  },
  {
   "cell_type": "code",
   "execution_count": 58,
   "id": "bc19f25d",
   "metadata": {
    "execution": {
     "iopub.execute_input": "2023-08-27T18:51:43.571918Z",
     "iopub.status.busy": "2023-08-27T18:51:43.570896Z",
     "iopub.status.idle": "2023-08-27T18:51:44.489166Z",
     "shell.execute_reply": "2023-08-27T18:51:44.488161Z"
    },
    "papermill": {
     "duration": 0.955163,
     "end_time": "2023-08-27T18:51:44.491986",
     "exception": false,
     "start_time": "2023-08-27T18:51:43.536823",
     "status": "completed"
    },
    "tags": []
   },
   "outputs": [
    {
     "data": {
      "text/plain": [
       "<Axes: xlabel='country', ylabel='count'>"
      ]
     },
     "execution_count": 58,
     "metadata": {},
     "output_type": "execute_result"
    },
    {
     "data": {
      "image/png": "[encoded data removed]",
      "text/plain": [
       "<Figure size 640x480 with 1 Axes>"
      ]
     },
     "metadata": {},
     "output_type": "display_data"
    }
   ],
   "source": [
    "sns.countplot(data=temp_df,x='country',hue='rating')"
   ]
  },
  {
   "cell_type": "markdown",
   "id": "f8103ca9",
   "metadata": {
    "papermill": {
     "duration": 0.034269,
     "end_time": "2023-08-27T18:51:44.560988",
     "exception": false,
     "start_time": "2023-08-27T18:51:44.526719",
     "status": "completed"
    },
    "tags": []
   },
   "source": [
    "**Inference**:\n",
    "* for United states most of the shows have 'TV-MA' rating and in India most of the shows have 'TV-14' rating."
   ]
  },
  {
   "cell_type": "code",
   "execution_count": 59,
   "id": "5cd22e9f",
   "metadata": {
    "execution": {
     "iopub.execute_input": "2023-08-27T18:51:44.631734Z",
     "iopub.status.busy": "2023-08-27T18:51:44.631061Z",
     "iopub.status.idle": "2023-08-27T18:51:46.100403Z",
     "shell.execute_reply": "2023-08-27T18:51:46.099320Z"
    },
    "papermill": {
     "duration": 1.508358,
     "end_time": "2023-08-27T18:51:46.103711",
     "exception": false,
     "start_time": "2023-08-27T18:51:44.595353",
     "status": "completed"
    },
    "tags": []
   },
   "outputs": [
    {
     "data": {
      "text/plain": [
       "<Axes: xlabel='country', ylabel='count'>"
      ]
     },
     "execution_count": 59,
     "metadata": {},
     "output_type": "execute_result"
    },
    {
     "data": {
      "image/png": "[encoded data removed]",
      "text/plain": [
       "<Figure size 640x480 with 1 Axes>"
      ]
     },
     "metadata": {},
     "output_type": "display_data"
    }
   ],
   "source": [
    "sns.countplot(data=temp_df,x='country',hue='genre_1')"
   ]
  },
  {
   "cell_type": "markdown",
   "id": "7cc6a792",
   "metadata": {
    "execution": {
     "iopub.execute_input": "2023-08-27T18:46:41.903316Z",
     "iopub.status.busy": "2023-08-27T18:46:41.902787Z",
     "iopub.status.idle": "2023-08-27T18:46:41.910281Z",
     "shell.execute_reply": "2023-08-27T18:46:41.909061Z",
     "shell.execute_reply.started": "2023-08-27T18:46:41.903276Z"
    },
    "papermill": {
     "duration": 0.035873,
     "end_time": "2023-08-27T18:51:46.176177",
     "exception": false,
     "start_time": "2023-08-27T18:51:46.140304",
     "status": "completed"
    },
    "tags": []
   },
   "source": [
    "<a id ='summary'></a>\n",
    "# Summary\n",
    "* On Netflix 69% are Movie and 31% are TV Show\n",
    "* Director \"Rajiv Chilaka\" has released highest number of shows.\n",
    "* On Netflix most of the shows are from USA(31%) and India(11%).\n",
    "* Highest number of shows added was in 2019.\n",
    "* 'July,December,September' are the months in which most of the shows are released.\n",
    "* Most of the shows  are of  rating 'TV-MA,TV-14,TV-PG'.\n",
    "* Netflix has highest (i.e.17% ) shows of 'Drama' genre,followed by 'Comedies' genre.\n",
    "* In USA and India 'Movie' show are more famous than 'TV Shows',and in United Kingdom both type are equily popular,and In Japan 'TV shows' are more popular than 'Movie' shows.\n",
    "* for United states most of the shows have 'TV-MA' rating and in India most of the shows have 'TV-14' rating."
   ]
  },
  {
   "cell_type": "code",
   "execution_count": null,
   "id": "97176161",
   "metadata": {
    "papermill": {
     "duration": 0.036145,
     "end_time": "2023-08-27T18:51:46.248588",
     "exception": false,
     "start_time": "2023-08-27T18:51:46.212443",
     "status": "completed"
    },
    "tags": []
   },
   "outputs": [],
   "source": []
  }
 ],
 "metadata": {
  "kernelspec": {
   "display_name": "Python 3 (ipykernel)",
   "language": "python",
   "name": "python3"
  },
  "language_info": {
   "codemirror_mode": {
    "name": "ipython",
    "version": 3
   },
   "file_extension": ".py",
   "mimetype": "text/x-python",
   "name": "python",
   "nbconvert_exporter": "python",
   "pygments_lexer": "ipython3",
   "version": "3.11.5"
  },
  "papermill": {
   "default_parameters": {},
   "duration": 23.751108,
   "end_time": "2023-08-27T18:51:47.205823",
   "environment_variables": {},
   "exception": null,
   "input_path": "__notebook__.ipynb",
   "output_path": "__notebook__.ipynb",
   "parameters": {},
   "start_time": "2023-08-27T18:51:23.454715",
   "version": "2.4.0"
  }
 },
 "nbformat": 4,
 "nbformat_minor": 5
}
