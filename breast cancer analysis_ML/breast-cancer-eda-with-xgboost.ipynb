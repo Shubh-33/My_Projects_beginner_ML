{
 "cells": [
  {
   "cell_type": "code",
   "execution_count": 1,
   "id": "popular-anger",
   "metadata": {
    "execution": {
     "iopub.execute_input": "2021-06-25T13:56:07.881281Z",
     "iopub.status.busy": "2021-06-25T13:56:07.880572Z",
     "iopub.status.idle": "2021-06-25T13:56:10.791682Z",
     "shell.execute_reply": "2021-06-25T13:56:10.790851Z",
     "shell.execute_reply.started": "2021-06-25T13:55:42.144580Z"
    },
    "papermill": {
     "duration": 2.950435,
     "end_time": "2021-06-25T13:56:10.791906",
     "exception": false,
     "start_time": "2021-06-25T13:56:07.841471",
     "status": "completed"
    },
    "tags": []
   },
   "outputs": [
    {
     "name": "stderr",
     "output_type": "stream",
     "text": [
      "C:\\Users\\thdar\\anaconda3\\Lib\\site-packages\\sklearn\\experimental\\enable_hist_gradient_boosting.py:15: UserWarning: Since version 1.0, it is not needed to import enable_hist_gradient_boosting anymore. HistGradientBoostingClassifier and HistGradientBoostingRegressor are now stable and can be normally imported from sklearn.ensemble.\n",
      "  warnings.warn(\n"
     ]
    }
   ],
   "source": [
    "import pandas as pd\n",
    "import numpy as np\n",
    "import seaborn as sns\n",
    "import matplotlib.pyplot as plt\n",
    "from sklearn.model_selection import train_test_split\n",
    "from sklearn.preprocessing import StandardScaler\n",
    "from sklearn.linear_model import LogisticRegression\n",
    "from sklearn.neighbors import KNeighborsClassifier\n",
    "from sklearn.tree import DecisionTreeClassifier\n",
    "from sklearn.experimental import enable_hist_gradient_boosting\n",
    "from sklearn.ensemble import HistGradientBoostingClassifier\n",
    "from sklearn.ensemble import RandomForestClassifier\n",
    "from sklearn.ensemble import AdaBoostClassifier\n",
    "from lightgbm import LGBMClassifier\n",
    "from xgboost import XGBClassifier\n",
    "from sklearn.metrics import accuracy_score\n",
    "import warnings\n",
    "warnings.filterwarnings('ignore')"
   ]
  },
  {
   "cell_type": "markdown",
   "id": "northern-steering",
   "metadata": {
    "papermill": {
     "duration": 0.023638,
     "end_time": "2021-06-25T13:56:10.841160",
     "exception": false,
     "start_time": "2021-06-25T13:56:10.817522",
     "status": "completed"
    },
    "tags": []
   },
   "source": [
    "# Load the Data"
   ]
  },
  {
   "cell_type": "code",
   "execution_count": 2,
   "id": "pregnant-western",
   "metadata": {
    "execution": {
     "iopub.execute_input": "2021-06-25T13:56:10.894640Z",
     "iopub.status.busy": "2021-06-25T13:56:10.893910Z",
     "iopub.status.idle": "2021-06-25T13:56:10.919131Z",
     "shell.execute_reply": "2021-06-25T13:56:10.918495Z",
     "shell.execute_reply.started": "2021-06-25T13:55:42.187216Z"
    },
    "papermill": {
     "duration": 0.054121,
     "end_time": "2021-06-25T13:56:10.919299",
     "exception": false,
     "start_time": "2021-06-25T13:56:10.865178",
     "status": "completed"
    },
    "tags": []
   },
   "outputs": [],
   "source": [
    "df=pd.read_csv('C://Users/thdar/OneDrive/Desktop/breast cancer dataset/data.csv')"
   ]
  },
  {
   "cell_type": "code",
   "execution_count": 3,
   "id": "appropriate-verse",
   "metadata": {
    "execution": {
     "iopub.execute_input": "2021-06-25T13:56:10.985992Z",
     "iopub.status.busy": "2021-06-25T13:56:10.983701Z",
     "iopub.status.idle": "2021-06-25T13:56:11.028897Z",
     "shell.execute_reply": "2021-06-25T13:56:11.028304Z",
     "shell.execute_reply.started": "2021-06-25T13:55:42.226249Z"
    },
    "papermill": {
     "duration": 0.085446,
     "end_time": "2021-06-25T13:56:11.029065",
     "exception": false,
     "start_time": "2021-06-25T13:56:10.943619",
     "status": "completed"
    },
    "tags": []
   },
   "outputs": [
    {
     "data": {
      "text/html": [
       "<div>\n",
       "<style scoped>\n",
       "    .dataframe tbody tr th:only-of-type {\n",
       "        vertical-align: middle;\n",
       "    }\n",
       "\n",
       "    .dataframe tbody tr th {\n",
       "        vertical-align: top;\n",
       "    }\n",
       "\n",
       "    .dataframe thead th {\n",
       "        text-align: right;\n",
       "    }\n",
       "</style>\n",
       "<table border=\"1\" class=\"dataframe\">\n",
       "  <thead>\n",
       "    <tr style=\"text-align: right;\">\n",
       "      <th></th>\n",
       "      <th>id</th>\n",
       "      <th>diagnosis</th>\n",
       "      <th>radius_mean</th>\n",
       "      <th>texture_mean</th>\n",
       "      <th>perimeter_mean</th>\n",
       "      <th>area_mean</th>\n",
       "      <th>smoothness_mean</th>\n",
       "      <th>compactness_mean</th>\n",
       "      <th>concavity_mean</th>\n",
       "      <th>concave points_mean</th>\n",
       "      <th>...</th>\n",
       "      <th>texture_worst</th>\n",
       "      <th>perimeter_worst</th>\n",
       "      <th>area_worst</th>\n",
       "      <th>smoothness_worst</th>\n",
       "      <th>compactness_worst</th>\n",
       "      <th>concavity_worst</th>\n",
       "      <th>concave points_worst</th>\n",
       "      <th>symmetry_worst</th>\n",
       "      <th>fractal_dimension_worst</th>\n",
       "      <th>Unnamed: 32</th>\n",
       "    </tr>\n",
       "  </thead>\n",
       "  <tbody>\n",
       "    <tr>\n",
       "      <th>0</th>\n",
       "      <td>842302</td>\n",
       "      <td>M</td>\n",
       "      <td>17.99</td>\n",
       "      <td>10.38</td>\n",
       "      <td>122.80</td>\n",
       "      <td>1001.0</td>\n",
       "      <td>0.11840</td>\n",
       "      <td>0.27760</td>\n",
       "      <td>0.30010</td>\n",
       "      <td>0.14710</td>\n",
       "      <td>...</td>\n",
       "      <td>17.33</td>\n",
       "      <td>184.60</td>\n",
       "      <td>2019.0</td>\n",
       "      <td>0.16220</td>\n",
       "      <td>0.66560</td>\n",
       "      <td>0.7119</td>\n",
       "      <td>0.2654</td>\n",
       "      <td>0.4601</td>\n",
       "      <td>0.11890</td>\n",
       "      <td>NaN</td>\n",
       "    </tr>\n",
       "    <tr>\n",
       "      <th>1</th>\n",
       "      <td>842517</td>\n",
       "      <td>M</td>\n",
       "      <td>20.57</td>\n",
       "      <td>17.77</td>\n",
       "      <td>132.90</td>\n",
       "      <td>1326.0</td>\n",
       "      <td>0.08474</td>\n",
       "      <td>0.07864</td>\n",
       "      <td>0.08690</td>\n",
       "      <td>0.07017</td>\n",
       "      <td>...</td>\n",
       "      <td>23.41</td>\n",
       "      <td>158.80</td>\n",
       "      <td>1956.0</td>\n",
       "      <td>0.12380</td>\n",
       "      <td>0.18660</td>\n",
       "      <td>0.2416</td>\n",
       "      <td>0.1860</td>\n",
       "      <td>0.2750</td>\n",
       "      <td>0.08902</td>\n",
       "      <td>NaN</td>\n",
       "    </tr>\n",
       "    <tr>\n",
       "      <th>2</th>\n",
       "      <td>84300903</td>\n",
       "      <td>M</td>\n",
       "      <td>19.69</td>\n",
       "      <td>21.25</td>\n",
       "      <td>130.00</td>\n",
       "      <td>1203.0</td>\n",
       "      <td>0.10960</td>\n",
       "      <td>0.15990</td>\n",
       "      <td>0.19740</td>\n",
       "      <td>0.12790</td>\n",
       "      <td>...</td>\n",
       "      <td>25.53</td>\n",
       "      <td>152.50</td>\n",
       "      <td>1709.0</td>\n",
       "      <td>0.14440</td>\n",
       "      <td>0.42450</td>\n",
       "      <td>0.4504</td>\n",
       "      <td>0.2430</td>\n",
       "      <td>0.3613</td>\n",
       "      <td>0.08758</td>\n",
       "      <td>NaN</td>\n",
       "    </tr>\n",
       "    <tr>\n",
       "      <th>3</th>\n",
       "      <td>84348301</td>\n",
       "      <td>M</td>\n",
       "      <td>11.42</td>\n",
       "      <td>20.38</td>\n",
       "      <td>77.58</td>\n",
       "      <td>386.1</td>\n",
       "      <td>0.14250</td>\n",
       "      <td>0.28390</td>\n",
       "      <td>0.24140</td>\n",
       "      <td>0.10520</td>\n",
       "      <td>...</td>\n",
       "      <td>26.50</td>\n",
       "      <td>98.87</td>\n",
       "      <td>567.7</td>\n",
       "      <td>0.20980</td>\n",
       "      <td>0.86630</td>\n",
       "      <td>0.6869</td>\n",
       "      <td>0.2575</td>\n",
       "      <td>0.6638</td>\n",
       "      <td>0.17300</td>\n",
       "      <td>NaN</td>\n",
       "    </tr>\n",
       "    <tr>\n",
       "      <th>4</th>\n",
       "      <td>84358402</td>\n",
       "      <td>M</td>\n",
       "      <td>20.29</td>\n",
       "      <td>14.34</td>\n",
       "      <td>135.10</td>\n",
       "      <td>1297.0</td>\n",
       "      <td>0.10030</td>\n",
       "      <td>0.13280</td>\n",
       "      <td>0.19800</td>\n",
       "      <td>0.10430</td>\n",
       "      <td>...</td>\n",
       "      <td>16.67</td>\n",
       "      <td>152.20</td>\n",
       "      <td>1575.0</td>\n",
       "      <td>0.13740</td>\n",
       "      <td>0.20500</td>\n",
       "      <td>0.4000</td>\n",
       "      <td>0.1625</td>\n",
       "      <td>0.2364</td>\n",
       "      <td>0.07678</td>\n",
       "      <td>NaN</td>\n",
       "    </tr>\n",
       "    <tr>\n",
       "      <th>...</th>\n",
       "      <td>...</td>\n",
       "      <td>...</td>\n",
       "      <td>...</td>\n",
       "      <td>...</td>\n",
       "      <td>...</td>\n",
       "      <td>...</td>\n",
       "      <td>...</td>\n",
       "      <td>...</td>\n",
       "      <td>...</td>\n",
       "      <td>...</td>\n",
       "      <td>...</td>\n",
       "      <td>...</td>\n",
       "      <td>...</td>\n",
       "      <td>...</td>\n",
       "      <td>...</td>\n",
       "      <td>...</td>\n",
       "      <td>...</td>\n",
       "      <td>...</td>\n",
       "      <td>...</td>\n",
       "      <td>...</td>\n",
       "      <td>...</td>\n",
       "    </tr>\n",
       "    <tr>\n",
       "      <th>564</th>\n",
       "      <td>926424</td>\n",
       "      <td>M</td>\n",
       "      <td>21.56</td>\n",
       "      <td>22.39</td>\n",
       "      <td>142.00</td>\n",
       "      <td>1479.0</td>\n",
       "      <td>0.11100</td>\n",
       "      <td>0.11590</td>\n",
       "      <td>0.24390</td>\n",
       "      <td>0.13890</td>\n",
       "      <td>...</td>\n",
       "      <td>26.40</td>\n",
       "      <td>166.10</td>\n",
       "      <td>2027.0</td>\n",
       "      <td>0.14100</td>\n",
       "      <td>0.21130</td>\n",
       "      <td>0.4107</td>\n",
       "      <td>0.2216</td>\n",
       "      <td>0.2060</td>\n",
       "      <td>0.07115</td>\n",
       "      <td>NaN</td>\n",
       "    </tr>\n",
       "    <tr>\n",
       "      <th>565</th>\n",
       "      <td>926682</td>\n",
       "      <td>M</td>\n",
       "      <td>20.13</td>\n",
       "      <td>28.25</td>\n",
       "      <td>131.20</td>\n",
       "      <td>1261.0</td>\n",
       "      <td>0.09780</td>\n",
       "      <td>0.10340</td>\n",
       "      <td>0.14400</td>\n",
       "      <td>0.09791</td>\n",
       "      <td>...</td>\n",
       "      <td>38.25</td>\n",
       "      <td>155.00</td>\n",
       "      <td>1731.0</td>\n",
       "      <td>0.11660</td>\n",
       "      <td>0.19220</td>\n",
       "      <td>0.3215</td>\n",
       "      <td>0.1628</td>\n",
       "      <td>0.2572</td>\n",
       "      <td>0.06637</td>\n",
       "      <td>NaN</td>\n",
       "    </tr>\n",
       "    <tr>\n",
       "      <th>566</th>\n",
       "      <td>926954</td>\n",
       "      <td>M</td>\n",
       "      <td>16.60</td>\n",
       "      <td>28.08</td>\n",
       "      <td>108.30</td>\n",
       "      <td>858.1</td>\n",
       "      <td>0.08455</td>\n",
       "      <td>0.10230</td>\n",
       "      <td>0.09251</td>\n",
       "      <td>0.05302</td>\n",
       "      <td>...</td>\n",
       "      <td>34.12</td>\n",
       "      <td>126.70</td>\n",
       "      <td>1124.0</td>\n",
       "      <td>0.11390</td>\n",
       "      <td>0.30940</td>\n",
       "      <td>0.3403</td>\n",
       "      <td>0.1418</td>\n",
       "      <td>0.2218</td>\n",
       "      <td>0.07820</td>\n",
       "      <td>NaN</td>\n",
       "    </tr>\n",
       "    <tr>\n",
       "      <th>567</th>\n",
       "      <td>927241</td>\n",
       "      <td>M</td>\n",
       "      <td>20.60</td>\n",
       "      <td>29.33</td>\n",
       "      <td>140.10</td>\n",
       "      <td>1265.0</td>\n",
       "      <td>0.11780</td>\n",
       "      <td>0.27700</td>\n",
       "      <td>0.35140</td>\n",
       "      <td>0.15200</td>\n",
       "      <td>...</td>\n",
       "      <td>39.42</td>\n",
       "      <td>184.60</td>\n",
       "      <td>1821.0</td>\n",
       "      <td>0.16500</td>\n",
       "      <td>0.86810</td>\n",
       "      <td>0.9387</td>\n",
       "      <td>0.2650</td>\n",
       "      <td>0.4087</td>\n",
       "      <td>0.12400</td>\n",
       "      <td>NaN</td>\n",
       "    </tr>\n",
       "    <tr>\n",
       "      <th>568</th>\n",
       "      <td>92751</td>\n",
       "      <td>B</td>\n",
       "      <td>7.76</td>\n",
       "      <td>24.54</td>\n",
       "      <td>47.92</td>\n",
       "      <td>181.0</td>\n",
       "      <td>0.05263</td>\n",
       "      <td>0.04362</td>\n",
       "      <td>0.00000</td>\n",
       "      <td>0.00000</td>\n",
       "      <td>...</td>\n",
       "      <td>30.37</td>\n",
       "      <td>59.16</td>\n",
       "      <td>268.6</td>\n",
       "      <td>0.08996</td>\n",
       "      <td>0.06444</td>\n",
       "      <td>0.0000</td>\n",
       "      <td>0.0000</td>\n",
       "      <td>0.2871</td>\n",
       "      <td>0.07039</td>\n",
       "      <td>NaN</td>\n",
       "    </tr>\n",
       "  </tbody>\n",
       "</table>\n",
       "<p>569 rows × 33 columns</p>\n",
       "</div>"
      ],
      "text/plain": [
       "           id diagnosis  radius_mean  texture_mean  perimeter_mean  area_mean  \\\n",
       "0      842302         M        17.99         10.38          122.80     1001.0   \n",
       "1      842517         M        20.57         17.77          132.90     1326.0   \n",
       "2    84300903         M        19.69         21.25          130.00     1203.0   \n",
       "3    84348301         M        11.42         20.38           77.58      386.1   \n",
       "4    84358402         M        20.29         14.34          135.10     1297.0   \n",
       "..        ...       ...          ...           ...             ...        ...   \n",
       "564    926424         M        21.56         22.39          142.00     1479.0   \n",
       "565    926682         M        20.13         28.25          131.20     1261.0   \n",
       "566    926954         M        16.60         28.08          108.30      858.1   \n",
       "567    927241         M        20.60         29.33          140.10     1265.0   \n",
       "568     92751         B         7.76         24.54           47.92      181.0   \n",
       "\n",
       "     smoothness_mean  compactness_mean  concavity_mean  concave points_mean  \\\n",
       "0            0.11840           0.27760         0.30010              0.14710   \n",
       "1            0.08474           0.07864         0.08690              0.07017   \n",
       "2            0.10960           0.15990         0.19740              0.12790   \n",
       "3            0.14250           0.28390         0.24140              0.10520   \n",
       "4            0.10030           0.13280         0.19800              0.10430   \n",
       "..               ...               ...             ...                  ...   \n",
       "564          0.11100           0.11590         0.24390              0.13890   \n",
       "565          0.09780           0.10340         0.14400              0.09791   \n",
       "566          0.08455           0.10230         0.09251              0.05302   \n",
       "567          0.11780           0.27700         0.35140              0.15200   \n",
       "568          0.05263           0.04362         0.00000              0.00000   \n",
       "\n",
       "     ...  texture_worst  perimeter_worst  area_worst  smoothness_worst  \\\n",
       "0    ...          17.33           184.60      2019.0           0.16220   \n",
       "1    ...          23.41           158.80      1956.0           0.12380   \n",
       "2    ...          25.53           152.50      1709.0           0.14440   \n",
       "3    ...          26.50            98.87       567.7           0.20980   \n",
       "4    ...          16.67           152.20      1575.0           0.13740   \n",
       "..   ...            ...              ...         ...               ...   \n",
       "564  ...          26.40           166.10      2027.0           0.14100   \n",
       "565  ...          38.25           155.00      1731.0           0.11660   \n",
       "566  ...          34.12           126.70      1124.0           0.11390   \n",
       "567  ...          39.42           184.60      1821.0           0.16500   \n",
       "568  ...          30.37            59.16       268.6           0.08996   \n",
       "\n",
       "     compactness_worst  concavity_worst  concave points_worst  symmetry_worst  \\\n",
       "0              0.66560           0.7119                0.2654          0.4601   \n",
       "1              0.18660           0.2416                0.1860          0.2750   \n",
       "2              0.42450           0.4504                0.2430          0.3613   \n",
       "3              0.86630           0.6869                0.2575          0.6638   \n",
       "4              0.20500           0.4000                0.1625          0.2364   \n",
       "..                 ...              ...                   ...             ...   \n",
       "564            0.21130           0.4107                0.2216          0.2060   \n",
       "565            0.19220           0.3215                0.1628          0.2572   \n",
       "566            0.30940           0.3403                0.1418          0.2218   \n",
       "567            0.86810           0.9387                0.2650          0.4087   \n",
       "568            0.06444           0.0000                0.0000          0.2871   \n",
       "\n",
       "     fractal_dimension_worst  Unnamed: 32  \n",
       "0                    0.11890          NaN  \n",
       "1                    0.08902          NaN  \n",
       "2                    0.08758          NaN  \n",
       "3                    0.17300          NaN  \n",
       "4                    0.07678          NaN  \n",
       "..                       ...          ...  \n",
       "564                  0.07115          NaN  \n",
       "565                  0.06637          NaN  \n",
       "566                  0.07820          NaN  \n",
       "567                  0.12400          NaN  \n",
       "568                  0.07039          NaN  \n",
       "\n",
       "[569 rows x 33 columns]"
      ]
     },
     "execution_count": 3,
     "metadata": {},
     "output_type": "execute_result"
    }
   ],
   "source": [
    "df"
   ]
  },
  {
   "cell_type": "code",
   "execution_count": 4,
   "id": "undefined-costa",
   "metadata": {
    "execution": {
     "iopub.execute_input": "2021-06-25T13:56:11.106289Z",
     "iopub.status.busy": "2021-06-25T13:56:11.088702Z",
     "iopub.status.idle": "2021-06-25T13:56:11.109439Z",
     "shell.execute_reply": "2021-06-25T13:56:11.109903Z",
     "shell.execute_reply.started": "2021-06-25T13:55:42.266448Z"
    },
    "papermill": {
     "duration": 0.053482,
     "end_time": "2021-06-25T13:56:11.110105",
     "exception": false,
     "start_time": "2021-06-25T13:56:11.056623",
     "status": "completed"
    },
    "tags": []
   },
   "outputs": [
    {
     "name": "stdout",
     "output_type": "stream",
     "text": [
      "<class 'pandas.core.frame.DataFrame'>\n",
      "RangeIndex: 569 entries, 0 to 568\n",
      "Data columns (total 33 columns):\n",
      " #   Column                   Non-Null Count  Dtype  \n",
      "---  ------                   --------------  -----  \n",
      " 0   id                       569 non-null    int64  \n",
      " 1   diagnosis                569 non-null    object \n",
      " 2   radius_mean              569 non-null    float64\n",
      " 3   texture_mean             569 non-null    float64\n",
      " 4   perimeter_mean           569 non-null    float64\n",
      " 5   area_mean                569 non-null    float64\n",
      " 6   smoothness_mean          569 non-null    float64\n",
      " 7   compactness_mean         569 non-null    float64\n",
      " 8   concavity_mean           569 non-null    float64\n",
      " 9   concave points_mean      569 non-null    float64\n",
      " 10  symmetry_mean            569 non-null    float64\n",
      " 11  fractal_dimension_mean   569 non-null    float64\n",
      " 12  radius_se                569 non-null    float64\n",
      " 13  texture_se               569 non-null    float64\n",
      " 14  perimeter_se             569 non-null    float64\n",
      " 15  area_se                  569 non-null    float64\n",
      " 16  smoothness_se            569 non-null    float64\n",
      " 17  compactness_se           569 non-null    float64\n",
      " 18  concavity_se             569 non-null    float64\n",
      " 19  concave points_se        569 non-null    float64\n",
      " 20  symmetry_se              569 non-null    float64\n",
      " 21  fractal_dimension_se     569 non-null    float64\n",
      " 22  radius_worst             569 non-null    float64\n",
      " 23  texture_worst            569 non-null    float64\n",
      " 24  perimeter_worst          569 non-null    float64\n",
      " 25  area_worst               569 non-null    float64\n",
      " 26  smoothness_worst         569 non-null    float64\n",
      " 27  compactness_worst        569 non-null    float64\n",
      " 28  concavity_worst          569 non-null    float64\n",
      " 29  concave points_worst     569 non-null    float64\n",
      " 30  symmetry_worst           569 non-null    float64\n",
      " 31  fractal_dimension_worst  569 non-null    float64\n",
      " 32  Unnamed: 32              0 non-null      float64\n",
      "dtypes: float64(31), int64(1), object(1)\n",
      "memory usage: 146.8+ KB\n"
     ]
    }
   ],
   "source": [
    "df.info()"
   ]
  },
  {
   "cell_type": "markdown",
   "id": "competitive-curve",
   "metadata": {
    "papermill": {
     "duration": 0.025961,
     "end_time": "2021-06-25T13:56:11.162916",
     "exception": false,
     "start_time": "2021-06-25T13:56:11.136955",
     "status": "completed"
    },
    "tags": []
   },
   "source": [
    "<center><span style=\"font-size:27px;color:#9ACD32;font-weight:bold\">Checking NaNs"
   ]
  },
  {
   "cell_type": "code",
   "execution_count": 5,
   "id": "contemporary-mileage",
   "metadata": {
    "execution": {
     "iopub.execute_input": "2021-06-25T13:56:11.222741Z",
     "iopub.status.busy": "2021-06-25T13:56:11.221795Z",
     "iopub.status.idle": "2021-06-25T13:56:11.226969Z",
     "shell.execute_reply": "2021-06-25T13:56:11.226343Z",
     "shell.execute_reply.started": "2021-06-25T13:55:42.284282Z"
    },
    "papermill": {
     "duration": 0.038653,
     "end_time": "2021-06-25T13:56:11.227118",
     "exception": false,
     "start_time": "2021-06-25T13:56:11.188465",
     "status": "completed"
    },
    "tags": []
   },
   "outputs": [
    {
     "data": {
      "text/plain": [
       "id                           0\n",
       "diagnosis                    0\n",
       "radius_mean                  0\n",
       "texture_mean                 0\n",
       "perimeter_mean               0\n",
       "area_mean                    0\n",
       "smoothness_mean              0\n",
       "compactness_mean             0\n",
       "concavity_mean               0\n",
       "concave points_mean          0\n",
       "symmetry_mean                0\n",
       "fractal_dimension_mean       0\n",
       "radius_se                    0\n",
       "texture_se                   0\n",
       "perimeter_se                 0\n",
       "area_se                      0\n",
       "smoothness_se                0\n",
       "compactness_se               0\n",
       "concavity_se                 0\n",
       "concave points_se            0\n",
       "symmetry_se                  0\n",
       "fractal_dimension_se         0\n",
       "radius_worst                 0\n",
       "texture_worst                0\n",
       "perimeter_worst              0\n",
       "area_worst                   0\n",
       "smoothness_worst             0\n",
       "compactness_worst            0\n",
       "concavity_worst              0\n",
       "concave points_worst         0\n",
       "symmetry_worst               0\n",
       "fractal_dimension_worst      0\n",
       "Unnamed: 32                569\n",
       "dtype: int64"
      ]
     },
     "execution_count": 5,
     "metadata": {},
     "output_type": "execute_result"
    }
   ],
   "source": [
    "df.isna().sum()"
   ]
  },
  {
   "cell_type": "code",
   "execution_count": 6,
   "id": "shared-composite",
   "metadata": {
    "execution": {
     "iopub.execute_input": "2021-06-25T13:56:11.286199Z",
     "iopub.status.busy": "2021-06-25T13:56:11.285509Z",
     "iopub.status.idle": "2021-06-25T13:56:11.287487Z",
     "shell.execute_reply": "2021-06-25T13:56:11.288201Z",
     "shell.execute_reply.started": "2021-06-25T13:55:42.304789Z"
    },
    "papermill": {
     "duration": 0.035152,
     "end_time": "2021-06-25T13:56:11.288381",
     "exception": false,
     "start_time": "2021-06-25T13:56:11.253229",
     "status": "completed"
    },
    "tags": []
   },
   "outputs": [],
   "source": [
    "df.drop(['Unnamed: 32'],axis =1,inplace = True) #entire column is null"
   ]
  },
  {
   "cell_type": "code",
   "execution_count": 7,
   "id": "8229bdb8",
   "metadata": {},
   "outputs": [],
   "source": [
    "df.diagnosis.replace(to_replace=['B','M'],value=[0,1],inplace=True) # converting categorical varaibles "
   ]
  },
  {
   "cell_type": "code",
   "execution_count": 8,
   "id": "computational-attention",
   "metadata": {
    "execution": {
     "iopub.execute_input": "2021-06-25T13:56:11.343864Z",
     "iopub.status.busy": "2021-06-25T13:56:11.343155Z",
     "iopub.status.idle": "2021-06-25T13:56:11.502919Z",
     "shell.execute_reply": "2021-06-25T13:56:11.503478Z",
     "shell.execute_reply.started": "2021-06-25T13:55:42.322468Z"
    },
    "papermill": {
     "duration": 0.18933,
     "end_time": "2021-06-25T13:56:11.503656",
     "exception": false,
     "start_time": "2021-06-25T13:56:11.314326",
     "status": "completed"
    },
    "scrolled": true,
    "tags": []
   },
   "outputs": [
    {
     "data": {
      "text/plain": [
       "<Axes: ylabel='count'>"
      ]
     },
     "execution_count": 8,
     "metadata": {},
     "output_type": "execute_result"
    },
    {
     "data": {
      "image/png": "[encoded data removed]",
      "text/plain": [
       "<Figure size 640x480 with 1 Axes>"
      ]
     },
     "metadata": {},
     "output_type": "display_data"
    }
   ],
   "source": [
    "sns.countplot(df.diagnosis,palette=\"YlGnBu\")"
   ]
  },
  {
   "cell_type": "markdown",
   "id": "macro-england",
   "metadata": {
    "papermill": {
     "duration": 0.026696,
     "end_time": "2021-06-25T13:56:11.558540",
     "exception": false,
     "start_time": "2021-06-25T13:56:11.531844",
     "status": "completed"
    },
    "tags": []
   },
   "source": [
    "# correlation"
   ]
  },
  {
   "cell_type": "code",
   "execution_count": 9,
   "id": "polyphonic-buddy",
   "metadata": {
    "execution": {
     "iopub.execute_input": "2021-06-25T13:56:11.616309Z",
     "iopub.status.busy": "2021-06-25T13:56:11.615706Z",
     "iopub.status.idle": "2021-06-25T13:56:12.108635Z",
     "shell.execute_reply": "2021-06-25T13:56:12.108071Z",
     "shell.execute_reply.started": "2021-06-25T13:55:42.442389Z"
    },
    "papermill": {
     "duration": 0.523384,
     "end_time": "2021-06-25T13:56:12.108829",
     "exception": false,
     "start_time": "2021-06-25T13:56:11.585445",
     "status": "completed"
    },
    "tags": []
   },
   "outputs": [
    {
     "data": {
      "text/plain": [
       "<Axes: >"
      ]
     },
     "execution_count": 9,
     "metadata": {},
     "output_type": "execute_result"
    },
    {
     "data": {
      "image/png": "[encoded data removed]",
      "text/plain": [
       "<Figure size 1500x800 with 2 Axes>"
      ]
     },
     "metadata": {},
     "output_type": "display_data"
    }
   ],
   "source": [
    "plt.figure(figsize=(15,8))\n",
    "sns.heatmap(df.corr(),linewidths=.9, yticklabels=False,cmap=\"YlGnBu\",square=False,linecolor='black')"
   ]
  },
  {
   "cell_type": "markdown",
   "id": "quick-draft",
   "metadata": {
    "papermill": {
     "duration": 0.030008,
     "end_time": "2021-06-25T13:56:12.238346",
     "exception": false,
     "start_time": "2021-06-25T13:56:12.208338",
     "status": "completed"
    },
    "tags": []
   },
   "source": [
    "# split the data\n"
   ]
  },
  {
   "cell_type": "code",
   "execution_count": 10,
   "id": "natural-experience",
   "metadata": {
    "execution": {
     "iopub.execute_input": "2021-06-25T13:56:12.310000Z",
     "iopub.status.busy": "2021-06-25T13:56:12.309218Z",
     "iopub.status.idle": "2021-06-25T13:56:12.312018Z",
     "shell.execute_reply": "2021-06-25T13:56:12.312497Z",
     "shell.execute_reply.started": "2021-06-25T13:55:42.955419Z"
    },
    "papermill": {
     "duration": 0.042641,
     "end_time": "2021-06-25T13:56:12.312692",
     "exception": false,
     "start_time": "2021-06-25T13:56:12.270051",
     "status": "completed"
    },
    "tags": []
   },
   "outputs": [],
   "source": [
    "x= df.drop(['diagnosis','id'],axis =1)\n",
    "y = df.diagnosis"
   ]
  },
  {
   "cell_type": "code",
   "execution_count": 11,
   "id": "prerequisite-sense",
   "metadata": {
    "execution": {
     "iopub.execute_input": "2021-06-25T13:56:12.379650Z",
     "iopub.status.busy": "2021-06-25T13:56:12.378756Z",
     "iopub.status.idle": "2021-06-25T13:56:12.390041Z",
     "shell.execute_reply": "2021-06-25T13:56:12.389402Z",
     "shell.execute_reply.started": "2021-06-25T13:55:42.971456Z"
    },
    "papermill": {
     "duration": 0.045111,
     "end_time": "2021-06-25T13:56:12.390200",
     "exception": false,
     "start_time": "2021-06-25T13:56:12.345089",
     "status": "completed"
    },
    "tags": []
   },
   "outputs": [],
   "source": [
    "sc = StandardScaler()\n",
    "x = sc.fit_transform(x)"
   ]
  },
  {
   "cell_type": "code",
   "execution_count": 32,
   "id": "boring-sheriff",
   "metadata": {
    "execution": {
     "iopub.execute_input": "2021-06-25T13:56:12.459011Z",
     "iopub.status.busy": "2021-06-25T13:56:12.458310Z",
     "iopub.status.idle": "2021-06-25T13:56:12.461424Z",
     "shell.execute_reply": "2021-06-25T13:56:12.460816Z",
     "shell.execute_reply.started": "2021-06-25T13:55:43.847556Z"
    },
    "papermill": {
     "duration": 0.041037,
     "end_time": "2021-06-25T13:56:12.461568",
     "exception": false,
     "start_time": "2021-06-25T13:56:12.420531",
     "status": "completed"
    },
    "tags": []
   },
   "outputs": [],
   "source": [
    "x_train,x_test,y_train,y_test = train_test_split(x,y,test_size=0.2,random_state=11)\n",
    "## accuracy may vary due to change in value of random state"
   ]
  },
  {
   "cell_type": "markdown",
   "id": "checked-advertising",
   "metadata": {
    "papermill": {
     "duration": 0.029729,
     "end_time": "2021-06-25T13:56:12.521703",
     "exception": false,
     "start_time": "2021-06-25T13:56:12.491974",
     "status": "completed"
    },
    "tags": []
   },
   "source": [
    "# model fitting\n"
   ]
  },
  {
   "cell_type": "code",
   "execution_count": 13,
   "id": "conditional-terrain",
   "metadata": {
    "execution": {
     "iopub.execute_input": "2021-06-25T13:56:12.598082Z",
     "iopub.status.busy": "2021-06-25T13:56:12.597041Z",
     "iopub.status.idle": "2021-06-25T13:56:12.624945Z",
     "shell.execute_reply": "2021-06-25T13:56:12.626161Z",
     "shell.execute_reply.started": "2021-06-25T13:55:44.005997Z"
    },
    "papermill": {
     "duration": 0.074616,
     "end_time": "2021-06-25T13:56:12.626452",
     "exception": false,
     "start_time": "2021-06-25T13:56:12.551836",
     "status": "completed"
    },
    "tags": []
   },
   "outputs": [
    {
     "data": {
      "text/plain": [
       "0.9824561403508771"
      ]
     },
     "execution_count": 13,
     "metadata": {},
     "output_type": "execute_result"
    }
   ],
   "source": [
    "acc = {}\n",
    "lr = LogisticRegression()\n",
    "lr.fit(x_train,y_train)\n",
    "acc['Logistic Regression'] = accuracy_score(y_test,lr.predict(x_test))\n",
    "accuracy_score(y_test,lr.predict(x_test))"
   ]
  },
  {
   "cell_type": "code",
   "execution_count": 14,
   "id": "virgin-kinase",
   "metadata": {
    "execution": {
     "iopub.execute_input": "2021-06-25T13:56:12.743783Z",
     "iopub.status.busy": "2021-06-25T13:56:12.742570Z",
     "iopub.status.idle": "2021-06-25T13:56:12.775898Z",
     "shell.execute_reply": "2021-06-25T13:56:12.776989Z",
     "shell.execute_reply.started": "2021-06-25T13:55:44.108617Z"
    },
    "papermill": {
     "duration": 0.096071,
     "end_time": "2021-06-25T13:56:12.777327",
     "exception": false,
     "start_time": "2021-06-25T13:56:12.681256",
     "status": "completed"
    },
    "tags": []
   },
   "outputs": [
    {
     "data": {
      "text/plain": [
       "0.9736842105263158"
      ]
     },
     "execution_count": 14,
     "metadata": {},
     "output_type": "execute_result"
    }
   ],
   "source": [
    "knn = KNeighborsClassifier()\n",
    "knn.fit(x_train,y_train)\n",
    "acc['K Nearest Neighbors'] = accuracy_score(y_test,knn.predict(x_test))\n",
    "accuracy_score(y_test,knn.predict(x_test))"
   ]
  },
  {
   "cell_type": "code",
   "execution_count": 15,
   "id": "attempted-asian",
   "metadata": {
    "execution": {
     "iopub.execute_input": "2021-06-25T13:56:12.893100Z",
     "iopub.status.busy": "2021-06-25T13:56:12.892408Z",
     "iopub.status.idle": "2021-06-25T13:56:12.905908Z",
     "shell.execute_reply": "2021-06-25T13:56:12.905372Z",
     "shell.execute_reply.started": "2021-06-25T13:55:44.155075Z"
    },
    "papermill": {
     "duration": 0.07127,
     "end_time": "2021-06-25T13:56:12.906068",
     "exception": false,
     "start_time": "2021-06-25T13:56:12.834798",
     "status": "completed"
    },
    "tags": []
   },
   "outputs": [
    {
     "data": {
      "text/plain": [
       "0.956140350877193"
      ]
     },
     "execution_count": 15,
     "metadata": {},
     "output_type": "execute_result"
    }
   ],
   "source": [
    "dtc = DecisionTreeClassifier()\n",
    "dtc.fit(x_train,y_train)\n",
    "acc['Decision Tree'] = accuracy_score(y_test,dtc.predict(x_test))\n",
    "accuracy_score(y_test,dtc.predict(x_test))"
   ]
  },
  {
   "cell_type": "code",
   "execution_count": 16,
   "id": "thermal-regard",
   "metadata": {
    "execution": {
     "iopub.execute_input": "2021-06-25T13:56:12.975249Z",
     "iopub.status.busy": "2021-06-25T13:56:12.974445Z",
     "iopub.status.idle": "2021-06-25T13:56:13.388160Z",
     "shell.execute_reply": "2021-06-25T13:56:13.388727Z",
     "shell.execute_reply.started": "2021-06-25T13:55:44.210888Z"
    },
    "papermill": {
     "duration": 0.45195,
     "end_time": "2021-06-25T13:56:13.388959",
     "exception": false,
     "start_time": "2021-06-25T13:56:12.937009",
     "status": "completed"
    },
    "tags": []
   },
   "outputs": [
    {
     "data": {
      "text/plain": [
       "0.9824561403508771"
      ]
     },
     "execution_count": 16,
     "metadata": {},
     "output_type": "execute_result"
    }
   ],
   "source": [
    "his = HistGradientBoostingClassifier()\n",
    "his.fit(x_train,y_train)\n",
    "acc['Hist Gradient Boosting'] = accuracy_score(y_test,his.predict(x_test))\n",
    "accuracy_score(y_test,his.predict(x_test))"
   ]
  },
  {
   "cell_type": "code",
   "execution_count": 17,
   "id": "buried-genealogy",
   "metadata": {
    "execution": {
     "iopub.execute_input": "2021-06-25T13:56:13.504940Z",
     "iopub.status.busy": "2021-06-25T13:56:13.468868Z",
     "iopub.status.idle": "2021-06-25T13:56:13.744431Z",
     "shell.execute_reply": "2021-06-25T13:56:13.743830Z",
     "shell.execute_reply.started": "2021-06-25T13:55:44.577286Z"
    },
    "papermill": {
     "duration": 0.323473,
     "end_time": "2021-06-25T13:56:13.744611",
     "exception": false,
     "start_time": "2021-06-25T13:56:13.421138",
     "status": "completed"
    },
    "tags": []
   },
   "outputs": [
    {
     "data": {
      "text/plain": [
       "0.9824561403508771"
      ]
     },
     "execution_count": 17,
     "metadata": {},
     "output_type": "execute_result"
    }
   ],
   "source": [
    "rfc = RandomForestClassifier()\n",
    "rfc.fit(x_train,y_train)\n",
    "acc['Random Forest'] = accuracy_score(y_test,rfc.predict(x_test))\n",
    "accuracy_score(y_test,rfc.predict(x_test))"
   ]
  },
  {
   "cell_type": "code",
   "execution_count": 18,
   "id": "aquatic-composition",
   "metadata": {
    "execution": {
     "iopub.execute_input": "2021-06-25T13:56:13.815351Z",
     "iopub.status.busy": "2021-06-25T13:56:13.814700Z",
     "iopub.status.idle": "2021-06-25T13:56:14.005198Z",
     "shell.execute_reply": "2021-06-25T13:56:14.004544Z",
     "shell.execute_reply.started": "2021-06-25T13:55:44.853198Z"
    },
    "papermill": {
     "duration": 0.228534,
     "end_time": "2021-06-25T13:56:14.005357",
     "exception": false,
     "start_time": "2021-06-25T13:56:13.776823",
     "status": "completed"
    },
    "tags": []
   },
   "outputs": [
    {
     "data": {
      "text/plain": [
       "0.9912280701754386"
      ]
     },
     "execution_count": 18,
     "metadata": {},
     "output_type": "execute_result"
    }
   ],
   "source": [
    "abc = AdaBoostClassifier()\n",
    "abc.fit(x_train,y_train)\n",
    "acc['Ada Boost'] = accuracy_score(y_test,abc.predict(x_test))\n",
    "accuracy_score(y_test,abc.predict(x_test))"
   ]
  },
  {
   "cell_type": "code",
   "execution_count": 19,
   "id": "circular-confidentiality",
   "metadata": {
    "execution": {
     "iopub.execute_input": "2021-06-25T13:56:14.078043Z",
     "iopub.status.busy": "2021-06-25T13:56:14.077309Z",
     "iopub.status.idle": "2021-06-25T13:56:14.193878Z",
     "shell.execute_reply": "2021-06-25T13:56:14.194375Z",
     "shell.execute_reply.started": "2021-06-25T13:55:45.036222Z"
    },
    "papermill": {
     "duration": 0.154807,
     "end_time": "2021-06-25T13:56:14.194591",
     "exception": false,
     "start_time": "2021-06-25T13:56:14.039784",
     "status": "completed"
    },
    "tags": []
   },
   "outputs": [
    {
     "data": {
      "text/plain": [
       "0.9824561403508771"
      ]
     },
     "execution_count": 19,
     "metadata": {},
     "output_type": "execute_result"
    }
   ],
   "source": [
    "xgb = XGBClassifier()\n",
    "xgb.fit(x_train,y_train)\n",
    "acc['XGBoost'] = accuracy_score(y_test,xgb.predict(x_test))\n",
    "accuracy_score(y_test,xgb.predict(x_test))"
   ]
  },
  {
   "cell_type": "code",
   "execution_count": 20,
   "id": "productive-lawsuit",
   "metadata": {
    "execution": {
     "iopub.execute_input": "2021-06-25T13:56:14.609500Z",
     "iopub.status.busy": "2021-06-25T13:56:14.608741Z",
     "iopub.status.idle": "2021-06-25T13:56:14.612056Z",
     "shell.execute_reply": "2021-06-25T13:56:14.611433Z",
     "shell.execute_reply.started": "2021-06-25T13:55:45.247852Z"
    },
    "papermill": {
     "duration": 0.041629,
     "end_time": "2021-06-25T13:56:14.612211",
     "exception": false,
     "start_time": "2021-06-25T13:56:14.570582",
     "status": "completed"
    },
    "tags": []
   },
   "outputs": [],
   "source": [
    "key = list(acc.keys())"
   ]
  },
  {
   "cell_type": "code",
   "execution_count": 21,
   "id": "spectacular-macintosh",
   "metadata": {
    "execution": {
     "iopub.execute_input": "2021-06-25T13:56:14.685163Z",
     "iopub.status.busy": "2021-06-25T13:56:14.684189Z",
     "iopub.status.idle": "2021-06-25T13:56:14.687444Z",
     "shell.execute_reply": "2021-06-25T13:56:14.687927Z",
     "shell.execute_reply.started": "2021-06-25T13:55:45.256410Z"
    },
    "papermill": {
     "duration": 0.043122,
     "end_time": "2021-06-25T13:56:14.688108",
     "exception": false,
     "start_time": "2021-06-25T13:56:14.644986",
     "status": "completed"
    },
    "tags": []
   },
   "outputs": [],
   "source": [
    "val = [float(acc[k]) for k in key]"
   ]
  },
  {
   "cell_type": "code",
   "execution_count": 22,
   "id": "indirect-triple",
   "metadata": {
    "execution": {
     "iopub.execute_input": "2021-06-25T13:56:14.764686Z",
     "iopub.status.busy": "2021-06-25T13:56:14.763472Z",
     "iopub.status.idle": "2021-06-25T13:56:14.766767Z",
     "shell.execute_reply": "2021-06-25T13:56:14.766093Z",
     "shell.execute_reply.started": "2021-06-25T13:55:45.892326Z"
    },
    "papermill": {
     "duration": 0.0449,
     "end_time": "2021-06-25T13:56:14.766929",
     "exception": false,
     "start_time": "2021-06-25T13:56:14.722029",
     "status": "completed"
    },
    "tags": []
   },
   "outputs": [],
   "source": [
    "col = sns.color_palette(\"YlGnBu_r\",8)\n",
    "col = col.as_hex()"
   ]
  },
  {
   "cell_type": "code",
   "execution_count": 28,
   "id": "piano-chicago",
   "metadata": {
    "execution": {
     "iopub.execute_input": "2021-06-25T13:56:14.839122Z",
     "iopub.status.busy": "2021-06-25T13:56:14.837966Z",
     "iopub.status.idle": "2021-06-25T13:56:15.069818Z",
     "shell.execute_reply": "2021-06-25T13:56:15.069233Z",
     "shell.execute_reply.started": "2021-06-25T13:55:45.900760Z"
    },
    "papermill": {
     "duration": 0.26992,
     "end_time": "2021-06-25T13:56:15.069980",
     "exception": false,
     "start_time": "2021-06-25T13:56:14.800060",
     "status": "completed"
    },
    "scrolled": true,
    "tags": []
   },
   "outputs": [
    {
     "data": {
      "image/png": "[encoded data removed]",
      "text/plain": [
       "<Figure size 1600x600 with 1 Axes>"
      ]
     },
     "metadata": {},
     "output_type": "display_data"
    }
   ],
   "source": [
    "fig,acc = plt.subplots(figsize = (16,6))\n",
    "acc = sns.barplot(x = val,y = key,palette=\"YlGnBu\")\n",
    "acc.set_xlim(0,1.1)\n",
    "for i in range(0,len(key)):\n",
    "    acc.text(val[i]-0.05,i,str(np.round(val[i],4)),fontdict = dict(color = col[i],fontsize = 18,ha = 'center'),weight = 'bold')"
   ]
  },
  {
   "cell_type": "markdown",
   "id": "chinese-vancouver",
   "metadata": {
    "papermill": {
     "duration": 0.033684,
     "end_time": "2021-06-25T13:56:15.149067",
     "exception": false,
     "start_time": "2021-06-25T13:56:15.115383",
     "status": "completed"
    },
    "tags": []
   },
   "source": [
    "### Here all the accuracy score we have got may vary with the value of random state. "
   ]
  }
 ],
 "metadata": {
  "kernelspec": {
   "display_name": "Python 3 (ipykernel)",
   "language": "python",
   "name": "python3"
  },
  "language_info": {
   "codemirror_mode": {
    "name": "ipython",
    "version": 3
   },
   "file_extension": ".py",
   "mimetype": "text/x-python",
   "name": "python",
   "nbconvert_exporter": "python",
   "pygments_lexer": "ipython3",
   "version": "3.11.5"
  },
  "papermill": {
   "default_parameters": {},
   "duration": 17.864418,
   "end_time": "2021-06-25T13:56:16.749257",
   "environment_variables": {},
   "exception": null,
   "input_path": "__notebook__.ipynb",
   "output_path": "__notebook__.ipynb",
   "parameters": {},
   "start_time": "2021-06-25T13:55:58.884839",
   "version": "2.3.3"
  }
 },
 "nbformat": 4,
 "nbformat_minor": 5
}
